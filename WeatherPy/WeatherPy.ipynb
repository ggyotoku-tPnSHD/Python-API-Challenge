{
 "cells": [
  {
   "cell_type": "code",
   "execution_count": 1,
   "id": "4f3c7a26",
   "metadata": {},
   "outputs": [
    {
     "data": {
      "application/javascript": [
       "\n",
       "            setTimeout(function() {\n",
       "                var nbb_cell_id = 1;\n",
       "                var nbb_unformatted_code = \"%load_ext nb_black\";\n",
       "                var nbb_formatted_code = \"%load_ext nb_black\";\n",
       "                var nbb_cells = Jupyter.notebook.get_cells();\n",
       "                for (var i = 0; i < nbb_cells.length; ++i) {\n",
       "                    if (nbb_cells[i].input_prompt_number == nbb_cell_id) {\n",
       "                        if (nbb_cells[i].get_text() == nbb_unformatted_code) {\n",
       "                             nbb_cells[i].set_text(nbb_formatted_code);\n",
       "                        }\n",
       "                        break;\n",
       "                    }\n",
       "                }\n",
       "            }, 500);\n",
       "            "
      ],
      "text/plain": [
       "<IPython.core.display.Javascript object>"
      ]
     },
     "metadata": {},
     "output_type": "display_data"
    }
   ],
   "source": [
    "%load_ext nb_black\n"
   ]
  },
  {
   "cell_type": "code",
   "execution_count": 2,
   "id": "91fc419a",
   "metadata": {},
   "outputs": [
    {
     "data": {
      "application/javascript": [
       "\n",
       "            setTimeout(function() {\n",
       "                var nbb_cell_id = 2;\n",
       "                var nbb_unformatted_code = \"import pandas as pd\\nimport os\\nimport numpy as np\\nimport matplotlib.pyplot as plt\\nimport requests\\nimport time\\nimport csv\\nfrom scipy.stats import linregress\\nfrom citipy import citipy\\nfrom apy_keys import weather_apy_key\\n\\nlat_range = (-90, 90)\\nlng_range = (-180, 180)\\n\\noutput_data_file = \\\"../output_data/cities.csv\\\"\";\n",
       "                var nbb_formatted_code = \"import pandas as pd\\nimport os\\nimport numpy as np\\nimport matplotlib.pyplot as plt\\nimport requests\\nimport time\\nimport csv\\nfrom scipy.stats import linregress\\nfrom citipy import citipy\\nfrom apy_keys import weather_apy_key\\n\\nlat_range = (-90, 90)\\nlng_range = (-180, 180)\\n\\noutput_data_file = \\\"../output_data/cities.csv\\\"\";\n",
       "                var nbb_cells = Jupyter.notebook.get_cells();\n",
       "                for (var i = 0; i < nbb_cells.length; ++i) {\n",
       "                    if (nbb_cells[i].input_prompt_number == nbb_cell_id) {\n",
       "                        if (nbb_cells[i].get_text() == nbb_unformatted_code) {\n",
       "                             nbb_cells[i].set_text(nbb_formatted_code);\n",
       "                        }\n",
       "                        break;\n",
       "                    }\n",
       "                }\n",
       "            }, 500);\n",
       "            "
      ],
      "text/plain": [
       "<IPython.core.display.Javascript object>"
      ]
     },
     "metadata": {},
     "output_type": "display_data"
    }
   ],
   "source": [
    "import pandas as pd\n",
    "import os\n",
    "import numpy as np\n",
    "import matplotlib.pyplot as plt\n",
    "import requests\n",
    "import time\n",
    "import csv\n",
    "from scipy.stats import linregress\n",
    "from citipy import citipy\n",
    "from apy_keys import weather_apy_key\n",
    "\n",
    "lat_range = (-90, 90)\n",
    "lng_range = (-180, 180)\n",
    "\n",
    "output_data_file = \"../output_data/cities.csv\"\n"
   ]
  },
  {
   "cell_type": "code",
   "execution_count": 3,
   "id": "36e7883a",
   "metadata": {},
   "outputs": [
    {
     "data": {
      "application/javascript": [
       "\n",
       "            setTimeout(function() {\n",
       "                var nbb_cell_id = 3;\n",
       "                var nbb_unformatted_code = \"lat_lngs = []\\ncities = []\\n\\nlats = np.random.uniform(lat_range[0], lat_range[1], size=1500)\\nlngs = np.random.uniform(lng_range[0], lng_range[1], size=1500)\\nlat_lngs = zip(lats, lngs)\\n\\nfor lat_lng in lat_lngs:\\n    city = citipy.nearest_city(lat_lng[0], lat_lng[1]).city_name\\n\\n    if city not in cities:\\n        cities.append(city)\\nnumber_of_cities = len(cities)\";\n",
       "                var nbb_formatted_code = \"lat_lngs = []\\ncities = []\\n\\nlats = np.random.uniform(lat_range[0], lat_range[1], size=1500)\\nlngs = np.random.uniform(lng_range[0], lng_range[1], size=1500)\\nlat_lngs = zip(lats, lngs)\\n\\nfor lat_lng in lat_lngs:\\n    city = citipy.nearest_city(lat_lng[0], lat_lng[1]).city_name\\n\\n    if city not in cities:\\n        cities.append(city)\\nnumber_of_cities = len(cities)\";\n",
       "                var nbb_cells = Jupyter.notebook.get_cells();\n",
       "                for (var i = 0; i < nbb_cells.length; ++i) {\n",
       "                    if (nbb_cells[i].input_prompt_number == nbb_cell_id) {\n",
       "                        if (nbb_cells[i].get_text() == nbb_unformatted_code) {\n",
       "                             nbb_cells[i].set_text(nbb_formatted_code);\n",
       "                        }\n",
       "                        break;\n",
       "                    }\n",
       "                }\n",
       "            }, 500);\n",
       "            "
      ],
      "text/plain": [
       "<IPython.core.display.Javascript object>"
      ]
     },
     "metadata": {},
     "output_type": "display_data"
    }
   ],
   "source": [
    "lat_lngs = []\n",
    "cities = []\n",
    "\n",
    "lats = np.random.uniform(lat_range[0], lat_range[1], size=1500)\n",
    "lngs = np.random.uniform(lng_range[0], lng_range[1], size=1500)\n",
    "lat_lngs = zip(lats, lngs)\n",
    "\n",
    "for lat_lng in lat_lngs:\n",
    "    city = citipy.nearest_city(lat_lng[0], lat_lng[1]).city_name\n",
    "\n",
    "    if city not in cities:\n",
    "        cities.append(city)\n",
    "number_of_cities = len(cities)\n"
   ]
  },
  {
   "cell_type": "code",
   "execution_count": 4,
   "id": "f654e780",
   "metadata": {},
   "outputs": [
    {
     "data": {
      "text/plain": [
       "608"
      ]
     },
     "execution_count": 4,
     "metadata": {},
     "output_type": "execute_result"
    },
    {
     "data": {
      "application/javascript": [
       "\n",
       "            setTimeout(function() {\n",
       "                var nbb_cell_id = 4;\n",
       "                var nbb_unformatted_code = \"number_of_cities\";\n",
       "                var nbb_formatted_code = \"number_of_cities\";\n",
       "                var nbb_cells = Jupyter.notebook.get_cells();\n",
       "                for (var i = 0; i < nbb_cells.length; ++i) {\n",
       "                    if (nbb_cells[i].input_prompt_number == nbb_cell_id) {\n",
       "                        if (nbb_cells[i].get_text() == nbb_unformatted_code) {\n",
       "                             nbb_cells[i].set_text(nbb_formatted_code);\n",
       "                        }\n",
       "                        break;\n",
       "                    }\n",
       "                }\n",
       "            }, 500);\n",
       "            "
      ],
      "text/plain": [
       "<IPython.core.display.Javascript object>"
      ]
     },
     "metadata": {},
     "output_type": "display_data"
    }
   ],
   "source": [
    "number_of_cities"
   ]
  },
  {
   "cell_type": "code",
   "execution_count": 5,
   "id": "1a451a91",
   "metadata": {},
   "outputs": [
    {
     "data": {
      "application/javascript": [
       "\n",
       "            setTimeout(function() {\n",
       "                var nbb_cell_id = 5;\n",
       "                var nbb_unformatted_code = \"# retrieve the weather for each city\\n# create a list and save each iteration to it of\\n# lat, lng, max temp, humidity, cloudiness, wind speed, country\\n# and date\\n# export cities into a .csv\\n# transform it into a dataframe\";\n",
       "                var nbb_formatted_code = \"# retrieve the weather for each city\\n# create a list and save each iteration to it of\\n# lat, lng, max temp, humidity, cloudiness, wind speed, country\\n# and date\\n# export cities into a .csv\\n# transform it into a dataframe\";\n",
       "                var nbb_cells = Jupyter.notebook.get_cells();\n",
       "                for (var i = 0; i < nbb_cells.length; ++i) {\n",
       "                    if (nbb_cells[i].input_prompt_number == nbb_cell_id) {\n",
       "                        if (nbb_cells[i].get_text() == nbb_unformatted_code) {\n",
       "                             nbb_cells[i].set_text(nbb_formatted_code);\n",
       "                        }\n",
       "                        break;\n",
       "                    }\n",
       "                }\n",
       "            }, 500);\n",
       "            "
      ],
      "text/plain": [
       "<IPython.core.display.Javascript object>"
      ]
     },
     "metadata": {},
     "output_type": "display_data"
    }
   ],
   "source": [
    "# retrieve the weather for each city\n",
    "# create a list and save each iteration to it of\n",
    "# lat, lng, max temp, humidity, cloudiness, wind speed, country\n",
    "# and date\n",
    "# export cities into a .csv\n",
    "# transform it into a dataframe"
   ]
  },
  {
   "cell_type": "code",
   "execution_count": 45,
   "id": "956a2edb",
   "metadata": {},
   "outputs": [
    {
     "data": {
      "text/plain": [
       "{'coord': {'lon': -118.2437, 'lat': 34.0522},\n",
       " 'weather': [{'id': 802,\n",
       "   'main': 'Clouds',\n",
       "   'description': 'scattered clouds',\n",
       "   'icon': '03n'}],\n",
       " 'base': 'stations',\n",
       " 'main': {'temp': 10.94,\n",
       "  'feels_like': 10.23,\n",
       "  'temp_min': 8.31,\n",
       "  'temp_max': 12.84,\n",
       "  'pressure': 1020,\n",
       "  'humidity': 82},\n",
       " 'visibility': 10000,\n",
       " 'wind': {'speed': 4.12, 'deg': 60},\n",
       " 'clouds': {'all': 40},\n",
       " 'dt': 1645083350,\n",
       " 'sys': {'type': 1,\n",
       "  'id': 3694,\n",
       "  'country': 'US',\n",
       "  'sunrise': 1645022204,\n",
       "  'sunset': 1645061857},\n",
       " 'timezone': -28800,\n",
       " 'id': 5368361,\n",
       " 'name': 'Los Angeles',\n",
       " 'cod': 200}"
      ]
     },
     "execution_count": 45,
     "metadata": {},
     "output_type": "execute_result"
    },
    {
     "data": {
      "application/javascript": [
       "\n",
       "            setTimeout(function() {\n",
       "                var nbb_cell_id = 45;\n",
       "                var nbb_unformatted_code = \"url = \\\"http://api.openweathermap.org/data/2.5/weather?\\\"\\nquery_url = url+\\\"appid=\\\"+weather_apy_key+\\\"&q=\\\" + 'los angeles' + \\\"&units=metric\\\"\\nquery_response = requests.get(query_url).json()\\nquery_response\";\n",
       "                var nbb_formatted_code = \"url = \\\"http://api.openweathermap.org/data/2.5/weather?\\\"\\nquery_url = url + \\\"appid=\\\" + weather_apy_key + \\\"&q=\\\" + \\\"los angeles\\\" + \\\"&units=metric\\\"\\nquery_response = requests.get(query_url).json()\\nquery_response\";\n",
       "                var nbb_cells = Jupyter.notebook.get_cells();\n",
       "                for (var i = 0; i < nbb_cells.length; ++i) {\n",
       "                    if (nbb_cells[i].input_prompt_number == nbb_cell_id) {\n",
       "                        if (nbb_cells[i].get_text() == nbb_unformatted_code) {\n",
       "                             nbb_cells[i].set_text(nbb_formatted_code);\n",
       "                        }\n",
       "                        break;\n",
       "                    }\n",
       "                }\n",
       "            }, 500);\n",
       "            "
      ],
      "text/plain": [
       "<IPython.core.display.Javascript object>"
      ]
     },
     "metadata": {},
     "output_type": "display_data"
    }
   ],
   "source": [
    "url = \"http://api.openweathermap.org/data/2.5/weather?\"\n",
    "query_url = url + \"appid=\" + weather_apy_key + \"&q=\" + \"los angeles\" + \"&units=metric\"\n",
    "query_response = requests.get(query_url).json()\n",
    "query_response"
   ]
  },
  {
   "cell_type": "code",
   "execution_count": 6,
   "id": "a470831e",
   "metadata": {},
   "outputs": [
    {
     "name": "stdout",
     "output_type": "stream",
     "text": [
      "Beginning Data Retrieval \n",
      "\n",
      "------------------------------\n",
      "Processing Record 1 of Set 1 | port alfred\n",
      "Processing Record 2 of Set 1 | hermanus\n",
      "Processing Record 3 of Set 1 | gondanglegi\n",
      "Processing Record 4 of Set 1 | beringovskiy\n",
      "Processing Record 5 of Set 1 | judenburg\n",
      "Processing Record 6 of Set 1 | kiunga\n",
      "Processing Record 7 of Set 1 | victoria\n",
      "Processing Record 8 of Set 1 | saryg-sep\n",
      "Processing Record 9 of Set 1 | hambantota\n",
      "Processing Record 10 of Set 1 | xining\n",
      "Processing Record 11 of Set 1 | nyimba\n",
      "Processing Record 12 of Set 1 | teya\n",
      "Processing Record 13 of Set 1 | grand gaube\n",
      "Processing Record 14 of Set 1 | taolanaro\n",
      "City taolanaro not found. Skipping...\n",
      "Processing Record 15 of Set 1 | airai\n",
      "Processing Record 16 of Set 1 | tuktoyaktuk\n",
      "Processing Record 17 of Set 1 | bredasdorp\n",
      "Processing Record 18 of Set 1 | tuatapere\n",
      "Processing Record 19 of Set 1 | bathsheba\n",
      "Processing Record 20 of Set 1 | port hardy\n",
      "Processing Record 21 of Set 1 | new norfolk\n",
      "Processing Record 22 of Set 1 | ust-nera\n",
      "Processing Record 23 of Set 1 | ancud\n",
      "Processing Record 24 of Set 1 | kollam\n",
      "Processing Record 25 of Set 1 | atuona\n",
      "Processing Record 26 of Set 1 | albany\n",
      "Processing Record 27 of Set 1 | sambava\n",
      "Processing Record 28 of Set 1 | kinablangan\n",
      "Processing Record 29 of Set 1 | mattru\n",
      "Processing Record 30 of Set 1 | vilyuysk\n",
      "Processing Record 31 of Set 1 | cape town\n",
      "Processing Record 32 of Set 1 | barrow\n",
      "Processing Record 33 of Set 1 | natal\n",
      "Processing Record 34 of Set 1 | kushima\n",
      "Processing Record 35 of Set 1 | nikolskoye\n",
      "Processing Record 36 of Set 1 | vaini\n",
      "Processing Record 37 of Set 1 | munster\n",
      "Processing Record 38 of Set 1 | hobart\n",
      "Processing Record 39 of Set 1 | roald\n",
      "Processing Record 40 of Set 1 | bonavista\n",
      "Processing Record 41 of Set 1 | port elizabeth\n",
      "Processing Record 42 of Set 1 | east london\n",
      "Processing Record 43 of Set 1 | aykhal\n",
      "Processing Record 44 of Set 1 | qaanaaq\n",
      "Processing Record 45 of Set 1 | mys shmidta\n",
      "City mys shmidta not found. Skipping...\n",
      "Processing Record 46 of Set 1 | belushya guba\n",
      "City belushya guba not found. Skipping...\n",
      "Processing Record 47 of Set 1 | upernavik\n",
      "Processing Record 48 of Set 1 | samusu\n",
      "City samusu not found. Skipping...\n",
      "Processing Record 49 of Set 1 | castro\n",
      "Processing Record 50 of Set 1 | nanortalik\n",
      "Processing Record 51 of Set 1 | mataura\n",
      "Processing Record 52 of Set 1 | jati\n",
      "Processing Record 53 of Set 1 | dingle\n",
      "Processing Record 54 of Set 1 | alihe\n",
      "Processing Record 55 of Set 1 | kruisfontein\n",
      "Processing Record 56 of Set 1 | ruwi\n",
      "Processing Record 57 of Set 1 | baiyin\n",
      "Processing Record 58 of Set 1 | marshall\n",
      "Processing Record 59 of Set 1 | saint-augustin\n",
      "Processing Record 60 of Set 1 | mar del plata\n",
      "Processing Record 1 of Set 2 | attawapiskat\n",
      "City attawapiskat not found. Skipping...\n",
      "Processing Record 2 of Set 2 | codrington\n",
      "Processing Record 3 of Set 2 | hithadhoo\n",
      "Processing Record 4 of Set 2 | saint-philippe\n",
      "Processing Record 5 of Set 2 | beinamar\n",
      "Processing Record 6 of Set 2 | salalah\n",
      "Processing Record 7 of Set 2 | isabela\n",
      "Processing Record 8 of Set 2 | busselton\n",
      "Processing Record 9 of Set 2 | mahebourg\n",
      "Processing Record 10 of Set 2 | severo-kurilsk\n",
      "Processing Record 11 of Set 2 | arraial do cabo\n",
      "Processing Record 12 of Set 2 | barentsburg\n",
      "City barentsburg not found. Skipping...\n",
      "Processing Record 13 of Set 2 | mezhdurechensk\n",
      "Processing Record 14 of Set 2 | srednekolymsk\n",
      "Processing Record 15 of Set 2 | loa janan\n",
      "Processing Record 16 of Set 2 | dandong\n",
      "Processing Record 17 of Set 2 | punta arenas\n",
      "Processing Record 18 of Set 2 | okha\n",
      "Processing Record 19 of Set 2 | iwanai\n",
      "Processing Record 20 of Set 2 | chapais\n",
      "Processing Record 21 of Set 2 | clyde river\n",
      "Processing Record 22 of Set 2 | bom jesus da lapa\n",
      "Processing Record 23 of Set 2 | parfino\n",
      "Processing Record 24 of Set 2 | nome\n",
      "Processing Record 25 of Set 2 | bluff\n",
      "Processing Record 26 of Set 2 | tyulgan\n",
      "Processing Record 27 of Set 2 | sasd\n",
      "Processing Record 28 of Set 2 | lasa\n",
      "Processing Record 29 of Set 2 | mount pleasant\n",
      "Processing Record 30 of Set 2 | longyearbyen\n",
      "Processing Record 31 of Set 2 | rikitea\n",
      "Processing Record 32 of Set 2 | oranjemund\n",
      "Processing Record 33 of Set 2 | tasiilaq\n",
      "Processing Record 34 of Set 2 | masty\n",
      "Processing Record 35 of Set 2 | vaitape\n",
      "Processing Record 36 of Set 2 | buchanan\n",
      "Processing Record 37 of Set 2 | tigil\n",
      "Processing Record 38 of Set 2 | nantucket\n",
      "Processing Record 39 of Set 2 | herouville-saint-clair\n",
      "Processing Record 40 of Set 2 | omsukchan\n",
      "Processing Record 41 of Set 2 | andros town\n",
      "Processing Record 42 of Set 2 | puerto ayora\n",
      "Processing Record 43 of Set 2 | kamenskoye\n",
      "City kamenskoye not found. Skipping...\n",
      "Processing Record 44 of Set 2 | souillac\n",
      "Processing Record 45 of Set 2 | nemuro\n",
      "Processing Record 46 of Set 2 | lubumbashi\n",
      "Processing Record 47 of Set 2 | katsuura\n",
      "Processing Record 48 of Set 2 | kuminskiy\n",
      "Processing Record 49 of Set 2 | fortuna\n",
      "Processing Record 50 of Set 2 | diffa\n",
      "Processing Record 51 of Set 2 | atherton\n",
      "Processing Record 52 of Set 2 | bubaque\n",
      "Processing Record 53 of Set 2 | dikson\n",
      "Processing Record 54 of Set 2 | hastings\n",
      "Processing Record 55 of Set 2 | lebu\n",
      "Processing Record 56 of Set 2 | khatanga\n",
      "Processing Record 57 of Set 2 | shelburne\n",
      "Processing Record 58 of Set 2 | bethel\n",
      "Processing Record 59 of Set 2 | tabiauea\n",
      "City tabiauea not found. Skipping...\n",
      "Processing Record 60 of Set 2 | xuddur\n",
      "Processing Record 1 of Set 3 | portland\n",
      "Processing Record 2 of Set 3 | vila\n",
      "Processing Record 3 of Set 3 | key largo\n",
      "Processing Record 4 of Set 3 | talnakh\n",
      "Processing Record 5 of Set 3 | torbay\n",
      "Processing Record 6 of Set 3 | lindas\n",
      "Processing Record 7 of Set 3 | sylacauga\n",
      "Processing Record 8 of Set 3 | dzhusaly\n",
      "City dzhusaly not found. Skipping...\n",
      "Processing Record 9 of Set 3 | batagay-alyta\n",
      "Processing Record 10 of Set 3 | cayenne\n",
      "Processing Record 11 of Set 3 | schwabach\n",
      "Processing Record 12 of Set 3 | manicore\n",
      "Processing Record 13 of Set 3 | vao\n",
      "Processing Record 14 of Set 3 | bintulu\n",
      "Processing Record 15 of Set 3 | carnarvon\n",
      "Processing Record 16 of Set 3 | coahuayana\n",
      "Processing Record 17 of Set 3 | jamestown\n",
      "Processing Record 18 of Set 3 | juneau\n",
      "Processing Record 19 of Set 3 | tumannyy\n",
      "City tumannyy not found. Skipping...\n",
      "Processing Record 20 of Set 3 | powell river\n",
      "Processing Record 21 of Set 3 | am timan\n",
      "Processing Record 22 of Set 3 | karachi\n",
      "Processing Record 23 of Set 3 | manzanillo\n",
      "Processing Record 24 of Set 3 | luderitz\n",
      "Processing Record 25 of Set 3 | wilmington\n",
      "Processing Record 26 of Set 3 | avarua\n",
      "Processing Record 27 of Set 3 | bodden town\n",
      "Processing Record 28 of Set 3 | magan\n",
      "Processing Record 29 of Set 3 | cherskiy\n",
      "Processing Record 30 of Set 3 | geraldton\n",
      "Processing Record 31 of Set 3 | northam\n",
      "Processing Record 32 of Set 3 | the valley\n",
      "Processing Record 33 of Set 3 | marcona\n",
      "City marcona not found. Skipping...\n",
      "Processing Record 34 of Set 3 | ornskoldsvik\n",
      "Processing Record 35 of Set 3 | basco\n",
      "Processing Record 36 of Set 3 | palabuhanratu\n",
      "City palabuhanratu not found. Skipping...\n",
      "Processing Record 37 of Set 3 | kokopo\n",
      "Processing Record 38 of Set 3 | ijaki\n",
      "City ijaki not found. Skipping...\n",
      "Processing Record 39 of Set 3 | tual\n",
      "Processing Record 40 of Set 3 | muros\n",
      "Processing Record 41 of Set 3 | avera\n",
      "Processing Record 42 of Set 3 | tura\n",
      "Processing Record 43 of Set 3 | kapaa\n",
      "Processing Record 44 of Set 3 | grand river south east\n",
      "City grand river south east not found. Skipping...\n",
      "Processing Record 45 of Set 3 | canberra\n",
      "Processing Record 46 of Set 3 | buala\n",
      "Processing Record 47 of Set 3 | harrai\n",
      "Processing Record 48 of Set 3 | pisco\n",
      "Processing Record 49 of Set 3 | gat\n",
      "Processing Record 50 of Set 3 | praxedis guerrero\n",
      "Processing Record 51 of Set 3 | chumikan\n",
      "Processing Record 52 of Set 3 | usinsk\n",
      "Processing Record 53 of Set 3 | butaritari\n",
      "Processing Record 54 of Set 3 | durango\n",
      "Processing Record 55 of Set 3 | port hedland\n",
      "Processing Record 56 of Set 3 | jackson\n",
      "Processing Record 57 of Set 3 | saleaula\n",
      "City saleaula not found. Skipping...\n",
      "Processing Record 58 of Set 3 | tazovskiy\n",
      "Processing Record 59 of Set 3 | tupik\n",
      "Processing Record 60 of Set 3 | kodiak\n",
      "Processing Record 1 of Set 4 | synya\n",
      "Processing Record 2 of Set 4 | coihaique\n",
      "Processing Record 3 of Set 4 | saint andrews\n",
      "Processing Record 4 of Set 4 | zyryanka\n"
     ]
    },
    {
     "name": "stdout",
     "output_type": "stream",
     "text": [
      "Processing Record 5 of Set 4 | acushnet\n",
      "Processing Record 6 of Set 4 | hofn\n",
      "Processing Record 7 of Set 4 | kuah\n",
      "Processing Record 8 of Set 4 | kahului\n",
      "Processing Record 9 of Set 4 | tiksi\n",
      "Processing Record 10 of Set 4 | meyungs\n",
      "City meyungs not found. Skipping...\n",
      "Processing Record 11 of Set 4 | talakan\n",
      "Processing Record 12 of Set 4 | kudahuvadhoo\n",
      "Processing Record 13 of Set 4 | huarmey\n",
      "Processing Record 14 of Set 4 | poum\n",
      "Processing Record 15 of Set 4 | ucluelet\n",
      "Processing Record 16 of Set 4 | nacogdoches\n",
      "Processing Record 17 of Set 4 | caravelas\n",
      "Processing Record 18 of Set 4 | lagoa\n",
      "Processing Record 19 of Set 4 | ribeira grande\n",
      "Processing Record 20 of Set 4 | hasaki\n",
      "Processing Record 21 of Set 4 | los llanos de aridane\n",
      "Processing Record 22 of Set 4 | beyneu\n",
      "Processing Record 23 of Set 4 | slave lake\n",
      "Processing Record 24 of Set 4 | griffith\n",
      "Processing Record 25 of Set 4 | mangaratiba\n",
      "Processing Record 26 of Set 4 | praia da vitoria\n",
      "Processing Record 27 of Set 4 | north bend\n",
      "Processing Record 28 of Set 4 | litovko\n",
      "Processing Record 29 of Set 4 | kaitangata\n",
      "Processing Record 30 of Set 4 | sung noen\n",
      "Processing Record 31 of Set 4 | galeana\n",
      "Processing Record 32 of Set 4 | saskylakh\n",
      "Processing Record 33 of Set 4 | sao borja\n",
      "Processing Record 34 of Set 4 | wamba\n",
      "Processing Record 35 of Set 4 | coquimbo\n",
      "Processing Record 36 of Set 4 | nizhneyansk\n",
      "City nizhneyansk not found. Skipping...\n",
      "Processing Record 37 of Set 4 | bambous virieux\n",
      "Processing Record 38 of Set 4 | lokachi\n",
      "Processing Record 39 of Set 4 | kavieng\n",
      "Processing Record 40 of Set 4 | lata\n",
      "Processing Record 41 of Set 4 | hilo\n",
      "Processing Record 42 of Set 4 | southampton\n",
      "Processing Record 43 of Set 4 | narsaq\n",
      "Processing Record 44 of Set 4 | elizabeth city\n",
      "Processing Record 45 of Set 4 | qaqortoq\n",
      "Processing Record 46 of Set 4 | grand centre\n",
      "City grand centre not found. Skipping...\n",
      "Processing Record 47 of Set 4 | norman wells\n",
      "Processing Record 48 of Set 4 | puerto escondido\n",
      "Processing Record 49 of Set 4 | adzhamka\n",
      "Processing Record 50 of Set 4 | vinci\n",
      "Processing Record 51 of Set 4 | namatanai\n",
      "Processing Record 52 of Set 4 | karben\n",
      "Processing Record 53 of Set 4 | georgetown\n",
      "Processing Record 54 of Set 4 | prince rupert\n",
      "Processing Record 55 of Set 4 | goderich\n",
      "Processing Record 56 of Set 4 | charters towers\n",
      "Processing Record 57 of Set 4 | kargasok\n",
      "Processing Record 58 of Set 4 | manitouwadge\n",
      "Processing Record 59 of Set 4 | kutum\n",
      "Processing Record 60 of Set 4 | tubuala\n",
      "Processing Record 1 of Set 5 | takoradi\n",
      "Processing Record 2 of Set 5 | alta floresta\n",
      "Processing Record 3 of Set 5 | cerro san antonio\n",
      "City cerro san antonio not found. Skipping...\n",
      "Processing Record 4 of Set 5 | texarkana\n",
      "Processing Record 5 of Set 5 | camiri\n",
      "Processing Record 6 of Set 5 | vallenar\n",
      "Processing Record 7 of Set 5 | ostrovnoy\n",
      "Processing Record 8 of Set 5 | kavaratti\n",
      "Processing Record 9 of Set 5 | makakilo city\n",
      "Processing Record 10 of Set 5 | san patricio\n",
      "Processing Record 11 of Set 5 | gambela\n",
      "Processing Record 12 of Set 5 | garden city\n",
      "Processing Record 13 of Set 5 | bani\n",
      "Processing Record 14 of Set 5 | yellowknife\n",
      "Processing Record 15 of Set 5 | mercedes\n",
      "Processing Record 16 of Set 5 | yarim\n",
      "Processing Record 17 of Set 5 | berlevag\n",
      "Processing Record 18 of Set 5 | brooks\n",
      "Processing Record 19 of Set 5 | nchelenge\n",
      "Processing Record 20 of Set 5 | ariquemes\n",
      "Processing Record 21 of Set 5 | mount gambier\n",
      "Processing Record 22 of Set 5 | cabedelo\n",
      "Processing Record 23 of Set 5 | sao felix do xingu\n",
      "Processing Record 24 of Set 5 | constitucion\n",
      "Processing Record 25 of Set 5 | pevek\n",
      "Processing Record 26 of Set 5 | olafsvik\n",
      "Processing Record 27 of Set 5 | illoqqortoormiut\n",
      "City illoqqortoormiut not found. Skipping...\n",
      "Processing Record 28 of Set 5 | chicama\n",
      "Processing Record 29 of Set 5 | bengkulu\n",
      "Processing Record 30 of Set 5 | baruun-urt\n",
      "Processing Record 31 of Set 5 | port blair\n",
      "Processing Record 32 of Set 5 | amderma\n",
      "City amderma not found. Skipping...\n",
      "Processing Record 33 of Set 5 | ilovlya\n",
      "Processing Record 34 of Set 5 | namibe\n",
      "Processing Record 35 of Set 5 | banjar\n",
      "Processing Record 36 of Set 5 | krasnyy oktyabr\n",
      "Processing Record 37 of Set 5 | guerrero negro\n",
      "Processing Record 38 of Set 5 | meilu\n",
      "City meilu not found. Skipping...\n",
      "Processing Record 39 of Set 5 | nola\n",
      "Processing Record 40 of Set 5 | lodja\n",
      "Processing Record 41 of Set 5 | zhanaozen\n",
      "Processing Record 42 of Set 5 | stephenville\n",
      "Processing Record 43 of Set 5 | cidreira\n",
      "Processing Record 44 of Set 5 | auburn\n",
      "Processing Record 45 of Set 5 | ponta do sol\n",
      "Processing Record 46 of Set 5 | fort saint john\n",
      "City fort saint john not found. Skipping...\n",
      "Processing Record 47 of Set 5 | quartucciu\n",
      "Processing Record 48 of Set 5 | semey\n",
      "Processing Record 49 of Set 5 | kungurtug\n",
      "Processing Record 50 of Set 5 | pasni\n",
      "Processing Record 51 of Set 5 | komsomolskiy\n",
      "Processing Record 52 of Set 5 | presidencia roque saenz pena\n",
      "Processing Record 53 of Set 5 | patiya\n",
      "Processing Record 54 of Set 5 | pahrump\n",
      "Processing Record 55 of Set 5 | barbosa ferraz\n",
      "Processing Record 56 of Set 5 | kholodnyy\n",
      "Processing Record 57 of Set 5 | ambilobe\n",
      "Processing Record 58 of Set 5 | soyo\n",
      "Processing Record 59 of Set 5 | san cristobal\n",
      "Processing Record 60 of Set 5 | ulladulla\n",
      "Processing Record 1 of Set 6 | corn island\n",
      "Processing Record 2 of Set 6 | leningradskiy\n",
      "Processing Record 3 of Set 6 | kropotkin\n",
      "Processing Record 4 of Set 6 | riviere-au-renard\n",
      "Processing Record 5 of Set 6 | saint-francois\n",
      "Processing Record 6 of Set 6 | rabo de peixe\n",
      "Processing Record 7 of Set 6 | mount isa\n",
      "Processing Record 8 of Set 6 | el balyana\n",
      "City el balyana not found. Skipping...\n",
      "Processing Record 9 of Set 6 | meinung\n",
      "City meinung not found. Skipping...\n",
      "Processing Record 10 of Set 6 | klaksvik\n",
      "Processing Record 11 of Set 6 | grindavik\n",
      "Processing Record 12 of Set 6 | emerald\n",
      "Processing Record 13 of Set 6 | bairiki\n",
      "Processing Record 14 of Set 6 | klyuchi\n",
      "Processing Record 15 of Set 6 | los banos\n",
      "Processing Record 16 of Set 6 | parana\n",
      "Processing Record 17 of Set 6 | las vegas\n",
      "Processing Record 18 of Set 6 | faanui\n",
      "Processing Record 19 of Set 6 | erenhot\n",
      "Processing Record 20 of Set 6 | byron bay\n",
      "Processing Record 21 of Set 6 | yirol\n",
      "City yirol not found. Skipping...\n",
      "Processing Record 22 of Set 6 | skibbereen\n",
      "Processing Record 23 of Set 6 | panaba\n",
      "Processing Record 24 of Set 6 | shache\n",
      "Processing Record 25 of Set 6 | obihiro\n",
      "Processing Record 26 of Set 6 | chateauroux\n",
      "Processing Record 27 of Set 6 | vardo\n",
      "Processing Record 28 of Set 6 | nizhniy kuranakh\n",
      "Processing Record 29 of Set 6 | pedra\n",
      "Processing Record 30 of Set 6 | hun\n",
      "Processing Record 31 of Set 6 | toftir\n",
      "City toftir not found. Skipping...\n",
      "Processing Record 32 of Set 6 | macheng\n",
      "Processing Record 33 of Set 6 | lichinga\n",
      "Processing Record 34 of Set 6 | bjornevatn\n",
      "Processing Record 35 of Set 6 | veshenskaya\n",
      "Processing Record 36 of Set 6 | saldanha\n",
      "Processing Record 37 of Set 6 | amahai\n",
      "Processing Record 38 of Set 6 | upington\n",
      "Processing Record 39 of Set 6 | honiara\n",
      "Processing Record 40 of Set 6 | chuy\n",
      "Processing Record 41 of Set 6 | iqaluit\n",
      "Processing Record 42 of Set 6 | asau\n",
      "Processing Record 43 of Set 6 | sinnamary\n",
      "Processing Record 44 of Set 6 | bougouni\n",
      "Processing Record 45 of Set 6 | iquique\n",
      "Processing Record 46 of Set 6 | tiarei\n",
      "Processing Record 47 of Set 6 | beaufort\n",
      "Processing Record 48 of Set 6 | auriflama\n",
      "Processing Record 49 of Set 6 | yushu\n",
      "Processing Record 50 of Set 6 | taquarituba\n",
      "Processing Record 51 of Set 6 | vila franca do campo\n",
      "Processing Record 52 of Set 6 | san carlos de bariloche\n",
      "Processing Record 53 of Set 6 | sohbatpur\n",
      "Processing Record 54 of Set 6 | samana\n",
      "Processing Record 55 of Set 6 | maceio\n",
      "Processing Record 56 of Set 6 | tautira\n",
      "Processing Record 57 of Set 6 | curup\n",
      "Processing Record 58 of Set 6 | vestbygda\n",
      "City vestbygda not found. Skipping...\n",
      "Processing Record 59 of Set 6 | toliary\n",
      "City toliary not found. Skipping...\n",
      "Processing Record 60 of Set 6 | gorontalo\n",
      "Processing Record 1 of Set 7 | tagusao\n",
      "Processing Record 2 of Set 7 | cabo san lucas\n",
      "Processing Record 3 of Set 7 | port-gentil\n",
      "Processing Record 4 of Set 7 | iberia\n",
      "Processing Record 5 of Set 7 | morgan city\n",
      "Processing Record 6 of Set 7 | pangnirtung\n",
      "Processing Record 7 of Set 7 | esperance\n"
     ]
    },
    {
     "name": "stdout",
     "output_type": "stream",
     "text": [
      "Processing Record 8 of Set 7 | rawson\n",
      "Processing Record 9 of Set 7 | henties bay\n",
      "Processing Record 10 of Set 7 | luanda\n",
      "Processing Record 11 of Set 7 | sorvag\n",
      "City sorvag not found. Skipping...\n",
      "Processing Record 12 of Set 7 | ocampo\n",
      "Processing Record 13 of Set 7 | cranbrook\n",
      "Processing Record 14 of Set 7 | darab\n",
      "Processing Record 15 of Set 7 | provideniya\n",
      "Processing Record 16 of Set 7 | kaeo\n",
      "Processing Record 17 of Set 7 | sauda\n",
      "Processing Record 18 of Set 7 | nargana\n",
      "Processing Record 19 of Set 7 | chokurdakh\n",
      "Processing Record 20 of Set 7 | mackay\n",
      "Processing Record 21 of Set 7 | sao filipe\n",
      "Processing Record 22 of Set 7 | nagato\n",
      "Processing Record 23 of Set 7 | bac lieu\n",
      "Processing Record 24 of Set 7 | taoudenni\n",
      "Processing Record 25 of Set 7 | gamba\n",
      "Processing Record 26 of Set 7 | half moon bay\n",
      "Processing Record 27 of Set 7 | mponela\n",
      "Processing Record 28 of Set 7 | barranca\n",
      "Processing Record 29 of Set 7 | kobojango\n",
      "City kobojango not found. Skipping...\n",
      "Processing Record 30 of Set 7 | port augusta\n",
      "Processing Record 31 of Set 7 | manokwari\n",
      "Processing Record 32 of Set 7 | gaur\n",
      "Processing Record 33 of Set 7 | saint-joseph\n",
      "Processing Record 34 of Set 7 | itacare\n",
      "Processing Record 35 of Set 7 | simbahan\n",
      "Processing Record 36 of Set 7 | aksarka\n",
      "Processing Record 37 of Set 7 | acapulco\n",
      "Processing Record 38 of Set 7 | bolshaya sosnova\n",
      "Processing Record 39 of Set 7 | riaba\n",
      "City riaba not found. Skipping...\n",
      "Processing Record 40 of Set 7 | angoche\n",
      "Processing Record 41 of Set 7 | carutapera\n",
      "Processing Record 42 of Set 7 | xingyi\n",
      "Processing Record 43 of Set 7 | nhulunbuy\n",
      "Processing Record 44 of Set 7 | amangarh\n",
      "Processing Record 45 of Set 7 | velika gorica\n",
      "Processing Record 46 of Set 7 | selaphum\n",
      "Processing Record 47 of Set 7 | rodrigues alves\n",
      "Processing Record 48 of Set 7 | codo\n",
      "Processing Record 49 of Set 7 | mendeleyevo\n",
      "Processing Record 50 of Set 7 | kuche\n",
      "City kuche not found. Skipping...\n",
      "Processing Record 51 of Set 7 | svetlogorsk\n",
      "Processing Record 52 of Set 7 | tubruq\n",
      "City tubruq not found. Skipping...\n",
      "Processing Record 53 of Set 7 | tessalit\n",
      "Processing Record 54 of Set 7 | agadez\n",
      "Processing Record 55 of Set 7 | cepelare\n",
      "Processing Record 56 of Set 7 | rabaul\n",
      "Processing Record 57 of Set 7 | ambon\n",
      "Processing Record 58 of Set 7 | gedo\n",
      "Processing Record 59 of Set 7 | mangan\n",
      "Processing Record 60 of Set 7 | polyarnyy\n",
      "Processing Record 1 of Set 8 | warrington\n",
      "Processing Record 2 of Set 8 | hay river\n",
      "Processing Record 3 of Set 8 | opuwo\n",
      "Processing Record 4 of Set 8 | tilichiki\n",
      "Processing Record 5 of Set 8 | flin flon\n",
      "Processing Record 6 of Set 8 | eydhafushi\n",
      "Processing Record 7 of Set 8 | ardistan\n",
      "City ardistan not found. Skipping...\n",
      "Processing Record 8 of Set 8 | ahuimanu\n",
      "Processing Record 9 of Set 8 | gangotri\n",
      "City gangotri not found. Skipping...\n",
      "Processing Record 10 of Set 8 | salinopolis\n",
      "Processing Record 11 of Set 8 | aklavik\n",
      "Processing Record 12 of Set 8 | mayo\n",
      "Processing Record 13 of Set 8 | saint george\n",
      "Processing Record 14 of Set 8 | bonoua\n",
      "Processing Record 15 of Set 8 | dodge city\n",
      "Processing Record 16 of Set 8 | fare\n",
      "Processing Record 17 of Set 8 | evensk\n",
      "Processing Record 18 of Set 8 | nador\n",
      "Processing Record 19 of Set 8 | marawi\n",
      "Processing Record 20 of Set 8 | whitehorse\n",
      "Processing Record 21 of Set 8 | steamboat springs\n",
      "Processing Record 22 of Set 8 | batemans bay\n",
      "Processing Record 23 of Set 8 | ternate\n",
      "Processing Record 24 of Set 8 | tarudant\n",
      "City tarudant not found. Skipping...\n",
      "Processing Record 25 of Set 8 | rostaq\n",
      "City rostaq not found. Skipping...\n",
      "Processing Record 26 of Set 8 | trofors\n",
      "Processing Record 27 of Set 8 | norfolk\n",
      "Processing Record 28 of Set 8 | road town\n",
      "Processing Record 29 of Set 8 | rincon\n",
      "Processing Record 30 of Set 8 | magadan\n",
      "Processing Record 31 of Set 8 | mmabatho\n",
      "Processing Record 32 of Set 8 | alappuzha\n",
      "Processing Record 33 of Set 8 | thompson\n",
      "Processing Record 34 of Set 8 | santiago del estero\n",
      "Processing Record 35 of Set 8 | ankpa\n",
      "Processing Record 36 of Set 8 | cascavel\n",
      "Processing Record 37 of Set 8 | wuchi\n",
      "Processing Record 38 of Set 8 | rayagada\n",
      "Processing Record 39 of Set 8 | saint-pierre\n",
      "Processing Record 40 of Set 8 | rio grande\n",
      "Processing Record 41 of Set 8 | san jeronimo\n",
      "Processing Record 42 of Set 8 | roebourne\n",
      "Processing Record 43 of Set 8 | pleasanton\n",
      "Processing Record 44 of Set 8 | garbolovo\n",
      "Processing Record 45 of Set 8 | jutai\n",
      "Processing Record 46 of Set 8 | yefimovskiy\n",
      "City yefimovskiy not found. Skipping...\n",
      "Processing Record 47 of Set 8 | cocobeach\n",
      "Processing Record 48 of Set 8 | kazalinsk\n",
      "City kazalinsk not found. Skipping...\n",
      "Processing Record 49 of Set 8 | lerwick\n",
      "Processing Record 50 of Set 8 | kifri\n",
      "Processing Record 51 of Set 8 | at-bashi\n",
      "Processing Record 52 of Set 8 | oranjestad\n",
      "Processing Record 53 of Set 8 | oriximina\n",
      "Processing Record 54 of Set 8 | henzada\n",
      "City henzada not found. Skipping...\n",
      "Processing Record 55 of Set 8 | christchurch\n",
      "Processing Record 56 of Set 8 | camacha\n",
      "Processing Record 57 of Set 8 | nuuk\n",
      "Processing Record 58 of Set 8 | hualmay\n",
      "Processing Record 59 of Set 8 | agadir\n",
      "Processing Record 60 of Set 8 | kulhudhuffushi\n",
      "Processing Record 1 of Set 9 | alexandria\n",
      "Processing Record 2 of Set 9 | puerto baquerizo moreno\n",
      "Processing Record 3 of Set 9 | neuquen\n",
      "Processing Record 4 of Set 9 | miri\n",
      "Processing Record 5 of Set 9 | pitlochry\n",
      "Processing Record 6 of Set 9 | toora-khem\n",
      "Processing Record 7 of Set 9 | mogocha\n",
      "Processing Record 8 of Set 9 | clifton\n",
      "Processing Record 9 of Set 9 | lubbock\n",
      "Processing Record 10 of Set 9 | bara\n",
      "Processing Record 11 of Set 9 | moron\n",
      "Processing Record 12 of Set 9 | sao jose da coroa grande\n",
      "Processing Record 13 of Set 9 | oktyabrskiy\n",
      "Processing Record 14 of Set 9 | rio gallegos\n",
      "Processing Record 15 of Set 9 | ola\n",
      "Processing Record 16 of Set 9 | raymondville\n",
      "Processing Record 17 of Set 9 | malwan\n",
      "City malwan not found. Skipping...\n",
      "Processing Record 18 of Set 9 | college\n",
      "Processing Record 19 of Set 9 | verkh-usugli\n",
      "Processing Record 20 of Set 9 | saint anthony\n",
      "Processing Record 21 of Set 9 | san francisco\n",
      "Processing Record 22 of Set 9 | sayyan\n",
      "Processing Record 23 of Set 9 | sitka\n",
      "Processing Record 24 of Set 9 | labutta\n",
      "City labutta not found. Skipping...\n",
      "Processing Record 25 of Set 9 | san pablo\n",
      "Processing Record 26 of Set 9 | ubinskoye\n",
      "Processing Record 27 of Set 9 | dunda\n",
      "Processing Record 28 of Set 9 | atambua\n",
      "Processing Record 29 of Set 9 | ilulissat\n",
      "Processing Record 30 of Set 9 | khani\n",
      "Processing Record 31 of Set 9 | dong hoi\n",
      "Processing Record 32 of Set 9 | dipkarpaz\n",
      "City dipkarpaz not found. Skipping...\n",
      "Processing Record 33 of Set 9 | batagay\n",
      "Processing Record 34 of Set 9 | harper\n",
      "Processing Record 35 of Set 9 | praya\n",
      "Processing Record 36 of Set 9 | sentyabrskiy\n",
      "City sentyabrskiy not found. Skipping...\n",
      "Processing Record 37 of Set 9 | takhtamygda\n",
      "Processing Record 38 of Set 9 | naranjal\n",
      "Processing Record 39 of Set 9 | fairbanks\n",
      "Processing Record 40 of Set 9 | santo antonio do ica\n",
      "Processing Record 41 of Set 9 | kati\n",
      "Processing Record 42 of Set 9 | odweyne\n",
      "Processing Record 43 of Set 9 | dubbo\n",
      "Processing Record 44 of Set 9 | solnechnyy\n",
      "Processing Record 45 of Set 9 | santa cruz cabralia\n",
      "Processing Record 46 of Set 9 | stornoway\n",
      "Processing Record 47 of Set 9 | dali\n",
      "Processing Record 48 of Set 9 | tornio\n",
      "Processing Record 49 of Set 9 | ahipara\n",
      "Processing Record 50 of Set 9 | bucak\n",
      "Processing Record 51 of Set 9 | gasa\n",
      "Processing Record 52 of Set 9 | anadyr\n",
      "Processing Record 53 of Set 9 | algiers\n",
      "Processing Record 54 of Set 9 | ust-ishim\n",
      "Processing Record 55 of Set 9 | bijar\n",
      "Processing Record 56 of Set 9 | daoukro\n",
      "Processing Record 57 of Set 9 | djibo\n",
      "Processing Record 58 of Set 9 | presque isle\n",
      "Processing Record 59 of Set 9 | salinas\n",
      "Processing Record 60 of Set 9 | tsihombe\n",
      "City tsihombe not found. Skipping...\n",
      "Processing Record 1 of Set 10 | niquelandia\n",
      "Processing Record 2 of Set 10 | santa rosa\n",
      "Processing Record 3 of Set 10 | sechura\n",
      "Processing Record 4 of Set 10 | benjamin constant\n",
      "Processing Record 5 of Set 10 | fukue\n",
      "Processing Record 6 of Set 10 | tabou\n",
      "Processing Record 7 of Set 10 | damghan\n",
      "Processing Record 8 of Set 10 | hami\n",
      "Processing Record 9 of Set 10 | meulaboh\n",
      "Processing Record 10 of Set 10 | san-pedro\n",
      "Processing Record 11 of Set 10 | krasnozerskoye\n"
     ]
    },
    {
     "name": "stdout",
     "output_type": "stream",
     "text": [
      "Processing Record 12 of Set 10 | yinchuan\n",
      "Processing Record 13 of Set 10 | rawannawi\n",
      "City rawannawi not found. Skipping...\n",
      "Processing Record 14 of Set 10 | muyezerskiy\n",
      "Processing Record 15 of Set 10 | vestmannaeyjar\n",
      "Processing Record 16 of Set 10 | upata\n",
      "Processing Record 17 of Set 10 | udachnyy\n",
      "Processing Record 18 of Set 10 | tel aviv-yafo\n",
      "Processing Record 19 of Set 10 | rosita\n",
      "Processing Record 20 of Set 10 | sarny\n",
      "Processing Record 21 of Set 10 | salta\n",
      "Processing Record 22 of Set 10 | marsaxlokk\n",
      "Processing Record 23 of Set 10 | teodoro sampaio\n",
      "Processing Record 24 of Set 10 | polur\n",
      "Processing Record 25 of Set 10 | tromso\n",
      "Processing Record 26 of Set 10 | birjand\n",
      "Processing Record 27 of Set 10 | sunrise manor\n",
      "Processing Record 28 of Set 10 | sola\n",
      "Processing Record 29 of Set 10 | banda aceh\n",
      "Processing Record 30 of Set 10 | payo\n",
      "Processing Record 31 of Set 10 | la ronge\n",
      "Processing Record 32 of Set 10 | guanica\n",
      "Processing Record 33 of Set 10 | richards bay\n",
      "Processing Record 34 of Set 10 | inhambane\n",
      "Processing Record 35 of Set 10 | amberley\n",
      "Processing Record 36 of Set 10 | umba\n",
      "Processing Record 37 of Set 10 | horsham\n",
      "Processing Record 38 of Set 10 | vostok\n",
      "Processing Record 39 of Set 10 | witu\n",
      "Processing Record 40 of Set 10 | flinders\n",
      "Processing Record 41 of Set 10 | assiniboia\n",
      "Processing Record 42 of Set 10 | scottsbluff\n",
      "Processing Record 43 of Set 10 | braslav\n",
      "City braslav not found. Skipping...\n",
      "Processing Record 44 of Set 10 | vung tau\n",
      "Processing Record 45 of Set 10 | guipavas\n",
      "Processing Record 46 of Set 10 | yenagoa\n",
      "Processing Record 47 of Set 10 | pitimbu\n",
      "Processing Record 48 of Set 10 | ginir\n",
      "Processing Record 49 of Set 10 | fort nelson\n",
      "Processing Record 50 of Set 10 | lavrentiya\n",
      "Processing Record 51 of Set 10 | mazamari\n",
      "Processing Record 52 of Set 10 | vancouver\n",
      "Processing Record 53 of Set 10 | providencia\n",
      "Processing Record 54 of Set 10 | camana\n",
      "Processing Record 55 of Set 10 | lompoc\n",
      "Processing Record 56 of Set 10 | zeya\n",
      "Processing Record 57 of Set 10 | champerico\n",
      "Processing Record 58 of Set 10 | yaring\n",
      "Processing Record 59 of Set 10 | comodoro rivadavia\n",
      "------------------------------\n",
      "Data Retrieval Complete\n",
      "------------------------------\n"
     ]
    },
    {
     "data": {
      "application/javascript": [
       "\n",
       "            setTimeout(function() {\n",
       "                var nbb_cell_id = 6;\n",
       "                var nbb_unformatted_code = \"url = \\\"http://api.openweathermap.org/data/2.5/weather?\\\"\\n \\nprint(\\\"Beginning Data Retrieval \\\\n\\\\n------------------------------\\\")\\n\\n# if 60 calls time.sleep\\n\\ncount = 0\\nset_count = 1\\nlat = []\\nlng = []\\nmax_temp = []\\nhumidity = []\\ncloudiness = []\\nwind_speed = []\\ncountry = []\\ndate = []\\ncity_ = []\\n\\nfor city in cities: \\n\\n    if count % 60 == 0 and count > 0:\\n        set_count = set_count + 1\\n        count = 0\\n#         break\\n        time.sleep(60)\\n    else:\\n        query_url = url+\\\"appid=\\\"+weather_apy_key+\\\"&q=\\\" + city + \\\"&units=metric\\\"\\n        query_response = requests.get(query_url).json()\\n        try:\\n            count = count + 1\\n            print(f\\\"Processing Record {count} of Set {set_count} | {city}\\\")\\n            lat.append(query_response['coord']['lat'])\\n            city_.append(query_response['name'])\\n            lng.append(query_response['coord']['lon'])\\n            max_temp.append(query_response['main']['temp_max'])\\n            humidity.append(query_response['main']['humidity'])\\n            cloudiness.append(query_response[\\\"clouds\\\"][\\\"all\\\"])\\n            wind_speed.append(query_response['wind']['speed'])\\n            country.append(query_response['sys']['country'])\\n            date.append(query_response['dt'])\\n        except (KeyError, IndexError):\\n            print(f\\\"City {city} not found. Skipping...\\\")\\n            continue\\n\\nprint(f\\\"------------------------------\\\\nData Retrieval Complete\\\\n------------------------------\\\")\";\n",
       "                var nbb_formatted_code = \"url = \\\"http://api.openweathermap.org/data/2.5/weather?\\\"\\n\\nprint(\\\"Beginning Data Retrieval \\\\n\\\\n------------------------------\\\")\\n\\n# if 60 calls time.sleep\\n\\ncount = 0\\nset_count = 1\\nlat = []\\nlng = []\\nmax_temp = []\\nhumidity = []\\ncloudiness = []\\nwind_speed = []\\ncountry = []\\ndate = []\\ncity_ = []\\n\\nfor city in cities:\\n\\n    if count % 60 == 0 and count > 0:\\n        set_count = set_count + 1\\n        count = 0\\n        #         break\\n        time.sleep(60)\\n    else:\\n        query_url = url + \\\"appid=\\\" + weather_apy_key + \\\"&q=\\\" + city + \\\"&units=metric\\\"\\n        query_response = requests.get(query_url).json()\\n        try:\\n            count = count + 1\\n            print(f\\\"Processing Record {count} of Set {set_count} | {city}\\\")\\n            lat.append(query_response[\\\"coord\\\"][\\\"lat\\\"])\\n            city_.append(query_response[\\\"name\\\"])\\n            lng.append(query_response[\\\"coord\\\"][\\\"lon\\\"])\\n            max_temp.append(query_response[\\\"main\\\"][\\\"temp_max\\\"])\\n            humidity.append(query_response[\\\"main\\\"][\\\"humidity\\\"])\\n            cloudiness.append(query_response[\\\"clouds\\\"][\\\"all\\\"])\\n            wind_speed.append(query_response[\\\"wind\\\"][\\\"speed\\\"])\\n            country.append(query_response[\\\"sys\\\"][\\\"country\\\"])\\n            date.append(query_response[\\\"dt\\\"])\\n        except (KeyError, IndexError):\\n            print(f\\\"City {city} not found. Skipping...\\\")\\n            continue\\n\\nprint(\\n    f\\\"------------------------------\\\\nData Retrieval Complete\\\\n------------------------------\\\"\\n)\";\n",
       "                var nbb_cells = Jupyter.notebook.get_cells();\n",
       "                for (var i = 0; i < nbb_cells.length; ++i) {\n",
       "                    if (nbb_cells[i].input_prompt_number == nbb_cell_id) {\n",
       "                        if (nbb_cells[i].get_text() == nbb_unformatted_code) {\n",
       "                             nbb_cells[i].set_text(nbb_formatted_code);\n",
       "                        }\n",
       "                        break;\n",
       "                    }\n",
       "                }\n",
       "            }, 500);\n",
       "            "
      ],
      "text/plain": [
       "<IPython.core.display.Javascript object>"
      ]
     },
     "metadata": {},
     "output_type": "display_data"
    }
   ],
   "source": [
    "url = \"http://api.openweathermap.org/data/2.5/weather?\"\n",
    " \n",
    "print(\"Beginning Data Retrieval \\n\\n------------------------------\")\n",
    "\n",
    "# if 60 calls time.sleep\n",
    "\n",
    "count = 0\n",
    "set_count = 1\n",
    "lat = []\n",
    "lng = []\n",
    "max_temp = []\n",
    "humidity = []\n",
    "cloudiness = []\n",
    "wind_speed = []\n",
    "country = []\n",
    "date = []\n",
    "city_ = []\n",
    "\n",
    "for city in cities: \n",
    "\n",
    "    if count % 60 == 0 and count > 0:\n",
    "        set_count = set_count + 1\n",
    "        count = 0\n",
    "#         break\n",
    "        time.sleep(60)\n",
    "    else:\n",
    "        query_url = url+\"appid=\"+weather_apy_key+\"&q=\" + city + \"&units=metric\"\n",
    "        query_response = requests.get(query_url).json()\n",
    "        try:\n",
    "            count = count + 1\n",
    "            print(f\"Processing Record {count} of Set {set_count} | {city}\")\n",
    "            lat.append(query_response['coord']['lat'])\n",
    "            city_.append(query_response['name'])\n",
    "            lng.append(query_response['coord']['lon'])\n",
    "            max_temp.append(query_response['main']['temp_max'])\n",
    "            humidity.append(query_response['main']['humidity'])\n",
    "            cloudiness.append(query_response[\"clouds\"][\"all\"])\n",
    "            wind_speed.append(query_response['wind']['speed'])\n",
    "            country.append(query_response['sys']['country'])\n",
    "            date.append(query_response['dt'])\n",
    "        except (KeyError, IndexError):\n",
    "            print(f\"City {city} not found. Skipping...\")\n",
    "            continue\n",
    "\n",
    "print(f\"------------------------------\\nData Retrieval Complete\\n------------------------------\")\n"
   ]
  },
  {
   "cell_type": "code",
   "execution_count": 18,
   "id": "350f27a2",
   "metadata": {
    "scrolled": true
   },
   "outputs": [
    {
     "data": {
      "application/javascript": [
       "\n",
       "            setTimeout(function() {\n",
       "                var nbb_cell_id = 18;\n",
       "                var nbb_unformatted_code = \"combination_of_lists = zip(city_,lat, lng, max_temp,humidity,cloudiness,wind_speed,country,date)\\n\\nwith open(output_data_file, \\\"w\\\") as datafile:\\n    writer = csv.writer(datafile)\\n    writer.writerow([\\\"City\\\",\\\"Lat\\\",\\\"Lng\\\", \\\"Max Temp\\\", \\\"Humidity\\\", \\\"Cloudiness\\\",\\\" Wind Speed\\\", \\\"Country\\\",\\\"Date\\\"])\\n    writer.writerows(combination_of_lists)\";\n",
       "                var nbb_formatted_code = \"combination_of_lists = zip(\\n    city_, lat, lng, max_temp, humidity, cloudiness, wind_speed, country, date\\n)\\n\\nwith open(output_data_file, \\\"w\\\") as datafile:\\n    writer = csv.writer(datafile)\\n    writer.writerow(\\n        [\\n            \\\"City\\\",\\n            \\\"Lat\\\",\\n            \\\"Lng\\\",\\n            \\\"Max Temp\\\",\\n            \\\"Humidity\\\",\\n            \\\"Cloudiness\\\",\\n            \\\" Wind Speed\\\",\\n            \\\"Country\\\",\\n            \\\"Date\\\",\\n        ]\\n    )\\n    writer.writerows(combination_of_lists)\";\n",
       "                var nbb_cells = Jupyter.notebook.get_cells();\n",
       "                for (var i = 0; i < nbb_cells.length; ++i) {\n",
       "                    if (nbb_cells[i].input_prompt_number == nbb_cell_id) {\n",
       "                        if (nbb_cells[i].get_text() == nbb_unformatted_code) {\n",
       "                             nbb_cells[i].set_text(nbb_formatted_code);\n",
       "                        }\n",
       "                        break;\n",
       "                    }\n",
       "                }\n",
       "            }, 500);\n",
       "            "
      ],
      "text/plain": [
       "<IPython.core.display.Javascript object>"
      ]
     },
     "metadata": {},
     "output_type": "display_data"
    }
   ],
   "source": [
    "combination_of_lists = zip(city_,lat, lng, max_temp,humidity,cloudiness,wind_speed,country,date)\n",
    "\n",
    "with open(output_data_file, \"w\") as datafile:\n",
    "    writer = csv.writer(datafile)\n",
    "    writer.writerow([\"City\",\"Lat\",\"Lng\", \"Max Temp\", \"Humidity\", \"Cloudiness\",\" Wind Speed\", \"Country\",\"Date\"])\n",
    "    writer.writerows(combination_of_lists)\n"
   ]
  },
  {
   "cell_type": "code",
   "execution_count": 49,
   "id": "040ccc55",
   "metadata": {
    "scrolled": true
   },
   "outputs": [
    {
     "data": {
      "text/html": [
       "<div>\n",
       "<style scoped>\n",
       "    .dataframe tbody tr th:only-of-type {\n",
       "        vertical-align: middle;\n",
       "    }\n",
       "\n",
       "    .dataframe tbody tr th {\n",
       "        vertical-align: top;\n",
       "    }\n",
       "\n",
       "    .dataframe thead th {\n",
       "        text-align: right;\n",
       "    }\n",
       "</style>\n",
       "<table border=\"1\" class=\"dataframe\">\n",
       "  <thead>\n",
       "    <tr style=\"text-align: right;\">\n",
       "      <th></th>\n",
       "      <th>City</th>\n",
       "      <th>Lat</th>\n",
       "      <th>Lng</th>\n",
       "      <th>Max Temp</th>\n",
       "      <th>Humidity</th>\n",
       "      <th>Cloudiness</th>\n",
       "      <th>Wind Speed</th>\n",
       "      <th>Country</th>\n",
       "      <th>Date</th>\n",
       "    </tr>\n",
       "  </thead>\n",
       "  <tbody>\n",
       "    <tr>\n",
       "      <th>0</th>\n",
       "      <td>Port Alfred</td>\n",
       "      <td>-33.5906</td>\n",
       "      <td>26.8910</td>\n",
       "      <td>20.84</td>\n",
       "      <td>68</td>\n",
       "      <td>68</td>\n",
       "      <td>5.08</td>\n",
       "      <td>ZA</td>\n",
       "      <td>1645080609</td>\n",
       "    </tr>\n",
       "    <tr>\n",
       "      <th>1</th>\n",
       "      <td>Hermanus</td>\n",
       "      <td>-34.4187</td>\n",
       "      <td>19.2345</td>\n",
       "      <td>20.50</td>\n",
       "      <td>60</td>\n",
       "      <td>0</td>\n",
       "      <td>7.70</td>\n",
       "      <td>ZA</td>\n",
       "      <td>1645080610</td>\n",
       "    </tr>\n",
       "    <tr>\n",
       "      <th>2</th>\n",
       "      <td>Gondanglegi</td>\n",
       "      <td>-7.7479</td>\n",
       "      <td>112.0132</td>\n",
       "      <td>27.93</td>\n",
       "      <td>78</td>\n",
       "      <td>100</td>\n",
       "      <td>2.96</td>\n",
       "      <td>ID</td>\n",
       "      <td>1645080610</td>\n",
       "    </tr>\n",
       "    <tr>\n",
       "      <th>3</th>\n",
       "      <td>Beringovskiy</td>\n",
       "      <td>63.0500</td>\n",
       "      <td>179.3167</td>\n",
       "      <td>-24.66</td>\n",
       "      <td>95</td>\n",
       "      <td>100</td>\n",
       "      <td>6.70</td>\n",
       "      <td>RU</td>\n",
       "      <td>1645080611</td>\n",
       "    </tr>\n",
       "    <tr>\n",
       "      <th>4</th>\n",
       "      <td>Judenburg</td>\n",
       "      <td>47.1667</td>\n",
       "      <td>14.6667</td>\n",
       "      <td>2.96</td>\n",
       "      <td>93</td>\n",
       "      <td>20</td>\n",
       "      <td>1.54</td>\n",
       "      <td>AT</td>\n",
       "      <td>1645080611</td>\n",
       "    </tr>\n",
       "  </tbody>\n",
       "</table>\n",
       "</div>"
      ],
      "text/plain": [
       "           City      Lat       Lng  Max Temp  Humidity  Cloudiness  \\\n",
       "0   Port Alfred -33.5906   26.8910     20.84        68          68   \n",
       "1      Hermanus -34.4187   19.2345     20.50        60           0   \n",
       "2   Gondanglegi  -7.7479  112.0132     27.93        78         100   \n",
       "3  Beringovskiy  63.0500  179.3167    -24.66        95         100   \n",
       "4     Judenburg  47.1667   14.6667      2.96        93          20   \n",
       "\n",
       "    Wind Speed Country        Date  \n",
       "0         5.08      ZA  1645080609  \n",
       "1         7.70      ZA  1645080610  \n",
       "2         2.96      ID  1645080610  \n",
       "3         6.70      RU  1645080611  \n",
       "4         1.54      AT  1645080611  "
      ]
     },
     "execution_count": 49,
     "metadata": {},
     "output_type": "execute_result"
    },
    {
     "data": {
      "application/javascript": [
       "\n",
       "            setTimeout(function() {\n",
       "                var nbb_cell_id = 49;\n",
       "                var nbb_unformatted_code = \"df = pd.read_csv(output_data_file, delimiter=\\\",\\\")\\ndf.head()\";\n",
       "                var nbb_formatted_code = \"df = pd.read_csv(output_data_file, delimiter=\\\",\\\")\\ndf.head()\";\n",
       "                var nbb_cells = Jupyter.notebook.get_cells();\n",
       "                for (var i = 0; i < nbb_cells.length; ++i) {\n",
       "                    if (nbb_cells[i].input_prompt_number == nbb_cell_id) {\n",
       "                        if (nbb_cells[i].get_text() == nbb_unformatted_code) {\n",
       "                             nbb_cells[i].set_text(nbb_formatted_code);\n",
       "                        }\n",
       "                        break;\n",
       "                    }\n",
       "                }\n",
       "            }, 500);\n",
       "            "
      ],
      "text/plain": [
       "<IPython.core.display.Javascript object>"
      ]
     },
     "metadata": {},
     "output_type": "display_data"
    }
   ],
   "source": [
    "df = pd.read_csv(output_data_file, delimiter=\",\")\n",
    "df.head()"
   ]
  },
  {
   "cell_type": "code",
   "execution_count": 20,
   "id": "fe283360",
   "metadata": {},
   "outputs": [
    {
     "name": "stdout",
     "output_type": "stream",
     "text": [
      "<class 'pandas.core.frame.DataFrame'>\n",
      "RangeIndex: 551 entries, 0 to 550\n",
      "Data columns (total 9 columns):\n",
      " #   Column       Non-Null Count  Dtype  \n",
      "---  ------       --------------  -----  \n",
      " 0   City         551 non-null    object \n",
      " 1   Lat          551 non-null    float64\n",
      " 2   Lng          551 non-null    float64\n",
      " 3   Max Temp     551 non-null    float64\n",
      " 4   Humidity     551 non-null    int64  \n",
      " 5   Cloudiness   551 non-null    int64  \n",
      " 6    Wind Speed  551 non-null    float64\n",
      " 7   Country      547 non-null    object \n",
      " 8   Date         551 non-null    int64  \n",
      "dtypes: float64(4), int64(3), object(2)\n",
      "memory usage: 38.9+ KB\n"
     ]
    },
    {
     "data": {
      "application/javascript": [
       "\n",
       "            setTimeout(function() {\n",
       "                var nbb_cell_id = 20;\n",
       "                var nbb_unformatted_code = \"df.info()\";\n",
       "                var nbb_formatted_code = \"df.info()\";\n",
       "                var nbb_cells = Jupyter.notebook.get_cells();\n",
       "                for (var i = 0; i < nbb_cells.length; ++i) {\n",
       "                    if (nbb_cells[i].input_prompt_number == nbb_cell_id) {\n",
       "                        if (nbb_cells[i].get_text() == nbb_unformatted_code) {\n",
       "                             nbb_cells[i].set_text(nbb_formatted_code);\n",
       "                        }\n",
       "                        break;\n",
       "                    }\n",
       "                }\n",
       "            }, 500);\n",
       "            "
      ],
      "text/plain": [
       "<IPython.core.display.Javascript object>"
      ]
     },
     "metadata": {},
     "output_type": "display_data"
    }
   ],
   "source": [
    "df.info()"
   ]
  },
  {
   "cell_type": "code",
   "execution_count": 21,
   "id": "a7d4893e",
   "metadata": {},
   "outputs": [
    {
     "data": {
      "text/plain": [
       "100"
      ]
     },
     "execution_count": 21,
     "metadata": {},
     "output_type": "execute_result"
    },
    {
     "data": {
      "application/javascript": [
       "\n",
       "            setTimeout(function() {\n",
       "                var nbb_cell_id = 21;\n",
       "                var nbb_unformatted_code = \"df[\\\"Humidity\\\"].max()\";\n",
       "                var nbb_formatted_code = \"df[\\\"Humidity\\\"].max()\";\n",
       "                var nbb_cells = Jupyter.notebook.get_cells();\n",
       "                for (var i = 0; i < nbb_cells.length; ++i) {\n",
       "                    if (nbb_cells[i].input_prompt_number == nbb_cell_id) {\n",
       "                        if (nbb_cells[i].get_text() == nbb_unformatted_code) {\n",
       "                             nbb_cells[i].set_text(nbb_formatted_code);\n",
       "                        }\n",
       "                        break;\n",
       "                    }\n",
       "                }\n",
       "            }, 500);\n",
       "            "
      ],
      "text/plain": [
       "<IPython.core.display.Javascript object>"
      ]
     },
     "metadata": {},
     "output_type": "display_data"
    }
   ],
   "source": [
    "df[\"Humidity\"].max()"
   ]
  },
  {
   "cell_type": "code",
   "execution_count": 22,
   "id": "4433b82a",
   "metadata": {},
   "outputs": [
    {
     "data": {
      "text/html": [
       "<div>\n",
       "<style scoped>\n",
       "    .dataframe tbody tr th:only-of-type {\n",
       "        vertical-align: middle;\n",
       "    }\n",
       "\n",
       "    .dataframe tbody tr th {\n",
       "        vertical-align: top;\n",
       "    }\n",
       "\n",
       "    .dataframe thead th {\n",
       "        text-align: right;\n",
       "    }\n",
       "</style>\n",
       "<table border=\"1\" class=\"dataframe\">\n",
       "  <thead>\n",
       "    <tr style=\"text-align: right;\">\n",
       "      <th></th>\n",
       "      <th>Lat</th>\n",
       "      <th>Lng</th>\n",
       "      <th>Max Temp</th>\n",
       "      <th>Humidity</th>\n",
       "      <th>Cloudiness</th>\n",
       "      <th>Wind Speed</th>\n",
       "      <th>Date</th>\n",
       "    </tr>\n",
       "  </thead>\n",
       "  <tbody>\n",
       "    <tr>\n",
       "      <th>count</th>\n",
       "      <td>551.000000</td>\n",
       "      <td>551.000000</td>\n",
       "      <td>551.000000</td>\n",
       "      <td>551.000000</td>\n",
       "      <td>551.000000</td>\n",
       "      <td>551.000000</td>\n",
       "      <td>5.510000e+02</td>\n",
       "    </tr>\n",
       "    <tr>\n",
       "      <th>mean</th>\n",
       "      <td>20.857613</td>\n",
       "      <td>11.748775</td>\n",
       "      <td>11.326352</td>\n",
       "      <td>73.206897</td>\n",
       "      <td>58.725953</td>\n",
       "      <td>3.948494</td>\n",
       "      <td>1.645081e+09</td>\n",
       "    </tr>\n",
       "    <tr>\n",
       "      <th>std</th>\n",
       "      <td>32.878537</td>\n",
       "      <td>91.863941</td>\n",
       "      <td>17.398734</td>\n",
       "      <td>20.876016</td>\n",
       "      <td>41.113405</td>\n",
       "      <td>2.891129</td>\n",
       "      <td>2.608690e+02</td>\n",
       "    </tr>\n",
       "    <tr>\n",
       "      <th>min</th>\n",
       "      <td>-53.150000</td>\n",
       "      <td>-175.200000</td>\n",
       "      <td>-37.420000</td>\n",
       "      <td>9.000000</td>\n",
       "      <td>0.000000</td>\n",
       "      <td>0.000000</td>\n",
       "      <td>1.645080e+09</td>\n",
       "    </tr>\n",
       "    <tr>\n",
       "      <th>25%</th>\n",
       "      <td>-5.965550</td>\n",
       "      <td>-69.350050</td>\n",
       "      <td>2.210000</td>\n",
       "      <td>65.000000</td>\n",
       "      <td>13.000000</td>\n",
       "      <td>1.670000</td>\n",
       "      <td>1.645081e+09</td>\n",
       "    </tr>\n",
       "    <tr>\n",
       "      <th>50%</th>\n",
       "      <td>24.833300</td>\n",
       "      <td>12.611300</td>\n",
       "      <td>16.770000</td>\n",
       "      <td>78.000000</td>\n",
       "      <td>75.000000</td>\n",
       "      <td>3.110000</td>\n",
       "      <td>1.645081e+09</td>\n",
       "    </tr>\n",
       "    <tr>\n",
       "      <th>75%</th>\n",
       "      <td>49.414550</td>\n",
       "      <td>95.461100</td>\n",
       "      <td>24.675000</td>\n",
       "      <td>89.000000</td>\n",
       "      <td>100.000000</td>\n",
       "      <td>5.660000</td>\n",
       "      <td>1.645081e+09</td>\n",
       "    </tr>\n",
       "    <tr>\n",
       "      <th>max</th>\n",
       "      <td>78.218600</td>\n",
       "      <td>179.316700</td>\n",
       "      <td>43.040000</td>\n",
       "      <td>100.000000</td>\n",
       "      <td>100.000000</td>\n",
       "      <td>13.380000</td>\n",
       "      <td>1.645081e+09</td>\n",
       "    </tr>\n",
       "  </tbody>\n",
       "</table>\n",
       "</div>"
      ],
      "text/plain": [
       "              Lat         Lng    Max Temp    Humidity  Cloudiness  \\\n",
       "count  551.000000  551.000000  551.000000  551.000000  551.000000   \n",
       "mean    20.857613   11.748775   11.326352   73.206897   58.725953   \n",
       "std     32.878537   91.863941   17.398734   20.876016   41.113405   \n",
       "min    -53.150000 -175.200000  -37.420000    9.000000    0.000000   \n",
       "25%     -5.965550  -69.350050    2.210000   65.000000   13.000000   \n",
       "50%     24.833300   12.611300   16.770000   78.000000   75.000000   \n",
       "75%     49.414550   95.461100   24.675000   89.000000  100.000000   \n",
       "max     78.218600  179.316700   43.040000  100.000000  100.000000   \n",
       "\n",
       "        Wind Speed          Date  \n",
       "count   551.000000  5.510000e+02  \n",
       "mean      3.948494  1.645081e+09  \n",
       "std       2.891129  2.608690e+02  \n",
       "min       0.000000  1.645080e+09  \n",
       "25%       1.670000  1.645081e+09  \n",
       "50%       3.110000  1.645081e+09  \n",
       "75%       5.660000  1.645081e+09  \n",
       "max      13.380000  1.645081e+09  "
      ]
     },
     "execution_count": 22,
     "metadata": {},
     "output_type": "execute_result"
    },
    {
     "data": {
      "application/javascript": [
       "\n",
       "            setTimeout(function() {\n",
       "                var nbb_cell_id = 22;\n",
       "                var nbb_unformatted_code = \"df.describe()\";\n",
       "                var nbb_formatted_code = \"df.describe()\";\n",
       "                var nbb_cells = Jupyter.notebook.get_cells();\n",
       "                for (var i = 0; i < nbb_cells.length; ++i) {\n",
       "                    if (nbb_cells[i].input_prompt_number == nbb_cell_id) {\n",
       "                        if (nbb_cells[i].get_text() == nbb_unformatted_code) {\n",
       "                             nbb_cells[i].set_text(nbb_formatted_code);\n",
       "                        }\n",
       "                        break;\n",
       "                    }\n",
       "                }\n",
       "            }, 500);\n",
       "            "
      ],
      "text/plain": [
       "<IPython.core.display.Javascript object>"
      ]
     },
     "metadata": {},
     "output_type": "display_data"
    }
   ],
   "source": [
    "df.describe()"
   ]
  },
  {
   "cell_type": "code",
   "execution_count": 25,
   "id": "af361bdf",
   "metadata": {},
   "outputs": [
    {
     "name": "stdout",
     "output_type": "stream",
     "text": [
      "Q1 is 65.0\n",
      "Q2 is 78.0 \n",
      "Q3 is 89.0\n",
      "The potential outlier is below 53.0.\n"
     ]
    },
    {
     "data": {
      "image/png": "[encoded data removed]",
      "text/plain": [
       "<Figure size 432x288 with 1 Axes>"
      ]
     },
     "metadata": {
      "needs_background": "light"
     },
     "output_type": "display_data"
    },
    {
     "data": {
      "application/javascript": [
       "\n",
       "            setTimeout(function() {\n",
       "                var nbb_cell_id = 25;\n",
       "                var nbb_unformatted_code = \"df[\\\"Humidity\\\"].plot(kind=\\\"box\\\", ylim=0, title=\\\"Humidity with Potential Outliers\\\")\\nq3 = df[\\\"Humidity\\\"].quantile(q=0.75)\\nq2 = df[\\\"Humidity\\\"].quantile(q=0.50)\\nq1 = df[\\\"Humidity\\\"].quantile(q=0.25)\\niqr = q3 - q1\\nupper_quartile = q3 + 1.5 * iqr\\nlower_quartile = q3 - 1.5 * iqr\\nprint(f\\\"Q1 is {q1}\\\\nQ2 is {q2} \\\\nQ3 is {q3}\\\")\\nprint(f\\\"The potential outlier is below {lower_quartile}.\\\")\\nlower_q_values = df.loc[df[\\\"Humidity\\\"] <= 53, \\\"Humidity\\\"]\\ndf_clean = df[df[\\\"Humidity\\\"].isin(lower_q_values) == False]\";\n",
       "                var nbb_formatted_code = \"df[\\\"Humidity\\\"].plot(kind=\\\"box\\\", ylim=0, title=\\\"Humidity with Potential Outliers\\\")\\nq3 = df[\\\"Humidity\\\"].quantile(q=0.75)\\nq2 = df[\\\"Humidity\\\"].quantile(q=0.50)\\nq1 = df[\\\"Humidity\\\"].quantile(q=0.25)\\niqr = q3 - q1\\nupper_quartile = q3 + 1.5 * iqr\\nlower_quartile = q3 - 1.5 * iqr\\nprint(f\\\"Q1 is {q1}\\\\nQ2 is {q2} \\\\nQ3 is {q3}\\\")\\nprint(f\\\"The potential outlier is below {lower_quartile}.\\\")\\nlower_q_values = df.loc[df[\\\"Humidity\\\"] <= 53, \\\"Humidity\\\"]\\ndf_clean = df[df[\\\"Humidity\\\"].isin(lower_q_values) == False]\";\n",
       "                var nbb_cells = Jupyter.notebook.get_cells();\n",
       "                for (var i = 0; i < nbb_cells.length; ++i) {\n",
       "                    if (nbb_cells[i].input_prompt_number == nbb_cell_id) {\n",
       "                        if (nbb_cells[i].get_text() == nbb_unformatted_code) {\n",
       "                             nbb_cells[i].set_text(nbb_formatted_code);\n",
       "                        }\n",
       "                        break;\n",
       "                    }\n",
       "                }\n",
       "            }, 500);\n",
       "            "
      ],
      "text/plain": [
       "<IPython.core.display.Javascript object>"
      ]
     },
     "metadata": {},
     "output_type": "display_data"
    }
   ],
   "source": [
    "df[\"Humidity\"].plot(kind=\"box\", ylim=0, title=\"Humidity with Potential Outliers\")\n",
    "q3 = df[\"Humidity\"].quantile(q=0.75)\n",
    "q2 = df[\"Humidity\"].quantile(q=0.50)\n",
    "q1 = df[\"Humidity\"].quantile(q=0.25)\n",
    "iqr = q3 - q1\n",
    "upper_quartile = q3 + 1.5 * iqr\n",
    "lower_quartile = q3 - 1.5 * iqr\n",
    "print(f\"Q1 is {q1}\\nQ2 is {q2} \\nQ3 is {q3}\")\n",
    "print(f\"The potential outlier is below {lower_quartile}.\")\n",
    "lower_q_values = df.loc[df[\"Humidity\"] <= 53, \"Humidity\"]\n",
    "df_clean = df[df[\"Humidity\"].isin(lower_q_values) == False]"
   ]
  },
  {
   "cell_type": "code",
   "execution_count": 26,
   "id": "51e7fca8",
   "metadata": {},
   "outputs": [
    {
     "data": {
      "text/plain": [
       "<AxesSubplot:title={'center':'Humidity with no Potential Outliers'}>"
      ]
     },
     "execution_count": 26,
     "metadata": {},
     "output_type": "execute_result"
    },
    {
     "data": {
      "image/png": "[encoded data removed]",
      "text/plain": [
       "<Figure size 432x288 with 1 Axes>"
      ]
     },
     "metadata": {
      "needs_background": "light"
     },
     "output_type": "display_data"
    },
    {
     "data": {
      "application/javascript": [
       "\n",
       "            setTimeout(function() {\n",
       "                var nbb_cell_id = 26;\n",
       "                var nbb_unformatted_code = \"df_clean[\\\"Humidity\\\"].plot(\\n    kind=\\\"box\\\", ylim=40, title=\\\"Humidity with no Potential Outliers\\\"\\n)\";\n",
       "                var nbb_formatted_code = \"df_clean[\\\"Humidity\\\"].plot(\\n    kind=\\\"box\\\", ylim=40, title=\\\"Humidity with no Potential Outliers\\\"\\n)\";\n",
       "                var nbb_cells = Jupyter.notebook.get_cells();\n",
       "                for (var i = 0; i < nbb_cells.length; ++i) {\n",
       "                    if (nbb_cells[i].input_prompt_number == nbb_cell_id) {\n",
       "                        if (nbb_cells[i].get_text() == nbb_unformatted_code) {\n",
       "                             nbb_cells[i].set_text(nbb_formatted_code);\n",
       "                        }\n",
       "                        break;\n",
       "                    }\n",
       "                }\n",
       "            }, 500);\n",
       "            "
      ],
      "text/plain": [
       "<IPython.core.display.Javascript object>"
      ]
     },
     "metadata": {},
     "output_type": "display_data"
    }
   ],
   "source": [
    "df_clean[\"Humidity\"].plot(\n",
    "    kind=\"box\", ylim=40, title=\"Humidity with no Potential Outliers\"\n",
    ")"
   ]
  },
  {
   "cell_type": "code",
   "execution_count": 42,
   "id": "88927671",
   "metadata": {},
   "outputs": [
    {
     "data": {
      "image/png": "[encoded data removed]",
      "text/plain": [
       "<Figure size 432x288 with 1 Axes>"
      ]
     },
     "metadata": {
      "needs_background": "light"
     },
     "output_type": "display_data"
    },
    {
     "data": {
      "application/javascript": [
       "\n",
       "            setTimeout(function() {\n",
       "                var nbb_cell_id = 42;\n",
       "                var nbb_unformatted_code = \"lat_vs_temp = df_clean.plot(\\n    x=\\\"Lat\\\", y=\\\"Max Temp\\\", kind=\\\"scatter\\\", title=\\\"City Latitude vs Max Temperature\\\"\\n)\";\n",
       "                var nbb_formatted_code = \"lat_vs_temp = df_clean.plot(\\n    x=\\\"Lat\\\", y=\\\"Max Temp\\\", kind=\\\"scatter\\\", title=\\\"City Latitude vs Max Temperature\\\"\\n)\";\n",
       "                var nbb_cells = Jupyter.notebook.get_cells();\n",
       "                for (var i = 0; i < nbb_cells.length; ++i) {\n",
       "                    if (nbb_cells[i].input_prompt_number == nbb_cell_id) {\n",
       "                        if (nbb_cells[i].get_text() == nbb_unformatted_code) {\n",
       "                             nbb_cells[i].set_text(nbb_formatted_code);\n",
       "                        }\n",
       "                        break;\n",
       "                    }\n",
       "                }\n",
       "            }, 500);\n",
       "            "
      ],
      "text/plain": [
       "<IPython.core.display.Javascript object>"
      ]
     },
     "metadata": {},
     "output_type": "display_data"
    }
   ],
   "source": [
    "lat_vs_temp = df_clean.plot(\n",
    "    x=\"Lat\", y=\"Max Temp\", kind=\"scatter\", title=\"City Latitude vs Max Temperature\"\n",
    ")\n"
   ]
  },
  {
   "cell_type": "code",
   "execution_count": 35,
   "id": "d75c3f6c",
   "metadata": {},
   "outputs": [
    {
     "data": {
      "image/png": "[encoded data removed]",
      "text/plain": [
       "<Figure size 432x288 with 1 Axes>"
      ]
     },
     "metadata": {
      "needs_background": "light"
     },
     "output_type": "display_data"
    },
    {
     "data": {
      "application/javascript": [
       "\n",
       "            setTimeout(function() {\n",
       "                var nbb_cell_id = 35;\n",
       "                var nbb_unformatted_code = \"lat_vs_hum = df_clean.plot(\\n    x=\\\"Lat\\\", y=\\\"Humidity\\\", kind=\\\"scatter\\\", title=\\\"City Latitude vs Max Temperature\\\"\\n)\";\n",
       "                var nbb_formatted_code = \"lat_vs_hum = df_clean.plot(\\n    x=\\\"Lat\\\", y=\\\"Humidity\\\", kind=\\\"scatter\\\", title=\\\"City Latitude vs Max Temperature\\\"\\n)\";\n",
       "                var nbb_cells = Jupyter.notebook.get_cells();\n",
       "                for (var i = 0; i < nbb_cells.length; ++i) {\n",
       "                    if (nbb_cells[i].input_prompt_number == nbb_cell_id) {\n",
       "                        if (nbb_cells[i].get_text() == nbb_unformatted_code) {\n",
       "                             nbb_cells[i].set_text(nbb_formatted_code);\n",
       "                        }\n",
       "                        break;\n",
       "                    }\n",
       "                }\n",
       "            }, 500);\n",
       "            "
      ],
      "text/plain": [
       "<IPython.core.display.Javascript object>"
      ]
     },
     "metadata": {},
     "output_type": "display_data"
    }
   ],
   "source": [
    "lat_vs_hum = df_clean.plot(\n",
    "    x=\"Lat\", y=\"Humidity\", kind=\"scatter\", title=\"City Latitude vs Max Temperature\",ylabel = \"Humidity (%)\"\n",
    ")"
   ]
  },
  {
   "cell_type": "code",
   "execution_count": 36,
   "id": "7a87f4b1",
   "metadata": {},
   "outputs": [
    {
     "data": {
      "image/png": "[encoded data removed]",
      "text/plain": [
       "<Figure size 432x288 with 1 Axes>"
      ]
     },
     "metadata": {
      "needs_background": "light"
     },
     "output_type": "display_data"
    },
    {
     "data": {
      "application/javascript": [
       "\n",
       "            setTimeout(function() {\n",
       "                var nbb_cell_id = 36;\n",
       "                var nbb_unformatted_code = \"lat_vs_clou = df_clean.plot(\\n    x=\\\"Lat\\\", y=\\\"Cloudiness\\\", kind=\\\"scatter\\\", title=\\\"City Latitude vs Max Temperature\\\",\\n)\";\n",
       "                var nbb_formatted_code = \"lat_vs_clou = df_clean.plot(\\n    x=\\\"Lat\\\", y=\\\"Cloudiness\\\", kind=\\\"scatter\\\", title=\\\"City Latitude vs Max Temperature\\\",\\n)\";\n",
       "                var nbb_cells = Jupyter.notebook.get_cells();\n",
       "                for (var i = 0; i < nbb_cells.length; ++i) {\n",
       "                    if (nbb_cells[i].input_prompt_number == nbb_cell_id) {\n",
       "                        if (nbb_cells[i].get_text() == nbb_unformatted_code) {\n",
       "                             nbb_cells[i].set_text(nbb_formatted_code);\n",
       "                        }\n",
       "                        break;\n",
       "                    }\n",
       "                }\n",
       "            }, 500);\n",
       "            "
      ],
      "text/plain": [
       "<IPython.core.display.Javascript object>"
      ]
     },
     "metadata": {},
     "output_type": "display_data"
    }
   ],
   "source": [
    "lat_vs_clou = df_clean.plot(\n",
    "    x=\"Lat\", y=\"Cloudiness\", kind=\"scatter\", title=\"City Latitude vs Max Temperature\", ylabel = \"Cloudiness (%)\"\n",
    ")"
   ]
  },
  {
   "cell_type": "code",
   "execution_count": 38,
   "id": "793a0250",
   "metadata": {},
   "outputs": [
    {
     "data": {
      "image/png": "[encoded data removed]",
      "text/plain": [
       "<Figure size 432x288 with 1 Axes>"
      ]
     },
     "metadata": {
      "needs_background": "light"
     },
     "output_type": "display_data"
    },
    {
     "data": {
      "application/javascript": [
       "\n",
       "            setTimeout(function() {\n",
       "                var nbb_cell_id = 38;\n",
       "                var nbb_unformatted_code = \"lat_vs_wind = df_clean.plot(\\n    x=\\\"Lat\\\",\\n    y=\\\" Wind Speed\\\",\\n    kind=\\\"scatter\\\",\\n    title=\\\"City Latitude vs Max Temperature\\\",\\n    ylabel=\\\"Wind Speed (mph)\\\",\\n)\";\n",
       "                var nbb_formatted_code = \"lat_vs_wind = df_clean.plot(\\n    x=\\\"Lat\\\",\\n    y=\\\" Wind Speed\\\",\\n    kind=\\\"scatter\\\",\\n    title=\\\"City Latitude vs Max Temperature\\\",\\n    ylabel=\\\"Wind Speed (mph)\\\",\\n)\";\n",
       "                var nbb_cells = Jupyter.notebook.get_cells();\n",
       "                for (var i = 0; i < nbb_cells.length; ++i) {\n",
       "                    if (nbb_cells[i].input_prompt_number == nbb_cell_id) {\n",
       "                        if (nbb_cells[i].get_text() == nbb_unformatted_code) {\n",
       "                             nbb_cells[i].set_text(nbb_formatted_code);\n",
       "                        }\n",
       "                        break;\n",
       "                    }\n",
       "                }\n",
       "            }, 500);\n",
       "            "
      ],
      "text/plain": [
       "<IPython.core.display.Javascript object>"
      ]
     },
     "metadata": {},
     "output_type": "display_data"
    }
   ],
   "source": [
    "lat_vs_wind = df_clean.plot(\n",
    "    x=\"Lat\",\n",
    "    y=\" Wind Speed\",\n",
    "    kind=\"scatter\",\n",
    "    title=\"City Latitude vs Max Temperature\",\n",
    "    ylabel=\"Wind Speed (mph)\",\n",
    ")"
   ]
  },
  {
   "cell_type": "code",
   "execution_count": 66,
   "id": "81b7d224",
   "metadata": {},
   "outputs": [
    {
     "name": "stdout",
     "output_type": "stream",
     "text": [
      "The r-squared is: 0.7617999099720754\n"
     ]
    },
    {
     "data": {
      "image/png": "[encoded data removed]",
      "text/plain": [
       "<Figure size 432x288 with 1 Axes>"
      ]
     },
     "metadata": {
      "needs_background": "light"
     },
     "output_type": "display_data"
    },
    {
     "data": {
      "application/javascript": [
       "\n",
       "            setTimeout(function() {\n",
       "                var nbb_cell_id = 66;\n",
       "                var nbb_unformatted_code = \"df_clean_n = df_clean.loc[df[\\\"Lat\\\"] > 0, :]\\nx_values = df_clean_n[\\\"Lat\\\"]\\ny_values = df_clean_n[\\\"Max Temp\\\"]\\n(slope, intercept, rvalue, pvalue, stderr) = linregress(x_values, y_values)\\nregress_values = x_values * slope + intercept\\nline_eq = \\\"y = \\\" + str(round(slope, 2)) + \\\"x + \\\" + str(round(intercept, 2))\\nplt.scatter(x_values, y_values)\\nplt.plot(x_values, regress_values, \\\"r-\\\")\\nplt.annotate(line_eq, (10, -10), fontsize=15, color=\\\"red\\\")\\nplt.xlabel(\\\"Latitude\\\")\\nplt.ylabel(\\\"Max Temp (c)\\\")\\nprint(f\\\"The r-squared is: {rvalue**2}\\\")\\nplt.show()\";\n",
       "                var nbb_formatted_code = \"df_clean_n = df_clean.loc[df[\\\"Lat\\\"] > 0, :]\\nx_values = df_clean_n[\\\"Lat\\\"]\\ny_values = df_clean_n[\\\"Max Temp\\\"]\\n(slope, intercept, rvalue, pvalue, stderr) = linregress(x_values, y_values)\\nregress_values = x_values * slope + intercept\\nline_eq = \\\"y = \\\" + str(round(slope, 2)) + \\\"x + \\\" + str(round(intercept, 2))\\nplt.scatter(x_values, y_values)\\nplt.plot(x_values, regress_values, \\\"r-\\\")\\nplt.annotate(line_eq, (10, -10), fontsize=15, color=\\\"red\\\")\\nplt.xlabel(\\\"Latitude\\\")\\nplt.ylabel(\\\"Max Temp (c)\\\")\\nprint(f\\\"The r-squared is: {rvalue**2}\\\")\\nplt.show()\";\n",
       "                var nbb_cells = Jupyter.notebook.get_cells();\n",
       "                for (var i = 0; i < nbb_cells.length; ++i) {\n",
       "                    if (nbb_cells[i].input_prompt_number == nbb_cell_id) {\n",
       "                        if (nbb_cells[i].get_text() == nbb_unformatted_code) {\n",
       "                             nbb_cells[i].set_text(nbb_formatted_code);\n",
       "                        }\n",
       "                        break;\n",
       "                    }\n",
       "                }\n",
       "            }, 500);\n",
       "            "
      ],
      "text/plain": [
       "<IPython.core.display.Javascript object>"
      ]
     },
     "metadata": {},
     "output_type": "display_data"
    }
   ],
   "source": [
    "df_clean_n = df_clean.loc[df[\"Lat\"] > 0, :]\n",
    "x_values = df_clean_n[\"Lat\"]\n",
    "y_values = df_clean_n[\"Max Temp\"]\n",
    "(slope, intercept, rvalue, pvalue, stderr) = linregress(x_values, y_values)\n",
    "regress_values = x_values * slope + intercept\n",
    "line_eq = \"y = \" + str(round(slope, 2)) + \"x + \" + str(round(intercept, 2))\n",
    "plt.scatter(x_values, y_values)\n",
    "plt.plot(x_values, regress_values, \"r-\")\n",
    "plt.annotate(line_eq, (10, -10), fontsize=15, color=\"red\")\n",
    "plt.xlabel(\"Latitude\")\n",
    "plt.ylabel(\"Max Temp (c)\")\n",
    "print(f\"The r-squared is: {rvalue**2}\")\n",
    "plt.show()"
   ]
  },
  {
   "cell_type": "code",
   "execution_count": 68,
   "id": "7feb818d",
   "metadata": {},
   "outputs": [
    {
     "name": "stdout",
     "output_type": "stream",
     "text": [
      "The r-squared is: 0.26420658726599\n"
     ]
    },
    {
     "data": {
      "image/png": "[encoded data removed]",
      "text/plain": [
       "<Figure size 432x288 with 1 Axes>"
      ]
     },
     "metadata": {
      "needs_background": "light"
     },
     "output_type": "display_data"
    },
    {
     "data": {
      "application/javascript": [
       "\n",
       "            setTimeout(function() {\n",
       "                var nbb_cell_id = 68;\n",
       "                var nbb_unformatted_code = \"df_clean_s = df_clean.loc[df[\\\"Lat\\\"] < 0, :]\\nx_values = df_clean_s[\\\"Lat\\\"]\\ny_values = df_clean_s[\\\"Max Temp\\\"]\\n(slope, intercept, rvalue, pvalue, stderr) = linregress(x_values, y_values)\\nregress_values = x_values * slope + intercept\\nline_eq = \\\"y = \\\" + str(round(slope, 2)) + \\\"x + \\\" + str(round(intercept, 2))\\nplt.scatter(x_values, y_values)\\nplt.plot(x_values, regress_values, \\\"r-\\\")\\nplt.annotate(line_eq, (-30, 20), fontsize=15, color=\\\"red\\\")\\nplt.xlabel(\\\"Latitude\\\")\\nplt.ylabel(\\\"Max Temp (c)\\\")\\nprint(f\\\"The r-squared is: {rvalue**2}\\\")\\nplt.show()\";\n",
       "                var nbb_formatted_code = \"df_clean_s = df_clean.loc[df[\\\"Lat\\\"] < 0, :]\\nx_values = df_clean_s[\\\"Lat\\\"]\\ny_values = df_clean_s[\\\"Max Temp\\\"]\\n(slope, intercept, rvalue, pvalue, stderr) = linregress(x_values, y_values)\\nregress_values = x_values * slope + intercept\\nline_eq = \\\"y = \\\" + str(round(slope, 2)) + \\\"x + \\\" + str(round(intercept, 2))\\nplt.scatter(x_values, y_values)\\nplt.plot(x_values, regress_values, \\\"r-\\\")\\nplt.annotate(line_eq, (-30, 20), fontsize=15, color=\\\"red\\\")\\nplt.xlabel(\\\"Latitude\\\")\\nplt.ylabel(\\\"Max Temp (c)\\\")\\nprint(f\\\"The r-squared is: {rvalue**2}\\\")\\nplt.show()\";\n",
       "                var nbb_cells = Jupyter.notebook.get_cells();\n",
       "                for (var i = 0; i < nbb_cells.length; ++i) {\n",
       "                    if (nbb_cells[i].input_prompt_number == nbb_cell_id) {\n",
       "                        if (nbb_cells[i].get_text() == nbb_unformatted_code) {\n",
       "                             nbb_cells[i].set_text(nbb_formatted_code);\n",
       "                        }\n",
       "                        break;\n",
       "                    }\n",
       "                }\n",
       "            }, 500);\n",
       "            "
      ],
      "text/plain": [
       "<IPython.core.display.Javascript object>"
      ]
     },
     "metadata": {},
     "output_type": "display_data"
    }
   ],
   "source": [
    "df_clean_s = df_clean.loc[df[\"Lat\"] < 0, :]\n",
    "x_values = df_clean_s[\"Lat\"]\n",
    "y_values = df_clean_s[\"Max Temp\"]\n",
    "(slope, intercept, rvalue, pvalue, stderr) = linregress(x_values, y_values)\n",
    "regress_values = x_values * slope + intercept\n",
    "line_eq = \"y = \" + str(round(slope, 2)) + \"x + \" + str(round(intercept, 2))\n",
    "plt.scatter(x_values, y_values)\n",
    "plt.plot(x_values, regress_values, \"r-\")\n",
    "plt.annotate(line_eq, (-30, 20), fontsize=15, color=\"red\")\n",
    "plt.xlabel(\"Latitude\")\n",
    "plt.ylabel(\"Max Temp (c)\")\n",
    "print(f\"The r-squared is: {rvalue**2}\")\n",
    "plt.show()"
   ]
  },
  {
   "cell_type": "code",
   "execution_count": 69,
   "id": "9eac913f",
   "metadata": {},
   "outputs": [
    {
     "name": "stdout",
     "output_type": "stream",
     "text": [
      "The r-squared is: 0.1320357363464696\n"
     ]
    },
    {
     "data": {
      "image/png": "[encoded data removed]",
      "text/plain": [
       "<Figure size 432x288 with 1 Axes>"
      ]
     },
     "metadata": {
      "needs_background": "light"
     },
     "output_type": "display_data"
    },
    {
     "data": {
      "application/javascript": [
       "\n",
       "            setTimeout(function() {\n",
       "                var nbb_cell_id = 69;\n",
       "                var nbb_unformatted_code = \"df_clean_n = df_clean.loc[df[\\\"Lat\\\"] > 0, :]\\nx_values = df_clean_n[\\\"Lat\\\"]\\ny_values = df_clean_n[\\\"Humidity\\\"]\\n(slope, intercept, rvalue, pvalue, stderr) = linregress(x_values, y_values)\\nregress_values = x_values * slope + intercept\\nline_eq = \\\"y = \\\" + str(round(slope, 2)) + \\\"x + \\\" + str(round(intercept, 2))\\nplt.scatter(x_values, y_values)\\nplt.plot(x_values, regress_values, \\\"r-\\\")\\nplt.annotate(line_eq, (6, 70\\n                      ), fontsize=15, color=\\\"red\\\")\\nplt.xlabel(\\\"Latitude\\\")\\nplt.ylabel(\\\"Humidity (%)\\\")\\nprint(f\\\"The r-squared is: {rvalue**2}\\\")\\nplt.show()\";\n",
       "                var nbb_formatted_code = \"df_clean_n = df_clean.loc[df[\\\"Lat\\\"] > 0, :]\\nx_values = df_clean_n[\\\"Lat\\\"]\\ny_values = df_clean_n[\\\"Humidity\\\"]\\n(slope, intercept, rvalue, pvalue, stderr) = linregress(x_values, y_values)\\nregress_values = x_values * slope + intercept\\nline_eq = \\\"y = \\\" + str(round(slope, 2)) + \\\"x + \\\" + str(round(intercept, 2))\\nplt.scatter(x_values, y_values)\\nplt.plot(x_values, regress_values, \\\"r-\\\")\\nplt.annotate(line_eq, (6, 70), fontsize=15, color=\\\"red\\\")\\nplt.xlabel(\\\"Latitude\\\")\\nplt.ylabel(\\\"Humidity (%)\\\")\\nprint(f\\\"The r-squared is: {rvalue**2}\\\")\\nplt.show()\";\n",
       "                var nbb_cells = Jupyter.notebook.get_cells();\n",
       "                for (var i = 0; i < nbb_cells.length; ++i) {\n",
       "                    if (nbb_cells[i].input_prompt_number == nbb_cell_id) {\n",
       "                        if (nbb_cells[i].get_text() == nbb_unformatted_code) {\n",
       "                             nbb_cells[i].set_text(nbb_formatted_code);\n",
       "                        }\n",
       "                        break;\n",
       "                    }\n",
       "                }\n",
       "            }, 500);\n",
       "            "
      ],
      "text/plain": [
       "<IPython.core.display.Javascript object>"
      ]
     },
     "metadata": {},
     "output_type": "display_data"
    }
   ],
   "source": [
    "df_clean_n = df_clean.loc[df[\"Lat\"] > 0, :]\n",
    "x_values = df_clean_n[\"Lat\"]\n",
    "y_values = df_clean_n[\"Humidity\"]\n",
    "(slope, intercept, rvalue, pvalue, stderr) = linregress(x_values, y_values)\n",
    "regress_values = x_values * slope + intercept\n",
    "line_eq = \"y = \" + str(round(slope, 2)) + \"x + \" + str(round(intercept, 2))\n",
    "plt.scatter(x_values, y_values)\n",
    "plt.plot(x_values, regress_values, \"r-\")\n",
    "plt.annotate(line_eq, (6, 70), fontsize=15, color=\"red\")\n",
    "plt.xlabel(\"Latitude\")\n",
    "plt.ylabel(\"Humidity (%)\")\n",
    "print(f\"The r-squared is: {rvalue**2}\")\n",
    "plt.show()"
   ]
  },
  {
   "cell_type": "code",
   "execution_count": 70,
   "id": "c10dd461",
   "metadata": {},
   "outputs": [
    {
     "name": "stdout",
     "output_type": "stream",
     "text": [
      "The r-squared is: 0.12113389780160265\n"
     ]
    },
    {
     "data": {
      "image/png": "[encoded data removed]",
      "text/plain": [
       "<Figure size 432x288 with 1 Axes>"
      ]
     },
     "metadata": {
      "needs_background": "light"
     },
     "output_type": "display_data"
    },
    {
     "data": {
      "application/javascript": [
       "\n",
       "            setTimeout(function() {\n",
       "                var nbb_cell_id = 70;\n",
       "                var nbb_unformatted_code = \"df_clean_s = df_clean.loc[df[\\\"Lat\\\"] < 0, :]\\nx_values = df_clean_s[\\\"Lat\\\"]\\ny_values = df_clean_s[\\\"Humidity\\\"]\\n(slope, intercept, rvalue, pvalue, stderr) = linregress(x_values, y_values)\\nregress_values = x_values * slope + intercept\\nline_eq = \\\"y = \\\" + str(round(slope, 2)) + \\\"x + \\\" + str(round(intercept, 2))\\nplt.scatter(x_values, y_values)\\nplt.plot(x_values, regress_values, \\\"r-\\\")\\nplt.annotate(line_eq, (-50, 65), fontsize=15, color=\\\"red\\\")\\nplt.xlabel(\\\"Latitude\\\")\\nplt.ylabel(\\\"Humidity (%)\\\")\\nprint(f\\\"The r-squared is: {rvalue**2}\\\")\\nplt.show()\";\n",
       "                var nbb_formatted_code = \"df_clean_s = df_clean.loc[df[\\\"Lat\\\"] < 0, :]\\nx_values = df_clean_s[\\\"Lat\\\"]\\ny_values = df_clean_s[\\\"Humidity\\\"]\\n(slope, intercept, rvalue, pvalue, stderr) = linregress(x_values, y_values)\\nregress_values = x_values * slope + intercept\\nline_eq = \\\"y = \\\" + str(round(slope, 2)) + \\\"x + \\\" + str(round(intercept, 2))\\nplt.scatter(x_values, y_values)\\nplt.plot(x_values, regress_values, \\\"r-\\\")\\nplt.annotate(line_eq, (-50, 65), fontsize=15, color=\\\"red\\\")\\nplt.xlabel(\\\"Latitude\\\")\\nplt.ylabel(\\\"Humidity (%)\\\")\\nprint(f\\\"The r-squared is: {rvalue**2}\\\")\\nplt.show()\";\n",
       "                var nbb_cells = Jupyter.notebook.get_cells();\n",
       "                for (var i = 0; i < nbb_cells.length; ++i) {\n",
       "                    if (nbb_cells[i].input_prompt_number == nbb_cell_id) {\n",
       "                        if (nbb_cells[i].get_text() == nbb_unformatted_code) {\n",
       "                             nbb_cells[i].set_text(nbb_formatted_code);\n",
       "                        }\n",
       "                        break;\n",
       "                    }\n",
       "                }\n",
       "            }, 500);\n",
       "            "
      ],
      "text/plain": [
       "<IPython.core.display.Javascript object>"
      ]
     },
     "metadata": {},
     "output_type": "display_data"
    }
   ],
   "source": [
    "df_clean_s = df_clean.loc[df[\"Lat\"] < 0, :]\n",
    "x_values = df_clean_s[\"Lat\"]\n",
    "y_values = df_clean_s[\"Humidity\"]\n",
    "(slope, intercept, rvalue, pvalue, stderr) = linregress(x_values, y_values)\n",
    "regress_values = x_values * slope + intercept\n",
    "line_eq = \"y = \" + str(round(slope, 2)) + \"x + \" + str(round(intercept, 2))\n",
    "plt.scatter(x_values, y_values)\n",
    "plt.plot(x_values, regress_values, \"r-\")\n",
    "plt.annotate(line_eq, (-50, 65), fontsize=15, color=\"red\")\n",
    "plt.xlabel(\"Latitude\")\n",
    "plt.ylabel(\"Humidity (%)\")\n",
    "print(f\"The r-squared is: {rvalue**2}\")\n",
    "plt.show()"
   ]
  },
  {
   "cell_type": "code",
   "execution_count": 61,
   "id": "69aae6bf",
   "metadata": {},
   "outputs": [
    {
     "name": "stdout",
     "output_type": "stream",
     "text": [
      "The r-squared is: 0.014385400066987346\n"
     ]
    },
    {
     "data": {
      "image/png": "[encoded data removed]",
      "text/plain": [
       "<Figure size 432x288 with 1 Axes>"
      ]
     },
     "metadata": {
      "needs_background": "light"
     },
     "output_type": "display_data"
    },
    {
     "data": {
      "application/javascript": [
       "\n",
       "            setTimeout(function() {\n",
       "                var nbb_cell_id = 61;\n",
       "                var nbb_unformatted_code = \"df_clean_n = df_clean.loc[df[\\\"Lat\\\"] > 0, :]\\nx_values = df_clean_n[\\\"Lat\\\"]\\ny_values = df_clean_n[\\\"Cloudiness\\\"]\\n(slope, intercept, rvalue, pvalue, stderr) = linregress(x_values, y_values)\\nregress_values = x_values * slope + intercept\\nline_eq = \\\"y = \\\" + str(round(slope, 2)) + \\\"x + \\\" + str(round(intercept, 2))\\nplt.scatter(x_values, y_values)\\nplt.plot(x_values, regress_values, \\\"r-\\\")\\nplt.annotate(line_eq, (6, 10), fontsize=15, color=\\\"red\\\")\\nplt.xlabel(\\\"Latitude\\\")\\nplt.ylabel(\\\"Cloudiness\\\")\\nprint(f\\\"The r-squared is: {rvalue**2}\\\")\\nplt.show()\";\n",
       "                var nbb_formatted_code = \"df_clean_n = df_clean.loc[df[\\\"Lat\\\"] > 0, :]\\nx_values = df_clean_n[\\\"Lat\\\"]\\ny_values = df_clean_n[\\\"Cloudiness\\\"]\\n(slope, intercept, rvalue, pvalue, stderr) = linregress(x_values, y_values)\\nregress_values = x_values * slope + intercept\\nline_eq = \\\"y = \\\" + str(round(slope, 2)) + \\\"x + \\\" + str(round(intercept, 2))\\nplt.scatter(x_values, y_values)\\nplt.plot(x_values, regress_values, \\\"r-\\\")\\nplt.annotate(line_eq, (6, 10), fontsize=15, color=\\\"red\\\")\\nplt.xlabel(\\\"Latitude\\\")\\nplt.ylabel(\\\"Cloudiness\\\")\\nprint(f\\\"The r-squared is: {rvalue**2}\\\")\\nplt.show()\";\n",
       "                var nbb_cells = Jupyter.notebook.get_cells();\n",
       "                for (var i = 0; i < nbb_cells.length; ++i) {\n",
       "                    if (nbb_cells[i].input_prompt_number == nbb_cell_id) {\n",
       "                        if (nbb_cells[i].get_text() == nbb_unformatted_code) {\n",
       "                             nbb_cells[i].set_text(nbb_formatted_code);\n",
       "                        }\n",
       "                        break;\n",
       "                    }\n",
       "                }\n",
       "            }, 500);\n",
       "            "
      ],
      "text/plain": [
       "<IPython.core.display.Javascript object>"
      ]
     },
     "metadata": {},
     "output_type": "display_data"
    }
   ],
   "source": [
    "df_clean_n = df_clean.loc[df[\"Lat\"] > 0, :]\n",
    "x_values = df_clean_n[\"Lat\"]\n",
    "y_values = df_clean_n[\"Cloudiness\"]\n",
    "(slope, intercept, rvalue, pvalue, stderr) = linregress(x_values, y_values)\n",
    "regress_values = x_values * slope + intercept\n",
    "line_eq = \"y = \" + str(round(slope, 2)) + \"x + \" + str(round(intercept, 2))\n",
    "plt.scatter(x_values, y_values)\n",
    "plt.plot(x_values, regress_values, \"r-\")\n",
    "plt.annotate(line_eq, (6, 10), fontsize=15, color=\"red\")\n",
    "plt.xlabel(\"Latitude\")\n",
    "plt.ylabel(\"Cloudiness\")\n",
    "print(f\"The r-squared is: {rvalue**2}\")\n",
    "plt.show()"
   ]
  },
  {
   "cell_type": "code",
   "execution_count": 71,
   "id": "947ff20d",
   "metadata": {},
   "outputs": [
    {
     "name": "stdout",
     "output_type": "stream",
     "text": [
      "The r-squared is: 0.23914328410839783\n"
     ]
    },
    {
     "data": {
      "image/png": "[encoded data removed]",
      "text/plain": [
       "<Figure size 432x288 with 1 Axes>"
      ]
     },
     "metadata": {
      "needs_background": "light"
     },
     "output_type": "display_data"
    },
    {
     "data": {
      "application/javascript": [
       "\n",
       "            setTimeout(function() {\n",
       "                var nbb_cell_id = 71;\n",
       "                var nbb_unformatted_code = \"df_clean_s = df_clean.loc[df[\\\"Lat\\\"] < 0, :]\\nx_values = df_clean_s[\\\"Lat\\\"]\\ny_values = df_clean_s[\\\"Cloudiness\\\"]\\n(slope, intercept, rvalue, pvalue, stderr) = linregress(x_values, y_values)\\nregress_values = x_values * slope + intercept\\nline_eq = \\\"y = \\\" + str(round(slope, 2)) + \\\"x + \\\" + str(round(intercept, 2))\\nplt.scatter(x_values, y_values)\\nplt.plot(x_values, regress_values, \\\"r-\\\")\\nplt.annotate(line_eq, (-50,20), fontsize=15, color=\\\"red\\\")\\nplt.xlabel(\\\"Latitude\\\")\\nplt.ylabel(\\\"Cloudiness\\\")\\nprint(f\\\"The r-squared is: {rvalue**2}\\\")\\nplt.show()\";\n",
       "                var nbb_formatted_code = \"df_clean_s = df_clean.loc[df[\\\"Lat\\\"] < 0, :]\\nx_values = df_clean_s[\\\"Lat\\\"]\\ny_values = df_clean_s[\\\"Cloudiness\\\"]\\n(slope, intercept, rvalue, pvalue, stderr) = linregress(x_values, y_values)\\nregress_values = x_values * slope + intercept\\nline_eq = \\\"y = \\\" + str(round(slope, 2)) + \\\"x + \\\" + str(round(intercept, 2))\\nplt.scatter(x_values, y_values)\\nplt.plot(x_values, regress_values, \\\"r-\\\")\\nplt.annotate(line_eq, (-50, 20), fontsize=15, color=\\\"red\\\")\\nplt.xlabel(\\\"Latitude\\\")\\nplt.ylabel(\\\"Cloudiness\\\")\\nprint(f\\\"The r-squared is: {rvalue**2}\\\")\\nplt.show()\";\n",
       "                var nbb_cells = Jupyter.notebook.get_cells();\n",
       "                for (var i = 0; i < nbb_cells.length; ++i) {\n",
       "                    if (nbb_cells[i].input_prompt_number == nbb_cell_id) {\n",
       "                        if (nbb_cells[i].get_text() == nbb_unformatted_code) {\n",
       "                             nbb_cells[i].set_text(nbb_formatted_code);\n",
       "                        }\n",
       "                        break;\n",
       "                    }\n",
       "                }\n",
       "            }, 500);\n",
       "            "
      ],
      "text/plain": [
       "<IPython.core.display.Javascript object>"
      ]
     },
     "metadata": {},
     "output_type": "display_data"
    }
   ],
   "source": [
    "df_clean_s = df_clean.loc[df[\"Lat\"] < 0, :]\n",
    "x_values = df_clean_s[\"Lat\"]\n",
    "y_values = df_clean_s[\"Cloudiness\"]\n",
    "(slope, intercept, rvalue, pvalue, stderr) = linregress(x_values, y_values)\n",
    "regress_values = x_values * slope + intercept\n",
    "line_eq = \"y = \" + str(round(slope, 2)) + \"x + \" + str(round(intercept, 2))\n",
    "plt.scatter(x_values, y_values)\n",
    "plt.plot(x_values, regress_values, \"r-\")\n",
    "plt.annotate(line_eq, (-50, 20), fontsize=15, color=\"red\")\n",
    "plt.xlabel(\"Latitude\")\n",
    "plt.ylabel(\"Cloudiness\")\n",
    "print(f\"The r-squared is: {rvalue**2}\")\n",
    "plt.show()"
   ]
  },
  {
   "cell_type": "code",
   "execution_count": 64,
   "id": "450d9051",
   "metadata": {},
   "outputs": [
    {
     "name": "stdout",
     "output_type": "stream",
     "text": [
      "The r-squared is: 1.8214079285435434e-05\n"
     ]
    },
    {
     "data": {
      "image/png": "[encoded data removed]",
      "text/plain": [
       "<Figure size 432x288 with 1 Axes>"
      ]
     },
     "metadata": {
      "needs_background": "light"
     },
     "output_type": "display_data"
    },
    {
     "data": {
      "application/javascript": [
       "\n",
       "            setTimeout(function() {\n",
       "                var nbb_cell_id = 64;\n",
       "                var nbb_unformatted_code = \"df_clean_n = df_clean.loc[df[\\\"Lat\\\"] > 0, :]\\nx_values = df_clean_n[\\\"Lat\\\"]\\ny_values = df_clean_n[\\\" Wind Speed\\\"]\\n(slope, intercept, rvalue, pvalue, stderr) = linregress(x_values, y_values)\\nregress_values = x_values * slope + intercept\\nline_eq = \\\"y = \\\" + str(round(slope, 2)) + \\\"x + \\\" + str(round(intercept, 2))\\nplt.scatter(x_values, y_values)\\nplt.plot(x_values, regress_values, \\\"r-\\\")\\nplt.annotate(line_eq, (6, 10), fontsize=15, color=\\\"red\\\")\\nplt.xlabel(\\\"Latitude\\\")\\nplt.ylabel(\\\"Wind Speed\\\")\\nprint(f\\\"The r-squared is: {rvalue**2}\\\")\\nplt.show()\";\n",
       "                var nbb_formatted_code = \"df_clean_n = df_clean.loc[df[\\\"Lat\\\"] > 0, :]\\nx_values = df_clean_n[\\\"Lat\\\"]\\ny_values = df_clean_n[\\\" Wind Speed\\\"]\\n(slope, intercept, rvalue, pvalue, stderr) = linregress(x_values, y_values)\\nregress_values = x_values * slope + intercept\\nline_eq = \\\"y = \\\" + str(round(slope, 2)) + \\\"x + \\\" + str(round(intercept, 2))\\nplt.scatter(x_values, y_values)\\nplt.plot(x_values, regress_values, \\\"r-\\\")\\nplt.annotate(line_eq, (6, 10), fontsize=15, color=\\\"red\\\")\\nplt.xlabel(\\\"Latitude\\\")\\nplt.ylabel(\\\"Wind Speed\\\")\\nprint(f\\\"The r-squared is: {rvalue**2}\\\")\\nplt.show()\";\n",
       "                var nbb_cells = Jupyter.notebook.get_cells();\n",
       "                for (var i = 0; i < nbb_cells.length; ++i) {\n",
       "                    if (nbb_cells[i].input_prompt_number == nbb_cell_id) {\n",
       "                        if (nbb_cells[i].get_text() == nbb_unformatted_code) {\n",
       "                             nbb_cells[i].set_text(nbb_formatted_code);\n",
       "                        }\n",
       "                        break;\n",
       "                    }\n",
       "                }\n",
       "            }, 500);\n",
       "            "
      ],
      "text/plain": [
       "<IPython.core.display.Javascript object>"
      ]
     },
     "metadata": {},
     "output_type": "display_data"
    }
   ],
   "source": [
    "df_clean_n = df_clean.loc[df[\"Lat\"] > 0, :]\n",
    "x_values = df_clean_n[\"Lat\"]\n",
    "y_values = df_clean_n[\" Wind Speed\"]\n",
    "(slope, intercept, rvalue, pvalue, stderr) = linregress(x_values, y_values)\n",
    "regress_values = x_values * slope + intercept\n",
    "line_eq = \"y = \" + str(round(slope, 2)) + \"x + \" + str(round(intercept, 2))\n",
    "plt.scatter(x_values, y_values)\n",
    "plt.plot(x_values, regress_values, \"r-\")\n",
    "plt.annotate(line_eq, (6, 10), fontsize=15, color=\"red\")\n",
    "plt.xlabel(\"Latitude\")\n",
    "plt.ylabel(\"Wind Speed\")\n",
    "print(f\"The r-squared is: {rvalue**2}\")\n",
    "plt.show()"
   ]
  },
  {
   "cell_type": "code",
   "execution_count": 72,
   "id": "1fb0225e",
   "metadata": {},
   "outputs": [
    {
     "name": "stdout",
     "output_type": "stream",
     "text": [
      "The r-squared is: 0.12970359743102292\n"
     ]
    },
    {
     "data": {
      "image/png": "[encoded data removed]",
      "text/plain": [
       "<Figure size 432x288 with 1 Axes>"
      ]
     },
     "metadata": {
      "needs_background": "light"
     },
     "output_type": "display_data"
    },
    {
     "data": {
      "application/javascript": [
       "\n",
       "            setTimeout(function() {\n",
       "                var nbb_cell_id = 72;\n",
       "                var nbb_unformatted_code = \"df_clean_s = df_clean.loc[df[\\\"Lat\\\"] < 0, :]\\nx_values = df_clean_s[\\\"Lat\\\"]\\ny_values = df_clean_s[\\\" Wind Speed\\\"]\\n(slope, intercept, rvalue, pvalue, stderr) = linregress(x_values, y_values)\\nregress_values = x_values * slope + intercept\\nline_eq = \\\"y = \\\" + str(round(slope, 2)) + \\\"x + \\\" + str(round(intercept, 2))\\nplt.scatter(x_values, y_values)\\nplt.plot(x_values, regress_values, \\\"r-\\\")\\nplt.annotate(line_eq, (-40, 6), fontsize=15, color=\\\"red\\\")\\nplt.xlabel(\\\"Latitude\\\")\\nplt.ylabel(\\\"Wind Speed\\\")\\nprint(f\\\"The r-squared is: {rvalue**2}\\\")\\nplt.show()\";\n",
       "                var nbb_formatted_code = \"df_clean_s = df_clean.loc[df[\\\"Lat\\\"] < 0, :]\\nx_values = df_clean_s[\\\"Lat\\\"]\\ny_values = df_clean_s[\\\" Wind Speed\\\"]\\n(slope, intercept, rvalue, pvalue, stderr) = linregress(x_values, y_values)\\nregress_values = x_values * slope + intercept\\nline_eq = \\\"y = \\\" + str(round(slope, 2)) + \\\"x + \\\" + str(round(intercept, 2))\\nplt.scatter(x_values, y_values)\\nplt.plot(x_values, regress_values, \\\"r-\\\")\\nplt.annotate(line_eq, (-40, 6), fontsize=15, color=\\\"red\\\")\\nplt.xlabel(\\\"Latitude\\\")\\nplt.ylabel(\\\"Wind Speed\\\")\\nprint(f\\\"The r-squared is: {rvalue**2}\\\")\\nplt.show()\";\n",
       "                var nbb_cells = Jupyter.notebook.get_cells();\n",
       "                for (var i = 0; i < nbb_cells.length; ++i) {\n",
       "                    if (nbb_cells[i].input_prompt_number == nbb_cell_id) {\n",
       "                        if (nbb_cells[i].get_text() == nbb_unformatted_code) {\n",
       "                             nbb_cells[i].set_text(nbb_formatted_code);\n",
       "                        }\n",
       "                        break;\n",
       "                    }\n",
       "                }\n",
       "            }, 500);\n",
       "            "
      ],
      "text/plain": [
       "<IPython.core.display.Javascript object>"
      ]
     },
     "metadata": {},
     "output_type": "display_data"
    }
   ],
   "source": [
    "df_clean_s = df_clean.loc[df[\"Lat\"] < 0, :]\n",
    "x_values = df_clean_s[\"Lat\"]\n",
    "y_values = df_clean_s[\" Wind Speed\"]\n",
    "(slope, intercept, rvalue, pvalue, stderr) = linregress(x_values, y_values)\n",
    "regress_values = x_values * slope + intercept\n",
    "line_eq = \"y = \" + str(round(slope, 2)) + \"x + \" + str(round(intercept, 2))\n",
    "plt.scatter(x_values, y_values)\n",
    "plt.plot(x_values, regress_values, \"r-\")\n",
    "plt.annotate(line_eq, (-40, 6), fontsize=15, color=\"red\")\n",
    "plt.xlabel(\"Latitude\")\n",
    "plt.ylabel(\"Wind Speed\")\n",
    "print(f\"The r-squared is: {rvalue**2}\")\n",
    "plt.show()"
   ]
  },
  {
   "cell_type": "code",
   "execution_count": null,
   "id": "c75499c7",
   "metadata": {},
   "outputs": [],
   "source": []
  }
 ],
 "metadata": {
  "kernelspec": {
   "display_name": "Python 3.9.7 ('base': conda)",
   "language": "python",
   "name": "python397jvsc74a57bd04f939eee113f5e89652435c47d6206c39604679cff2d82c28a29ac220da2d15d"
  },
  "language_info": {
   "codemirror_mode": {
    "name": "ipython",
    "version": 3
   },
   "file_extension": ".py",
   "mimetype": "text/x-python",
   "name": "python",
   "nbconvert_exporter": "python",
   "pygments_lexer": "ipython3",
   "version": "3.9.7"
  }
 },
 "nbformat": 4,
 "nbformat_minor": 5
}
