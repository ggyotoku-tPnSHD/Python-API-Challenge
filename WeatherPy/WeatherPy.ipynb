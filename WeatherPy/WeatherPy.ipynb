{
 "cells": [
  {
   "cell_type": "code",
   "execution_count": 1,
   "id": "4f3c7a26",
   "metadata": {},
   "outputs": [
    {
     "data": {
      "application/javascript": [
       "\n",
       "            setTimeout(function() {\n",
       "                var nbb_cell_id = 1;\n",
       "                var nbb_unformatted_code = \"%load_ext nb_black\";\n",
       "                var nbb_formatted_code = \"%load_ext nb_black\";\n",
       "                var nbb_cells = Jupyter.notebook.get_cells();\n",
       "                for (var i = 0; i < nbb_cells.length; ++i) {\n",
       "                    if (nbb_cells[i].input_prompt_number == nbb_cell_id) {\n",
       "                        if (nbb_cells[i].get_text() == nbb_unformatted_code) {\n",
       "                             nbb_cells[i].set_text(nbb_formatted_code);\n",
       "                        }\n",
       "                        break;\n",
       "                    }\n",
       "                }\n",
       "            }, 500);\n",
       "            "
      ],
      "text/plain": [
       "<IPython.core.display.Javascript object>"
      ]
     },
     "metadata": {},
     "output_type": "display_data"
    }
   ],
   "source": [
    "%load_ext nb_black\n"
   ]
  },
  {
   "cell_type": "code",
   "execution_count": 2,
   "id": "91fc419a",
   "metadata": {},
   "outputs": [
    {
     "data": {
      "application/javascript": [
       "\n",
       "            setTimeout(function() {\n",
       "                var nbb_cell_id = 2;\n",
       "                var nbb_unformatted_code = \"import pandas as pd\\nimport os\\nimport numpy as np\\nimport matplotlib.pyplot as plt\\nimport requests\\nimport time\\nimport csv\\nfrom scipy.stats import linregress\\nfrom citipy import citipy\\nfrom apy_keys import weather_apy_key\\n\\nlat_range = (-90, 90)\\nlng_range = (-180, 180)\\n\\noutput_data_file = \\\"../output_data/cities.csv\\\"\";\n",
       "                var nbb_formatted_code = \"import pandas as pd\\nimport os\\nimport numpy as np\\nimport matplotlib.pyplot as plt\\nimport requests\\nimport time\\nimport csv\\nfrom scipy.stats import linregress\\nfrom citipy import citipy\\nfrom apy_keys import weather_apy_key\\n\\nlat_range = (-90, 90)\\nlng_range = (-180, 180)\\n\\noutput_data_file = \\\"../output_data/cities.csv\\\"\";\n",
       "                var nbb_cells = Jupyter.notebook.get_cells();\n",
       "                for (var i = 0; i < nbb_cells.length; ++i) {\n",
       "                    if (nbb_cells[i].input_prompt_number == nbb_cell_id) {\n",
       "                        if (nbb_cells[i].get_text() == nbb_unformatted_code) {\n",
       "                             nbb_cells[i].set_text(nbb_formatted_code);\n",
       "                        }\n",
       "                        break;\n",
       "                    }\n",
       "                }\n",
       "            }, 500);\n",
       "            "
      ],
      "text/plain": [
       "<IPython.core.display.Javascript object>"
      ]
     },
     "metadata": {},
     "output_type": "display_data"
    }
   ],
   "source": [
    "import pandas as pd\n",
    "import os\n",
    "import numpy as np\n",
    "import matplotlib.pyplot as plt\n",
    "import requests\n",
    "import time\n",
    "import csv\n",
    "from scipy.stats import linregress\n",
    "from citipy import citipy\n",
    "from apy_keys import weather_apy_key\n",
    "\n",
    "lat_range = (-90, 90)\n",
    "lng_range = (-180, 180)\n",
    "\n",
    "output_data_file = \"../output_data/cities.csv\"\n"
   ]
  },
  {
   "cell_type": "code",
   "execution_count": 3,
   "id": "36e7883a",
   "metadata": {},
   "outputs": [
    {
     "data": {
      "application/javascript": [
       "\n",
       "            setTimeout(function() {\n",
       "                var nbb_cell_id = 3;\n",
       "                var nbb_unformatted_code = \"lat_lngs = []\\ncities = []\\n\\nlats = np.random.uniform(lat_range[0], lat_range[1], size=1500)\\nlngs = np.random.uniform(lng_range[0], lng_range[1], size=1500)\\nlat_lngs = zip(lats, lngs)\\n\\nfor lat_lng in lat_lngs:\\n    city = citipy.nearest_city(lat_lng[0], lat_lng[1]).city_name\\n\\n    if city not in cities:\\n        cities.append(city)\\nnumber_of_cities = len(cities)\";\n",
       "                var nbb_formatted_code = \"lat_lngs = []\\ncities = []\\n\\nlats = np.random.uniform(lat_range[0], lat_range[1], size=1500)\\nlngs = np.random.uniform(lng_range[0], lng_range[1], size=1500)\\nlat_lngs = zip(lats, lngs)\\n\\nfor lat_lng in lat_lngs:\\n    city = citipy.nearest_city(lat_lng[0], lat_lng[1]).city_name\\n\\n    if city not in cities:\\n        cities.append(city)\\nnumber_of_cities = len(cities)\";\n",
       "                var nbb_cells = Jupyter.notebook.get_cells();\n",
       "                for (var i = 0; i < nbb_cells.length; ++i) {\n",
       "                    if (nbb_cells[i].input_prompt_number == nbb_cell_id) {\n",
       "                        if (nbb_cells[i].get_text() == nbb_unformatted_code) {\n",
       "                             nbb_cells[i].set_text(nbb_formatted_code);\n",
       "                        }\n",
       "                        break;\n",
       "                    }\n",
       "                }\n",
       "            }, 500);\n",
       "            "
      ],
      "text/plain": [
       "<IPython.core.display.Javascript object>"
      ]
     },
     "metadata": {},
     "output_type": "display_data"
    }
   ],
   "source": [
    "lat_lngs = []\n",
    "cities = []\n",
    "\n",
    "lats = np.random.uniform(lat_range[0], lat_range[1], size=1500)\n",
    "lngs = np.random.uniform(lng_range[0], lng_range[1], size=1500)\n",
    "lat_lngs = zip(lats, lngs)\n",
    "\n",
    "for lat_lng in lat_lngs:\n",
    "    city = citipy.nearest_city(lat_lng[0], lat_lng[1]).city_name\n",
    "\n",
    "    if city not in cities:\n",
    "        cities.append(city)\n",
    "number_of_cities = len(cities)\n"
   ]
  },
  {
   "cell_type": "code",
   "execution_count": 4,
   "id": "f654e780",
   "metadata": {},
   "outputs": [
    {
     "data": {
      "text/plain": [
       "603"
      ]
     },
     "execution_count": 4,
     "metadata": {},
     "output_type": "execute_result"
    },
    {
     "data": {
      "application/javascript": [
       "\n",
       "            setTimeout(function() {\n",
       "                var nbb_cell_id = 4;\n",
       "                var nbb_unformatted_code = \"number_of_cities\";\n",
       "                var nbb_formatted_code = \"number_of_cities\";\n",
       "                var nbb_cells = Jupyter.notebook.get_cells();\n",
       "                for (var i = 0; i < nbb_cells.length; ++i) {\n",
       "                    if (nbb_cells[i].input_prompt_number == nbb_cell_id) {\n",
       "                        if (nbb_cells[i].get_text() == nbb_unformatted_code) {\n",
       "                             nbb_cells[i].set_text(nbb_formatted_code);\n",
       "                        }\n",
       "                        break;\n",
       "                    }\n",
       "                }\n",
       "            }, 500);\n",
       "            "
      ],
      "text/plain": [
       "<IPython.core.display.Javascript object>"
      ]
     },
     "metadata": {},
     "output_type": "display_data"
    }
   ],
   "source": [
    "number_of_cities"
   ]
  },
  {
   "cell_type": "code",
   "execution_count": 5,
   "id": "1a451a91",
   "metadata": {},
   "outputs": [
    {
     "data": {
      "application/javascript": [
       "\n",
       "            setTimeout(function() {\n",
       "                var nbb_cell_id = 5;\n",
       "                var nbb_unformatted_code = \"# retrieve the weather for each city\\n# create a list and save each iteration to it of\\n# lat, lng, max temp, humidity, cloudiness, wind speed, country\\n# and date\\n# export cities into a .csv\\n# transform it into a dataframe\";\n",
       "                var nbb_formatted_code = \"# retrieve the weather for each city\\n# create a list and save each iteration to it of\\n# lat, lng, max temp, humidity, cloudiness, wind speed, country\\n# and date\\n# export cities into a .csv\\n# transform it into a dataframe\";\n",
       "                var nbb_cells = Jupyter.notebook.get_cells();\n",
       "                for (var i = 0; i < nbb_cells.length; ++i) {\n",
       "                    if (nbb_cells[i].input_prompt_number == nbb_cell_id) {\n",
       "                        if (nbb_cells[i].get_text() == nbb_unformatted_code) {\n",
       "                             nbb_cells[i].set_text(nbb_formatted_code);\n",
       "                        }\n",
       "                        break;\n",
       "                    }\n",
       "                }\n",
       "            }, 500);\n",
       "            "
      ],
      "text/plain": [
       "<IPython.core.display.Javascript object>"
      ]
     },
     "metadata": {},
     "output_type": "display_data"
    }
   ],
   "source": [
    "# retrieve the weather for each city\n",
    "# create a list and save each iteration to it of\n",
    "# lat, lng, max temp, humidity, cloudiness, wind speed, country\n",
    "# and date\n",
    "# export cities into a .csv\n",
    "# transform it into a dataframe"
   ]
  },
  {
   "cell_type": "code",
   "execution_count": 6,
   "id": "956a2edb",
   "metadata": {},
   "outputs": [
    {
     "data": {
      "text/plain": [
       "{'coord': {'lon': -118.2437, 'lat': 34.0522},\n",
       " 'weather': [{'id': 800,\n",
       "   'main': 'Clear',\n",
       "   'description': 'clear sky',\n",
       "   'icon': '01d'}],\n",
       " 'base': 'stations',\n",
       " 'main': {'temp': 18.78,\n",
       "  'feels_like': 17.81,\n",
       "  'temp_min': 13.99,\n",
       "  'temp_max': 24.79,\n",
       "  'pressure': 1016,\n",
       "  'humidity': 42},\n",
       " 'visibility': 10000,\n",
       " 'wind': {'speed': 5.14, 'deg': 260},\n",
       " 'clouds': {'all': 0},\n",
       " 'dt': 1645319957,\n",
       " 'sys': {'type': 1,\n",
       "  'id': 3694,\n",
       "  'country': 'US',\n",
       "  'sunrise': 1645281212,\n",
       "  'sunset': 1645321223},\n",
       " 'timezone': -28800,\n",
       " 'id': 5368361,\n",
       " 'name': 'Los Angeles',\n",
       " 'cod': 200}"
      ]
     },
     "execution_count": 6,
     "metadata": {},
     "output_type": "execute_result"
    },
    {
     "data": {
      "application/javascript": [
       "\n",
       "            setTimeout(function() {\n",
       "                var nbb_cell_id = 6;\n",
       "                var nbb_unformatted_code = \"url = \\\"http://api.openweathermap.org/data/2.5/weather?\\\"\\nquery_url = url + \\\"appid=\\\" + weather_apy_key + \\\"&q=\\\" + \\\"los angeles\\\" + \\\"&units=metric\\\"\\nquery_response = requests.get(query_url).json()\\nquery_response\";\n",
       "                var nbb_formatted_code = \"url = \\\"http://api.openweathermap.org/data/2.5/weather?\\\"\\nquery_url = url + \\\"appid=\\\" + weather_apy_key + \\\"&q=\\\" + \\\"los angeles\\\" + \\\"&units=metric\\\"\\nquery_response = requests.get(query_url).json()\\nquery_response\";\n",
       "                var nbb_cells = Jupyter.notebook.get_cells();\n",
       "                for (var i = 0; i < nbb_cells.length; ++i) {\n",
       "                    if (nbb_cells[i].input_prompt_number == nbb_cell_id) {\n",
       "                        if (nbb_cells[i].get_text() == nbb_unformatted_code) {\n",
       "                             nbb_cells[i].set_text(nbb_formatted_code);\n",
       "                        }\n",
       "                        break;\n",
       "                    }\n",
       "                }\n",
       "            }, 500);\n",
       "            "
      ],
      "text/plain": [
       "<IPython.core.display.Javascript object>"
      ]
     },
     "metadata": {},
     "output_type": "display_data"
    }
   ],
   "source": [
    "url = \"http://api.openweathermap.org/data/2.5/weather?\"\n",
    "query_url = url + \"appid=\" + weather_apy_key + \"&q=\" + \"los angeles\" + \"&units=metric\"\n",
    "query_response = requests.get(query_url).json()\n",
    "query_response"
   ]
  },
  {
   "cell_type": "code",
   "execution_count": 7,
   "id": "a470831e",
   "metadata": {},
   "outputs": [
    {
     "name": "stdout",
     "output_type": "stream",
     "text": [
      "Beginning Data Retrieval \n",
      "\n",
      "------------------------------\n",
      "Processing Record 1 of Set 1 | ciprian porumbescu\n",
      "Processing Record 2 of Set 1 | barrow\n",
      "Processing Record 3 of Set 1 | albany\n",
      "Processing Record 4 of Set 1 | constitucion\n",
      "Processing Record 5 of Set 1 | rikitea\n",
      "Processing Record 6 of Set 1 | puerto ayacucho\n",
      "Processing Record 7 of Set 1 | carnarvon\n",
      "Processing Record 8 of Set 1 | saskylakh\n",
      "Processing Record 9 of Set 1 | svolvaer\n",
      "Processing Record 10 of Set 1 | mataura\n",
      "Processing Record 11 of Set 1 | upernavik\n",
      "Processing Record 12 of Set 1 | busselton\n",
      "Processing Record 13 of Set 1 | cabadiangan\n",
      "Processing Record 14 of Set 1 | arraial do cabo\n",
      "Processing Record 15 of Set 1 | victoria\n",
      "Processing Record 16 of Set 1 | qaanaaq\n",
      "Processing Record 17 of Set 1 | nikolskoye\n",
      "Processing Record 18 of Set 1 | bako\n",
      "Processing Record 19 of Set 1 | butaritari\n",
      "Processing Record 20 of Set 1 | akropong\n",
      "Processing Record 21 of Set 1 | kahului\n",
      "Processing Record 22 of Set 1 | taolanaro\n",
      "City taolanaro not found. Skipping...\n",
      "Processing Record 23 of Set 1 | illoqqortoormiut\n",
      "City illoqqortoormiut not found. Skipping...\n",
      "Processing Record 24 of Set 1 | bredasdorp\n",
      "Processing Record 25 of Set 1 | tasiilaq\n",
      "Processing Record 26 of Set 1 | bethel\n",
      "Processing Record 27 of Set 1 | east london\n",
      "Processing Record 28 of Set 1 | gat\n",
      "Processing Record 29 of Set 1 | svetlogorsk\n",
      "Processing Record 30 of Set 1 | meadow lake\n",
      "Processing Record 31 of Set 1 | sibolga\n",
      "Processing Record 32 of Set 1 | srandakan\n",
      "Processing Record 33 of Set 1 | belushya guba\n",
      "City belushya guba not found. Skipping...\n",
      "Processing Record 34 of Set 1 | codrington\n",
      "Processing Record 35 of Set 1 | solnechnyy\n",
      "Processing Record 36 of Set 1 | grand river south east\n",
      "City grand river south east not found. Skipping...\n",
      "Processing Record 37 of Set 1 | vaini\n",
      "Processing Record 38 of Set 1 | cape town\n",
      "Processing Record 39 of Set 1 | tecoanapa\n",
      "Processing Record 40 of Set 1 | hermanus\n",
      "Processing Record 41 of Set 1 | isangel\n",
      "Processing Record 42 of Set 1 | teya\n",
      "Processing Record 43 of Set 1 | palana\n",
      "Processing Record 44 of Set 1 | meulaboh\n",
      "Processing Record 45 of Set 1 | souillac\n",
      "Processing Record 46 of Set 1 | punta arenas\n",
      "Processing Record 47 of Set 1 | nanortalik\n",
      "Processing Record 48 of Set 1 | ushuaia\n",
      "Processing Record 49 of Set 1 | mys shmidta\n",
      "City mys shmidta not found. Skipping...\n",
      "Processing Record 50 of Set 1 | atuona\n",
      "Processing Record 51 of Set 1 | new norfolk\n",
      "Processing Record 52 of Set 1 | price\n",
      "Processing Record 53 of Set 1 | port lincoln\n",
      "Processing Record 54 of Set 1 | colares\n",
      "Processing Record 55 of Set 1 | hami\n",
      "Processing Record 56 of Set 1 | bani\n",
      "Processing Record 57 of Set 1 | kurchum\n",
      "Processing Record 58 of Set 1 | nacala\n",
      "Processing Record 59 of Set 1 | asyut\n",
      "Processing Record 60 of Set 1 | avarua\n",
      "Processing Record 1 of Set 2 | tuktoyaktuk\n",
      "Processing Record 2 of Set 2 | khatanga\n",
      "Processing Record 3 of Set 2 | kaitangata\n",
      "Processing Record 4 of Set 2 | lufilufi\n",
      "Processing Record 5 of Set 2 | tadine\n",
      "Processing Record 6 of Set 2 | vihari\n",
      "Processing Record 7 of Set 2 | sumbe\n",
      "Processing Record 8 of Set 2 | qasigiannguit\n",
      "Processing Record 9 of Set 2 | rawson\n",
      "Processing Record 10 of Set 2 | hobart\n",
      "Processing Record 11 of Set 2 | vichayal\n",
      "City vichayal not found. Skipping...\n",
      "Processing Record 12 of Set 2 | poum\n",
      "Processing Record 13 of Set 2 | georgetown\n",
      "Processing Record 14 of Set 2 | sentyabrskiy\n",
      "City sentyabrskiy not found. Skipping...\n",
      "Processing Record 15 of Set 2 | dicabisagan\n",
      "Processing Record 16 of Set 2 | dikson\n",
      "Processing Record 17 of Set 2 | severo-kurilsk\n",
      "Processing Record 18 of Set 2 | kentau\n",
      "Processing Record 19 of Set 2 | roma\n",
      "Processing Record 20 of Set 2 | tiarei\n",
      "Processing Record 21 of Set 2 | luderitz\n",
      "Processing Record 22 of Set 2 | litovko\n",
      "Processing Record 23 of Set 2 | ahuimanu\n",
      "Processing Record 24 of Set 2 | yellowknife\n",
      "Processing Record 25 of Set 2 | wasilla\n",
      "Processing Record 26 of Set 2 | san cristobal\n",
      "Processing Record 27 of Set 2 | maloy\n",
      "Processing Record 28 of Set 2 | san quintin\n",
      "Processing Record 29 of Set 2 | shingu\n",
      "Processing Record 30 of Set 2 | terra santa\n",
      "Processing Record 31 of Set 2 | champerico\n",
      "Processing Record 32 of Set 2 | ribeira grande\n",
      "Processing Record 33 of Set 2 | henties bay\n",
      "Processing Record 34 of Set 2 | charters towers\n",
      "Processing Record 35 of Set 2 | shizunai\n",
      "Processing Record 36 of Set 2 | kamenskoye\n",
      "City kamenskoye not found. Skipping...\n",
      "Processing Record 37 of Set 2 | guerrero negro\n",
      "Processing Record 38 of Set 2 | thompson\n",
      "Processing Record 39 of Set 2 | lyndon\n",
      "Processing Record 40 of Set 2 | san patricio\n",
      "Processing Record 41 of Set 2 | mrirt\n",
      "City mrirt not found. Skipping...\n",
      "Processing Record 42 of Set 2 | vanimo\n",
      "Processing Record 43 of Set 2 | baykit\n",
      "Processing Record 44 of Set 2 | shashi\n",
      "Processing Record 45 of Set 2 | shymkent\n",
      "Processing Record 46 of Set 2 | kieta\n",
      "Processing Record 47 of Set 2 | brebu\n",
      "Processing Record 48 of Set 2 | nguiu\n",
      "City nguiu not found. Skipping...\n",
      "Processing Record 49 of Set 2 | nemuro\n",
      "Processing Record 50 of Set 2 | alofi\n",
      "Processing Record 51 of Set 2 | hvammstangi\n",
      "City hvammstangi not found. Skipping...\n",
      "Processing Record 52 of Set 2 | fortuna\n",
      "Processing Record 53 of Set 2 | nome\n",
      "Processing Record 54 of Set 2 | kommunisticheskiy\n",
      "Processing Record 55 of Set 2 | umm lajj\n",
      "Processing Record 56 of Set 2 | shancheng\n",
      "Processing Record 57 of Set 2 | nehe\n",
      "Processing Record 58 of Set 2 | anadyr\n",
      "Processing Record 59 of Set 2 | nizhneyansk\n",
      "City nizhneyansk not found. Skipping...\n",
      "Processing Record 60 of Set 2 | nantucket\n",
      "Processing Record 1 of Set 3 | ilulissat\n",
      "Processing Record 2 of Set 3 | stege\n",
      "Processing Record 3 of Set 3 | ambunti\n",
      "Processing Record 4 of Set 3 | saint-philippe\n",
      "Processing Record 5 of Set 3 | mount gambier\n",
      "Processing Record 6 of Set 3 | hithadhoo\n",
      "Processing Record 7 of Set 3 | leningradskiy\n",
      "Processing Record 8 of Set 3 | longyearbyen\n",
      "Processing Record 9 of Set 3 | benemerito de las americas\n",
      "Processing Record 10 of Set 3 | lorengau\n",
      "Processing Record 11 of Set 3 | novaya ladoga\n",
      "Processing Record 12 of Set 3 | maragogi\n",
      "Processing Record 13 of Set 3 | sao felix do xingu\n",
      "Processing Record 14 of Set 3 | hualmay\n",
      "Processing Record 15 of Set 3 | lokoja\n",
      "Processing Record 16 of Set 3 | arman\n",
      "Processing Record 17 of Set 3 | sorland\n",
      "Processing Record 18 of Set 3 | maralal\n",
      "Processing Record 19 of Set 3 | lima\n",
      "Processing Record 20 of Set 3 | salalah\n",
      "Processing Record 21 of Set 3 | villa maria\n",
      "Processing Record 22 of Set 3 | jamestown\n",
      "Processing Record 23 of Set 3 | norman wells\n",
      "Processing Record 24 of Set 3 | agirish\n",
      "Processing Record 25 of Set 3 | bluff\n",
      "Processing Record 26 of Set 3 | nizwa\n",
      "Processing Record 27 of Set 3 | fort-shevchenko\n",
      "Processing Record 28 of Set 3 | tateyama\n",
      "Processing Record 29 of Set 3 | loandjili\n",
      "Processing Record 30 of Set 3 | faanui\n",
      "Processing Record 31 of Set 3 | chokurdakh\n",
      "Processing Record 32 of Set 3 | hamilton\n",
      "Processing Record 33 of Set 3 | labuhan\n",
      "Processing Record 34 of Set 3 | mar del plata\n",
      "Processing Record 35 of Set 3 | ust-kamchatsk\n",
      "City ust-kamchatsk not found. Skipping...\n",
      "Processing Record 36 of Set 3 | los llanos de aridane\n",
      "Processing Record 37 of Set 3 | airai\n",
      "Processing Record 38 of Set 3 | boromo\n",
      "Processing Record 39 of Set 3 | evensk\n",
      "Processing Record 40 of Set 3 | tilichiki\n",
      "Processing Record 41 of Set 3 | jaguaribe\n",
      "Processing Record 42 of Set 3 | tolbazy\n",
      "Processing Record 43 of Set 3 | hasaki\n",
      "Processing Record 44 of Set 3 | mahebourg\n",
      "Processing Record 45 of Set 3 | nadvoitsy\n",
      "Processing Record 46 of Set 3 | tazovskiy\n",
      "Processing Record 47 of Set 3 | spisska nova ves\n",
      "Processing Record 48 of Set 3 | san joaquin\n",
      "Processing Record 49 of Set 3 | vila velha\n",
      "Processing Record 50 of Set 3 | semirom\n",
      "Processing Record 51 of Set 3 | tymovskoye\n",
      "Processing Record 52 of Set 3 | aklavik\n",
      "Processing Record 53 of Set 3 | vaitupu\n",
      "City vaitupu not found. Skipping...\n",
      "Processing Record 54 of Set 3 | usogorsk\n",
      "Processing Record 55 of Set 3 | markova\n",
      "Processing Record 56 of Set 3 | port hedland\n",
      "Processing Record 57 of Set 3 | kuito\n",
      "Processing Record 58 of Set 3 | sambava\n",
      "Processing Record 59 of Set 3 | kapaa\n",
      "Processing Record 60 of Set 3 | klaksvik\n",
      "Processing Record 1 of Set 4 | phanat nikhom\n",
      "Processing Record 2 of Set 4 | carutapera\n"
     ]
    },
    {
     "name": "stdout",
     "output_type": "stream",
     "text": [
      "Processing Record 3 of Set 4 | grefrath\n",
      "Processing Record 4 of Set 4 | tabou\n",
      "Processing Record 5 of Set 4 | lata\n",
      "Processing Record 6 of Set 4 | clyde river\n",
      "Processing Record 7 of Set 4 | castro\n",
      "Processing Record 8 of Set 4 | kavieng\n",
      "Processing Record 9 of Set 4 | lazaro cardenas\n",
      "Processing Record 10 of Set 4 | necochea\n",
      "Processing Record 11 of Set 4 | sitka\n",
      "Processing Record 12 of Set 4 | chipiona\n",
      "Processing Record 13 of Set 4 | bambous virieux\n",
      "Processing Record 14 of Set 4 | ancud\n",
      "Processing Record 15 of Set 4 | girne\n",
      "Processing Record 16 of Set 4 | eureka\n",
      "Processing Record 17 of Set 4 | egvekinot\n",
      "Processing Record 18 of Set 4 | narsaq\n",
      "Processing Record 19 of Set 4 | katherine\n",
      "Processing Record 20 of Set 4 | queenstown\n",
      "Processing Record 21 of Set 4 | college\n",
      "Processing Record 22 of Set 4 | tubuala\n",
      "Processing Record 23 of Set 4 | torbay\n",
      "Processing Record 24 of Set 4 | provideniya\n",
      "Processing Record 25 of Set 4 | lebu\n",
      "Processing Record 26 of Set 4 | saint george\n",
      "Processing Record 27 of Set 4 | iqaluit\n",
      "Processing Record 28 of Set 4 | la ronge\n",
      "Processing Record 29 of Set 4 | iskateley\n",
      "Processing Record 30 of Set 4 | novikovo\n",
      "Processing Record 31 of Set 4 | umzimvubu\n",
      "City umzimvubu not found. Skipping...\n",
      "Processing Record 32 of Set 4 | alice springs\n",
      "Processing Record 33 of Set 4 | tual\n",
      "Processing Record 34 of Set 4 | kodiak\n",
      "Processing Record 35 of Set 4 | skeldon\n",
      "Processing Record 36 of Set 4 | katsuura\n",
      "Processing Record 37 of Set 4 | sarkand\n",
      "Processing Record 38 of Set 4 | puerto del rosario\n",
      "Processing Record 39 of Set 4 | bodden town\n",
      "Processing Record 40 of Set 4 | utiroa\n",
      "City utiroa not found. Skipping...\n",
      "Processing Record 41 of Set 4 | kvitok\n",
      "Processing Record 42 of Set 4 | cidreira\n",
      "Processing Record 43 of Set 4 | trincomalee\n",
      "Processing Record 44 of Set 4 | ayagoz\n",
      "Processing Record 45 of Set 4 | barentsburg\n",
      "City barentsburg not found. Skipping...\n",
      "Processing Record 46 of Set 4 | san carlos de bariloche\n",
      "Processing Record 47 of Set 4 | namatanai\n",
      "Processing Record 48 of Set 4 | leshukonskoye\n",
      "Processing Record 49 of Set 4 | cabo san lucas\n",
      "Processing Record 50 of Set 4 | guilin\n",
      "Processing Record 51 of Set 4 | laguna\n",
      "Processing Record 52 of Set 4 | varnavino\n",
      "Processing Record 53 of Set 4 | coihaique\n",
      "Processing Record 54 of Set 4 | paidha\n",
      "Processing Record 55 of Set 4 | te anau\n",
      "Processing Record 56 of Set 4 | hovd\n",
      "Processing Record 57 of Set 4 | ostrovnoy\n",
      "Processing Record 58 of Set 4 | zyryanovsk\n",
      "Processing Record 59 of Set 4 | hilo\n",
      "Processing Record 60 of Set 4 | husavik\n",
      "Processing Record 1 of Set 5 | ahipara\n",
      "Processing Record 2 of Set 5 | bambanglipuro\n",
      "Processing Record 3 of Set 5 | rockport\n",
      "Processing Record 4 of Set 5 | asau\n",
      "Processing Record 5 of Set 5 | quatre cocos\n",
      "Processing Record 6 of Set 5 | amderma\n",
      "City amderma not found. Skipping...\n",
      "Processing Record 7 of Set 5 | damghan\n",
      "Processing Record 8 of Set 5 | antalaha\n",
      "Processing Record 9 of Set 5 | el alto\n",
      "Processing Record 10 of Set 5 | kosterevo\n",
      "Processing Record 11 of Set 5 | galveston\n",
      "Processing Record 12 of Set 5 | yerbogachen\n",
      "Processing Record 13 of Set 5 | faya\n",
      "Processing Record 14 of Set 5 | talnakh\n",
      "Processing Record 15 of Set 5 | genhe\n",
      "Processing Record 16 of Set 5 | alta floresta\n",
      "Processing Record 17 of Set 5 | inhambane\n",
      "Processing Record 18 of Set 5 | yunjinghong\n",
      "City yunjinghong not found. Skipping...\n",
      "Processing Record 19 of Set 5 | vostok\n",
      "Processing Record 20 of Set 5 | avera\n",
      "Processing Record 21 of Set 5 | sept-iles\n",
      "Processing Record 22 of Set 5 | alotau\n",
      "City alotau not found. Skipping...\n",
      "Processing Record 23 of Set 5 | samusu\n",
      "City samusu not found. Skipping...\n",
      "Processing Record 24 of Set 5 | uspenka\n",
      "Processing Record 25 of Set 5 | hot springs\n",
      "Processing Record 26 of Set 5 | kingston\n",
      "Processing Record 27 of Set 5 | hammerfest\n",
      "Processing Record 28 of Set 5 | vestmannaeyjar\n",
      "Processing Record 29 of Set 5 | port-gentil\n",
      "Processing Record 30 of Set 5 | qaqortoq\n",
      "Processing Record 31 of Set 5 | ponta delgada\n",
      "Processing Record 32 of Set 5 | cabo rojo\n",
      "Processing Record 33 of Set 5 | yuancheng\n",
      "Processing Record 34 of Set 5 | eganville\n",
      "Processing Record 35 of Set 5 | ketchikan\n",
      "Processing Record 36 of Set 5 | paamiut\n",
      "Processing Record 37 of Set 5 | biggar\n",
      "Processing Record 38 of Set 5 | shelburne\n",
      "Processing Record 39 of Set 5 | yunyang\n",
      "Processing Record 40 of Set 5 | touros\n",
      "Processing Record 41 of Set 5 | kutum\n",
      "Processing Record 42 of Set 5 | geraldton\n",
      "Processing Record 43 of Set 5 | lagoa\n",
      "Processing Record 44 of Set 5 | lasem\n",
      "Processing Record 45 of Set 5 | vardo\n",
      "Processing Record 46 of Set 5 | marcona\n",
      "City marcona not found. Skipping...\n",
      "Processing Record 47 of Set 5 | gambissara\n",
      "Processing Record 48 of Set 5 | havoysund\n",
      "Processing Record 49 of Set 5 | olafsvik\n",
      "Processing Record 50 of Set 5 | yanan\n",
      "City yanan not found. Skipping...\n",
      "Processing Record 51 of Set 5 | saldanha\n",
      "Processing Record 52 of Set 5 | panguna\n",
      "Processing Record 53 of Set 5 | maldonado\n",
      "Processing Record 54 of Set 5 | tashla\n",
      "Processing Record 55 of Set 5 | tura\n",
      "Processing Record 56 of Set 5 | guarapari\n",
      "Processing Record 57 of Set 5 | antofagasta\n",
      "Processing Record 58 of Set 5 | suamico\n",
      "Processing Record 59 of Set 5 | gravdal\n",
      "Processing Record 60 of Set 5 | shimoda\n",
      "Processing Record 1 of Set 6 | doka\n",
      "Processing Record 2 of Set 6 | berbera\n",
      "Processing Record 3 of Set 6 | zhoucheng\n",
      "Processing Record 4 of Set 6 | pevek\n",
      "Processing Record 5 of Set 6 | saint-augustin\n",
      "Processing Record 6 of Set 6 | basoko\n",
      "Processing Record 7 of Set 6 | teahupoo\n",
      "Processing Record 8 of Set 6 | emerald\n",
      "Processing Record 9 of Set 6 | sinnamary\n",
      "Processing Record 10 of Set 6 | alyangula\n",
      "Processing Record 11 of Set 6 | lindi\n",
      "Processing Record 12 of Set 6 | bria\n",
      "Processing Record 13 of Set 6 | namibe\n",
      "Processing Record 14 of Set 6 | novotroitsk\n",
      "Processing Record 15 of Set 6 | finschhafen\n",
      "Processing Record 16 of Set 6 | vestmanna\n",
      "Processing Record 17 of Set 6 | ouallam\n",
      "Processing Record 18 of Set 6 | jaciara\n",
      "Processing Record 19 of Set 6 | naberera\n",
      "Processing Record 20 of Set 6 | dubti\n",
      "Processing Record 21 of Set 6 | ngukurr\n",
      "City ngukurr not found. Skipping...\n",
      "Processing Record 22 of Set 6 | lethem\n",
      "Processing Record 23 of Set 6 | kuche\n",
      "City kuche not found. Skipping...\n",
      "Processing Record 24 of Set 6 | muli\n",
      "Processing Record 25 of Set 6 | vera cruz\n",
      "Processing Record 26 of Set 6 | springbok\n",
      "Processing Record 27 of Set 6 | monte alegre\n",
      "Processing Record 28 of Set 6 | aykhal\n",
      "Processing Record 29 of Set 6 | stornoway\n",
      "Processing Record 30 of Set 6 | grindavik\n",
      "Processing Record 31 of Set 6 | shiyan\n",
      "Processing Record 32 of Set 6 | camopi\n",
      "Processing Record 33 of Set 6 | araouane\n",
      "Processing Record 34 of Set 6 | evenskjaer\n",
      "City evenskjaer not found. Skipping...\n",
      "Processing Record 35 of Set 6 | saleaula\n",
      "City saleaula not found. Skipping...\n",
      "Processing Record 36 of Set 6 | yar-sale\n",
      "Processing Record 37 of Set 6 | rafaela\n",
      "Processing Record 38 of Set 6 | lilongwe\n",
      "Processing Record 39 of Set 6 | san jose\n",
      "Processing Record 40 of Set 6 | kruisfontein\n",
      "Processing Record 41 of Set 6 | mercedes\n",
      "Processing Record 42 of Set 6 | zarubino\n",
      "Processing Record 43 of Set 6 | morros\n",
      "Processing Record 44 of Set 6 | ugoofaaru\n",
      "Processing Record 45 of Set 6 | marsh harbour\n",
      "Processing Record 46 of Set 6 | kazalinsk\n",
      "City kazalinsk not found. Skipping...\n",
      "Processing Record 47 of Set 6 | longlac\n",
      "City longlac not found. Skipping...\n",
      "Processing Record 48 of Set 6 | verkhnevilyuysk\n",
      "Processing Record 49 of Set 6 | kumluca\n",
      "Processing Record 50 of Set 6 | cherskiy\n",
      "Processing Record 51 of Set 6 | dingle\n",
      "Processing Record 52 of Set 6 | makakilo city\n",
      "Processing Record 53 of Set 6 | rexburg\n",
      "Processing Record 54 of Set 6 | okha\n",
      "Processing Record 55 of Set 6 | meyungs\n",
      "City meyungs not found. Skipping...\n",
      "Processing Record 56 of Set 6 | morant bay\n",
      "Processing Record 57 of Set 6 | thyboron\n",
      "Processing Record 58 of Set 6 | tucumcari\n",
      "Processing Record 59 of Set 6 | mayumba\n",
      "Processing Record 60 of Set 6 | itupeva\n",
      "Processing Record 1 of Set 7 | manyana\n",
      "Processing Record 2 of Set 7 | ondjiva\n",
      "Processing Record 3 of Set 7 | bosaso\n",
      "Processing Record 4 of Set 7 | tiksi\n",
      "Processing Record 5 of Set 7 | moree\n",
      "Processing Record 6 of Set 7 | mana\n",
      "Processing Record 7 of Set 7 | kirakira\n",
      "Processing Record 8 of Set 7 | rocha\n",
      "Processing Record 9 of Set 7 | surt\n"
     ]
    },
    {
     "name": "stdout",
     "output_type": "stream",
     "text": [
      "Processing Record 10 of Set 7 | masoko\n",
      "Processing Record 11 of Set 7 | voh\n",
      "Processing Record 12 of Set 7 | marawi\n",
      "Processing Record 13 of Set 7 | paso de los toros\n",
      "Processing Record 14 of Set 7 | safaga\n",
      "Processing Record 15 of Set 7 | kandrian\n",
      "Processing Record 16 of Set 7 | denpasar\n",
      "Processing Record 17 of Set 7 | williams lake\n",
      "Processing Record 18 of Set 7 | atambua\n",
      "Processing Record 19 of Set 7 | toliary\n",
      "City toliary not found. Skipping...\n",
      "Processing Record 20 of Set 7 | walker\n",
      "Processing Record 21 of Set 7 | mapastepec\n",
      "Processing Record 22 of Set 7 | vilyuysk\n",
      "Processing Record 23 of Set 7 | portland\n",
      "Processing Record 24 of Set 7 | wattegama\n",
      "Processing Record 25 of Set 7 | port alfred\n",
      "Processing Record 26 of Set 7 | tukrah\n",
      "Processing Record 27 of Set 7 | haftoni\n",
      "Processing Record 28 of Set 7 | fukue\n",
      "Processing Record 29 of Set 7 | bandarbeyla\n",
      "Processing Record 30 of Set 7 | kualakapuas\n",
      "Processing Record 31 of Set 7 | lev tolstoy\n",
      "Processing Record 32 of Set 7 | berlevag\n",
      "Processing Record 33 of Set 7 | saint-pierre\n",
      "Processing Record 34 of Set 7 | itarema\n",
      "Processing Record 35 of Set 7 | beloha\n",
      "Processing Record 36 of Set 7 | vaitape\n",
      "Processing Record 37 of Set 7 | piney green\n",
      "Processing Record 38 of Set 7 | flinders\n",
      "Processing Record 39 of Set 7 | tamiahua\n",
      "Processing Record 40 of Set 7 | beringovskiy\n",
      "Processing Record 41 of Set 7 | fairbanks\n",
      "Processing Record 42 of Set 7 | katangli\n",
      "Processing Record 43 of Set 7 | parole\n",
      "Processing Record 44 of Set 7 | yeppoon\n",
      "Processing Record 45 of Set 7 | bacolod\n",
      "Processing Record 46 of Set 7 | san buenaventura\n",
      "Processing Record 47 of Set 7 | kargil\n",
      "Processing Record 48 of Set 7 | pandamatenga\n",
      "Processing Record 49 of Set 7 | esperance\n",
      "Processing Record 50 of Set 7 | lukovetskiy\n",
      "Processing Record 51 of Set 7 | mandalgovi\n",
      "Processing Record 52 of Set 7 | tomatlan\n",
      "Processing Record 53 of Set 7 | barcelos\n",
      "Processing Record 54 of Set 7 | burica\n",
      "City burica not found. Skipping...\n",
      "Processing Record 55 of Set 7 | bridlington\n",
      "Processing Record 56 of Set 7 | pangnirtung\n",
      "Processing Record 57 of Set 7 | mineros\n",
      "Processing Record 58 of Set 7 | riviere-au-renard\n",
      "Processing Record 59 of Set 7 | sabratah\n",
      "Processing Record 60 of Set 7 | mogadishu\n",
      "Processing Record 1 of Set 8 | poya\n",
      "Processing Record 2 of Set 8 | nuuk\n",
      "Processing Record 3 of Set 8 | inderborskiy\n",
      "City inderborskiy not found. Skipping...\n",
      "Processing Record 4 of Set 8 | kalininsk\n",
      "Processing Record 5 of Set 8 | louisbourg\n",
      "City louisbourg not found. Skipping...\n",
      "Processing Record 6 of Set 8 | kure\n",
      "Processing Record 7 of Set 8 | oussouye\n",
      "Processing Record 8 of Set 8 | hailar\n",
      "Processing Record 9 of Set 8 | sao filipe\n",
      "Processing Record 10 of Set 8 | lishu\n",
      "Processing Record 11 of Set 8 | yefremov\n",
      "Processing Record 12 of Set 8 | hoquiam\n",
      "Processing Record 13 of Set 8 | foz\n",
      "Processing Record 14 of Set 8 | santa rosa\n",
      "Processing Record 15 of Set 8 | monastyrishche\n",
      "Processing Record 16 of Set 8 | lompoc\n",
      "Processing Record 17 of Set 8 | cayenne\n",
      "Processing Record 18 of Set 8 | badaojiang\n",
      "City badaojiang not found. Skipping...\n",
      "Processing Record 19 of Set 8 | bengkulu\n",
      "Processing Record 20 of Set 8 | imeni poliny osipenko\n",
      "Processing Record 21 of Set 8 | coahuayana\n",
      "Processing Record 22 of Set 8 | msanga\n",
      "Processing Record 23 of Set 8 | terrace bay\n",
      "Processing Record 24 of Set 8 | krasnyy chikoy\n",
      "Processing Record 25 of Set 8 | new amsterdam\n",
      "Processing Record 26 of Set 8 | jacksonville\n",
      "Processing Record 27 of Set 8 | benicarlo\n",
      "Processing Record 28 of Set 8 | lavrentiya\n",
      "Processing Record 29 of Set 8 | pisco\n",
      "Processing Record 30 of Set 8 | bur gabo\n",
      "City bur gabo not found. Skipping...\n",
      "Processing Record 31 of Set 8 | rumoi\n",
      "Processing Record 32 of Set 8 | hay river\n",
      "Processing Record 33 of Set 8 | mayo\n",
      "Processing Record 34 of Set 8 | abu dhabi\n",
      "Processing Record 35 of Set 8 | soe\n",
      "Processing Record 36 of Set 8 | grand centre\n",
      "City grand centre not found. Skipping...\n",
      "Processing Record 37 of Set 8 | santa maria\n",
      "Processing Record 38 of Set 8 | general roca\n",
      "Processing Record 39 of Set 8 | naze\n",
      "Processing Record 40 of Set 8 | kamaishi\n",
      "Processing Record 41 of Set 8 | paita\n",
      "Processing Record 42 of Set 8 | pundaguitan\n",
      "Processing Record 43 of Set 8 | cap malheureux\n",
      "Processing Record 44 of Set 8 | rogers\n",
      "Processing Record 45 of Set 8 | kalemie\n",
      "Processing Record 46 of Set 8 | kegayli\n",
      "City kegayli not found. Skipping...\n",
      "Processing Record 47 of Set 8 | pangoa\n",
      "Processing Record 48 of Set 8 | chihuahua\n",
      "Processing Record 49 of Set 8 | tuatapere\n",
      "Processing Record 50 of Set 8 | omboue\n",
      "Processing Record 51 of Set 8 | dakoro\n",
      "Processing Record 52 of Set 8 | tete\n",
      "Processing Record 53 of Set 8 | lerwick\n",
      "Processing Record 54 of Set 8 | sangueya\n",
      "Processing Record 55 of Set 8 | bathsheba\n",
      "Processing Record 56 of Set 8 | zhenlai\n",
      "Processing Record 57 of Set 8 | ingham\n",
      "Processing Record 58 of Set 8 | kiyasovo\n",
      "Processing Record 59 of Set 8 | longyan\n",
      "Processing Record 60 of Set 8 | koani\n",
      "Processing Record 1 of Set 9 | udachnyy\n",
      "Processing Record 2 of Set 9 | yarada\n",
      "Processing Record 3 of Set 9 | bargal\n",
      "City bargal not found. Skipping...\n",
      "Processing Record 4 of Set 9 | halalo\n",
      "City halalo not found. Skipping...\n",
      "Processing Record 5 of Set 9 | harlingen\n",
      "Processing Record 6 of Set 9 | muriti\n",
      "Processing Record 7 of Set 9 | marystown\n",
      "Processing Record 8 of Set 9 | one hundred mile house\n",
      "City one hundred mile house not found. Skipping...\n",
      "Processing Record 9 of Set 9 | godda\n",
      "Processing Record 10 of Set 9 | vao\n",
      "Processing Record 11 of Set 9 | nalut\n",
      "Processing Record 12 of Set 9 | at-bashi\n",
      "Processing Record 13 of Set 9 | honiara\n",
      "Processing Record 14 of Set 9 | luang prabang\n",
      "Processing Record 15 of Set 9 | rockland\n",
      "Processing Record 16 of Set 9 | moratuwa\n",
      "Processing Record 17 of Set 9 | port blair\n",
      "Processing Record 18 of Set 9 | benguela\n",
      "Processing Record 19 of Set 9 | ndouci\n",
      "City ndouci not found. Skipping...\n",
      "Processing Record 20 of Set 9 | santa isabel do rio negro\n",
      "Processing Record 21 of Set 9 | nelson bay\n",
      "Processing Record 22 of Set 9 | wulanhaote\n",
      "City wulanhaote not found. Skipping...\n",
      "Processing Record 23 of Set 9 | saint anthony\n",
      "Processing Record 24 of Set 9 | pacific grove\n",
      "Processing Record 25 of Set 9 | manado\n",
      "Processing Record 26 of Set 9 | odweyne\n",
      "Processing Record 27 of Set 9 | rawannawi\n",
      "City rawannawi not found. Skipping...\n",
      "Processing Record 28 of Set 9 | arawa\n",
      "Processing Record 29 of Set 9 | duz\n",
      "City duz not found. Skipping...\n",
      "Processing Record 30 of Set 9 | ucluelet\n",
      "Processing Record 31 of Set 9 | coquimbo\n",
      "Processing Record 32 of Set 9 | bonthe\n",
      "Processing Record 33 of Set 9 | comodoro rivadavia\n",
      "Processing Record 34 of Set 9 | kropotkin\n",
      "Processing Record 35 of Set 9 | yauya\n",
      "Processing Record 36 of Set 9 | ust-nera\n",
      "Processing Record 37 of Set 9 | salekhard\n",
      "Processing Record 38 of Set 9 | nioro\n",
      "Processing Record 39 of Set 9 | muncar\n",
      "Processing Record 40 of Set 9 | linqiong\n",
      "Processing Record 41 of Set 9 | tumannyy\n",
      "City tumannyy not found. Skipping...\n",
      "Processing Record 42 of Set 9 | oistins\n",
      "Processing Record 43 of Set 9 | gazanjyk\n",
      "Processing Record 44 of Set 9 | jinchang\n",
      "Processing Record 45 of Set 9 | mujiayingzi\n",
      "Processing Record 46 of Set 9 | mahon\n",
      "Processing Record 47 of Set 9 | rio grande\n",
      "Processing Record 48 of Set 9 | cururupu\n",
      "Processing Record 49 of Set 9 | san-pedro\n",
      "Processing Record 50 of Set 9 | palabuhanratu\n",
      "City palabuhanratu not found. Skipping...\n",
      "Processing Record 51 of Set 9 | juneau\n",
      "Processing Record 52 of Set 9 | sao jose da coroa grande\n",
      "Processing Record 53 of Set 9 | santiago del estero\n",
      "Processing Record 54 of Set 9 | chapais\n",
      "Processing Record 55 of Set 9 | biltine\n",
      "Processing Record 56 of Set 9 | aasiaat\n",
      "Processing Record 57 of Set 9 | issia\n",
      "Processing Record 58 of Set 9 | nenjiang\n",
      "Processing Record 59 of Set 9 | porto novo\n",
      "Processing Record 60 of Set 9 | juegang\n",
      "Processing Record 1 of Set 10 | yenagoa\n",
      "Processing Record 2 of Set 10 | presidencia roque saenz pena\n",
      "Processing Record 3 of Set 10 | sundsvall\n",
      "Processing Record 4 of Set 10 | pavlodar\n",
      "Processing Record 5 of Set 10 | tapaua\n",
      "City tapaua not found. Skipping...\n",
      "Processing Record 6 of Set 10 | tirschenreuth\n",
      "Processing Record 7 of Set 10 | bayan\n",
      "Processing Record 8 of Set 10 | krasnogvardeyskiy\n",
      "Processing Record 9 of Set 10 | raahe\n",
      "Processing Record 10 of Set 10 | baiao\n"
     ]
    },
    {
     "name": "stdout",
     "output_type": "stream",
     "text": [
      "Processing Record 11 of Set 10 | jizan\n",
      "Processing Record 12 of Set 10 | praia\n",
      "Processing Record 13 of Set 10 | middle island\n",
      "Processing Record 14 of Set 10 | attawapiskat\n",
      "City attawapiskat not found. Skipping...\n",
      "Processing Record 15 of Set 10 | audincourt\n",
      "Processing Record 16 of Set 10 | leninsk\n",
      "Processing Record 17 of Set 10 | kindu\n",
      "Processing Record 18 of Set 10 | damietta\n",
      "Processing Record 19 of Set 10 | barbar\n",
      "City barbar not found. Skipping...\n",
      "Processing Record 20 of Set 10 | machalpur\n",
      "Processing Record 21 of Set 10 | cabedelo\n",
      "Processing Record 22 of Set 10 | saint-louis\n",
      "Processing Record 23 of Set 10 | perth\n",
      "Processing Record 24 of Set 10 | belaya gora\n",
      "Processing Record 25 of Set 10 | premnitz\n",
      "Processing Record 26 of Set 10 | margate\n",
      "Processing Record 27 of Set 10 | kavaratti\n",
      "Processing Record 28 of Set 10 | chaman\n",
      "Processing Record 29 of Set 10 | nouakchott\n",
      "Processing Record 30 of Set 10 | cockburn town\n",
      "Processing Record 31 of Set 10 | marsa matruh\n",
      "Processing Record 32 of Set 10 | chuy\n",
      "Processing Record 33 of Set 10 | qingdao\n",
      "Processing Record 34 of Set 10 | nyrob\n",
      "Processing Record 35 of Set 10 | solovetskiy\n",
      "City solovetskiy not found. Skipping...\n",
      "Processing Record 36 of Set 10 | bonavista\n",
      "Processing Record 37 of Set 10 | casa nova\n",
      "Processing Record 38 of Set 10 | sinaloa\n",
      "Processing Record 39 of Set 10 | krasnoselkup\n",
      "Processing Record 40 of Set 10 | zhigansk\n",
      "Processing Record 41 of Set 10 | plaridel\n",
      "Processing Record 42 of Set 10 | coos bay\n",
      "Processing Record 43 of Set 10 | gornopravdinsk\n",
      "Processing Record 44 of Set 10 | mata\n",
      "Processing Record 45 of Set 10 | kuusamo\n",
      "Processing Record 46 of Set 10 | clinton\n",
      "Processing Record 47 of Set 10 | ho\n",
      "City ho not found. Skipping...\n",
      "Processing Record 48 of Set 10 | shubarkuduk\n",
      "Processing Record 49 of Set 10 | brigantine\n",
      "Processing Record 50 of Set 10 | the valley\n",
      "Processing Record 51 of Set 10 | mattru\n",
      "Processing Record 52 of Set 10 | algodones\n",
      "Processing Record 53 of Set 10 | thunder bay\n",
      "Processing Record 54 of Set 10 | iskilip\n",
      "------------------------------\n",
      "Data Retrieval Complete\n",
      "------------------------------\n"
     ]
    },
    {
     "data": {
      "application/javascript": [
       "\n",
       "            setTimeout(function() {\n",
       "                var nbb_cell_id = 7;\n",
       "                var nbb_unformatted_code = \"url = \\\"http://api.openweathermap.org/data/2.5/weather?\\\"\\n \\nprint(\\\"Beginning Data Retrieval \\\\n\\\\n------------------------------\\\")\\n\\n# if 60 calls time.sleep\\n\\ncount = 0\\nset_count = 1\\nlat = []\\nlng = []\\nmax_temp = []\\nhumidity = []\\ncloudiness = []\\nwind_speed = []\\ncountry = []\\ndate = []\\ncity_ = []\\n\\nfor city in cities: \\n\\n    if count % 60 == 0 and count > 0:\\n        set_count = set_count + 1\\n        count = 0\\n#         break\\n        time.sleep(60)\\n    else:\\n        query_url = url+\\\"appid=\\\"+weather_apy_key+\\\"&q=\\\" + city + \\\"&units=metric\\\"\\n        query_response = requests.get(query_url).json()\\n        try:\\n            count = count + 1\\n            print(f\\\"Processing Record {count} of Set {set_count} | {city}\\\")\\n            lat.append(query_response['coord']['lat'])\\n            city_.append(query_response['name'])\\n            lng.append(query_response['coord']['lon'])\\n            max_temp.append(query_response['main']['temp_max'])\\n            humidity.append(query_response['main']['humidity'])\\n            cloudiness.append(query_response[\\\"clouds\\\"][\\\"all\\\"])\\n            wind_speed.append(query_response['wind']['speed'])\\n            country.append(query_response['sys']['country'])\\n            date.append(query_response['dt'])\\n        except (KeyError, IndexError):\\n            print(f\\\"City {city} not found. Skipping...\\\")\\n            continue\\n\\nprint(f\\\"------------------------------\\\\nData Retrieval Complete\\\\n------------------------------\\\")\";\n",
       "                var nbb_formatted_code = \"url = \\\"http://api.openweathermap.org/data/2.5/weather?\\\"\\n\\nprint(\\\"Beginning Data Retrieval \\\\n\\\\n------------------------------\\\")\\n\\n# if 60 calls time.sleep\\n\\ncount = 0\\nset_count = 1\\nlat = []\\nlng = []\\nmax_temp = []\\nhumidity = []\\ncloudiness = []\\nwind_speed = []\\ncountry = []\\ndate = []\\ncity_ = []\\n\\nfor city in cities:\\n\\n    if count % 60 == 0 and count > 0:\\n        set_count = set_count + 1\\n        count = 0\\n        #         break\\n        time.sleep(60)\\n    else:\\n        query_url = url + \\\"appid=\\\" + weather_apy_key + \\\"&q=\\\" + city + \\\"&units=metric\\\"\\n        query_response = requests.get(query_url).json()\\n        try:\\n            count = count + 1\\n            print(f\\\"Processing Record {count} of Set {set_count} | {city}\\\")\\n            lat.append(query_response[\\\"coord\\\"][\\\"lat\\\"])\\n            city_.append(query_response[\\\"name\\\"])\\n            lng.append(query_response[\\\"coord\\\"][\\\"lon\\\"])\\n            max_temp.append(query_response[\\\"main\\\"][\\\"temp_max\\\"])\\n            humidity.append(query_response[\\\"main\\\"][\\\"humidity\\\"])\\n            cloudiness.append(query_response[\\\"clouds\\\"][\\\"all\\\"])\\n            wind_speed.append(query_response[\\\"wind\\\"][\\\"speed\\\"])\\n            country.append(query_response[\\\"sys\\\"][\\\"country\\\"])\\n            date.append(query_response[\\\"dt\\\"])\\n        except (KeyError, IndexError):\\n            print(f\\\"City {city} not found. Skipping...\\\")\\n            continue\\n\\nprint(\\n    f\\\"------------------------------\\\\nData Retrieval Complete\\\\n------------------------------\\\"\\n)\";\n",
       "                var nbb_cells = Jupyter.notebook.get_cells();\n",
       "                for (var i = 0; i < nbb_cells.length; ++i) {\n",
       "                    if (nbb_cells[i].input_prompt_number == nbb_cell_id) {\n",
       "                        if (nbb_cells[i].get_text() == nbb_unformatted_code) {\n",
       "                             nbb_cells[i].set_text(nbb_formatted_code);\n",
       "                        }\n",
       "                        break;\n",
       "                    }\n",
       "                }\n",
       "            }, 500);\n",
       "            "
      ],
      "text/plain": [
       "<IPython.core.display.Javascript object>"
      ]
     },
     "metadata": {},
     "output_type": "display_data"
    }
   ],
   "source": [
    "url = \"http://api.openweathermap.org/data/2.5/weather?\"\n",
    " \n",
    "print(\"Beginning Data Retrieval \\n\\n------------------------------\")\n",
    "\n",
    "# if 60 calls time.sleep\n",
    "\n",
    "count = 0\n",
    "set_count = 1\n",
    "lat = []\n",
    "lng = []\n",
    "max_temp = []\n",
    "humidity = []\n",
    "cloudiness = []\n",
    "wind_speed = []\n",
    "country = []\n",
    "date = []\n",
    "city_ = []\n",
    "\n",
    "for city in cities: \n",
    "\n",
    "    if count % 60 == 0 and count > 0:\n",
    "        set_count = set_count + 1\n",
    "        count = 0\n",
    "#         break\n",
    "        time.sleep(60)\n",
    "    else:\n",
    "        query_url = url+\"appid=\"+weather_apy_key+\"&q=\" + city + \"&units=metric\"\n",
    "        query_response = requests.get(query_url).json()\n",
    "        try:\n",
    "            count = count + 1\n",
    "            print(f\"Processing Record {count} of Set {set_count} | {city}\")\n",
    "            lat.append(query_response['coord']['lat'])\n",
    "            city_.append(query_response['name'])\n",
    "            lng.append(query_response['coord']['lon'])\n",
    "            max_temp.append(query_response['main']['temp_max'])\n",
    "            humidity.append(query_response['main']['humidity'])\n",
    "            cloudiness.append(query_response[\"clouds\"][\"all\"])\n",
    "            wind_speed.append(query_response['wind']['speed'])\n",
    "            country.append(query_response['sys']['country'])\n",
    "            date.append(query_response['dt'])\n",
    "        except (KeyError, IndexError):\n",
    "            print(f\"City {city} not found. Skipping...\")\n",
    "            continue\n",
    "\n",
    "print(f\"------------------------------\\nData Retrieval Complete\\n------------------------------\")\n"
   ]
  },
  {
   "cell_type": "code",
   "execution_count": 14,
   "id": "350f27a2",
   "metadata": {
    "scrolled": true
   },
   "outputs": [
    {
     "data": {
      "application/javascript": [
       "\n",
       "            setTimeout(function() {\n",
       "                var nbb_cell_id = 14;\n",
       "                var nbb_unformatted_code = \"combination_of_lists = zip(city_,lat, lng, max_temp,humidity,cloudiness,wind_speed,country,date)\\n\\nwith open(output_data_file, \\\"w\\\") as datafile:\\n    writer = csv.writer(datafile)\\n    writer.writerow([\\\"City\\\",\\\"Lat\\\",\\\"Lng\\\", \\\"Max Temp\\\", \\\"Humidity\\\", \\\"Cloudiness\\\",\\\" Wind Speed\\\", \\\"Country\\\",\\\"Date\\\"])\\n    writer.writerows(combination_of_lists)\";\n",
       "                var nbb_formatted_code = \"combination_of_lists = zip(\\n    city_, lat, lng, max_temp, humidity, cloudiness, wind_speed, country, date\\n)\\n\\nwith open(output_data_file, \\\"w\\\") as datafile:\\n    writer = csv.writer(datafile)\\n    writer.writerow(\\n        [\\n            \\\"City\\\",\\n            \\\"Lat\\\",\\n            \\\"Lng\\\",\\n            \\\"Max Temp\\\",\\n            \\\"Humidity\\\",\\n            \\\"Cloudiness\\\",\\n            \\\" Wind Speed\\\",\\n            \\\"Country\\\",\\n            \\\"Date\\\",\\n        ]\\n    )\\n    writer.writerows(combination_of_lists)\";\n",
       "                var nbb_cells = Jupyter.notebook.get_cells();\n",
       "                for (var i = 0; i < nbb_cells.length; ++i) {\n",
       "                    if (nbb_cells[i].input_prompt_number == nbb_cell_id) {\n",
       "                        if (nbb_cells[i].get_text() == nbb_unformatted_code) {\n",
       "                             nbb_cells[i].set_text(nbb_formatted_code);\n",
       "                        }\n",
       "                        break;\n",
       "                    }\n",
       "                }\n",
       "            }, 500);\n",
       "            "
      ],
      "text/plain": [
       "<IPython.core.display.Javascript object>"
      ]
     },
     "metadata": {},
     "output_type": "display_data"
    }
   ],
   "source": [
    "combination_of_lists = zip(city_,lat, lng, max_temp,humidity,cloudiness,wind_speed,country,date)\n",
    "\n",
    "with open(output_data_file, \"w\") as datafile:\n",
    "    writer = csv.writer(datafile)\n",
    "    writer.writerow([\"City\",\"Lat\",\"Lng\", \"Max Temp\", \"Humidity\", \"Cloudiness\",\" Wind Speed\", \"Country\",\"Date\"])\n",
    "    writer.writerows(combination_of_lists)\n"
   ]
  },
  {
   "cell_type": "code",
   "execution_count": 15,
   "id": "040ccc55",
   "metadata": {
    "scrolled": true
   },
   "outputs": [
    {
     "data": {
      "text/html": [
       "<div>\n",
       "<style scoped>\n",
       "    .dataframe tbody tr th:only-of-type {\n",
       "        vertical-align: middle;\n",
       "    }\n",
       "\n",
       "    .dataframe tbody tr th {\n",
       "        vertical-align: top;\n",
       "    }\n",
       "\n",
       "    .dataframe thead th {\n",
       "        text-align: right;\n",
       "    }\n",
       "</style>\n",
       "<table border=\"1\" class=\"dataframe\">\n",
       "  <thead>\n",
       "    <tr style=\"text-align: right;\">\n",
       "      <th></th>\n",
       "      <th>City</th>\n",
       "      <th>Lat</th>\n",
       "      <th>Lng</th>\n",
       "      <th>Max Temp</th>\n",
       "      <th>Humidity</th>\n",
       "      <th>Cloudiness</th>\n",
       "      <th>Wind Speed</th>\n",
       "      <th>Country</th>\n",
       "      <th>Date</th>\n",
       "    </tr>\n",
       "  </thead>\n",
       "  <tbody>\n",
       "    <tr>\n",
       "      <th>0</th>\n",
       "      <td>Ciprian Porumbescu</td>\n",
       "      <td>47.5667</td>\n",
       "      <td>26.0667</td>\n",
       "      <td>2.92</td>\n",
       "      <td>69</td>\n",
       "      <td>100</td>\n",
       "      <td>2.60</td>\n",
       "      <td>RO</td>\n",
       "      <td>1645320523</td>\n",
       "    </tr>\n",
       "    <tr>\n",
       "      <th>1</th>\n",
       "      <td>Barrow</td>\n",
       "      <td>71.2906</td>\n",
       "      <td>-156.7887</td>\n",
       "      <td>-31.99</td>\n",
       "      <td>68</td>\n",
       "      <td>0</td>\n",
       "      <td>5.14</td>\n",
       "      <td>US</td>\n",
       "      <td>1645320523</td>\n",
       "    </tr>\n",
       "    <tr>\n",
       "      <th>2</th>\n",
       "      <td>Albany</td>\n",
       "      <td>42.6001</td>\n",
       "      <td>-73.9662</td>\n",
       "      <td>-5.86</td>\n",
       "      <td>65</td>\n",
       "      <td>81</td>\n",
       "      <td>2.24</td>\n",
       "      <td>US</td>\n",
       "      <td>1645320245</td>\n",
       "    </tr>\n",
       "    <tr>\n",
       "      <th>3</th>\n",
       "      <td>Constitución</td>\n",
       "      <td>-35.3333</td>\n",
       "      <td>-72.4167</td>\n",
       "      <td>15.25</td>\n",
       "      <td>87</td>\n",
       "      <td>0</td>\n",
       "      <td>6.41</td>\n",
       "      <td>CL</td>\n",
       "      <td>1645320356</td>\n",
       "    </tr>\n",
       "    <tr>\n",
       "      <th>4</th>\n",
       "      <td>Rikitea</td>\n",
       "      <td>-23.1203</td>\n",
       "      <td>-134.9692</td>\n",
       "      <td>26.14</td>\n",
       "      <td>66</td>\n",
       "      <td>0</td>\n",
       "      <td>5.21</td>\n",
       "      <td>PF</td>\n",
       "      <td>1645320407</td>\n",
       "    </tr>\n",
       "  </tbody>\n",
       "</table>\n",
       "</div>"
      ],
      "text/plain": [
       "                 City      Lat       Lng  Max Temp  Humidity  Cloudiness  \\\n",
       "0  Ciprian Porumbescu  47.5667   26.0667      2.92        69         100   \n",
       "1              Barrow  71.2906 -156.7887    -31.99        68           0   \n",
       "2              Albany  42.6001  -73.9662     -5.86        65          81   \n",
       "3        Constitución -35.3333  -72.4167     15.25        87           0   \n",
       "4             Rikitea -23.1203 -134.9692     26.14        66           0   \n",
       "\n",
       "    Wind Speed Country        Date  \n",
       "0         2.60      RO  1645320523  \n",
       "1         5.14      US  1645320523  \n",
       "2         2.24      US  1645320245  \n",
       "3         6.41      CL  1645320356  \n",
       "4         5.21      PF  1645320407  "
      ]
     },
     "execution_count": 15,
     "metadata": {},
     "output_type": "execute_result"
    },
    {
     "data": {
      "application/javascript": [
       "\n",
       "            setTimeout(function() {\n",
       "                var nbb_cell_id = 15;\n",
       "                var nbb_unformatted_code = \"df = pd.read_csv(output_data_file, delimiter=\\\",\\\")\\ndf.head()\";\n",
       "                var nbb_formatted_code = \"df = pd.read_csv(output_data_file, delimiter=\\\",\\\")\\ndf.head()\";\n",
       "                var nbb_cells = Jupyter.notebook.get_cells();\n",
       "                for (var i = 0; i < nbb_cells.length; ++i) {\n",
       "                    if (nbb_cells[i].input_prompt_number == nbb_cell_id) {\n",
       "                        if (nbb_cells[i].get_text() == nbb_unformatted_code) {\n",
       "                             nbb_cells[i].set_text(nbb_formatted_code);\n",
       "                        }\n",
       "                        break;\n",
       "                    }\n",
       "                }\n",
       "            }, 500);\n",
       "            "
      ],
      "text/plain": [
       "<IPython.core.display.Javascript object>"
      ]
     },
     "metadata": {},
     "output_type": "display_data"
    }
   ],
   "source": [
    "df = pd.read_csv(output_data_file, delimiter=\",\")\n",
    "df.head()"
   ]
  },
  {
   "cell_type": "code",
   "execution_count": 16,
   "id": "fe283360",
   "metadata": {},
   "outputs": [
    {
     "name": "stdout",
     "output_type": "stream",
     "text": [
      "<class 'pandas.core.frame.DataFrame'>\n",
      "RangeIndex: 542 entries, 0 to 541\n",
      "Data columns (total 9 columns):\n",
      " #   Column       Non-Null Count  Dtype  \n",
      "---  ------       --------------  -----  \n",
      " 0   City         542 non-null    object \n",
      " 1   Lat          542 non-null    float64\n",
      " 2   Lng          542 non-null    float64\n",
      " 3   Max Temp     542 non-null    float64\n",
      " 4   Humidity     542 non-null    int64  \n",
      " 5   Cloudiness   542 non-null    int64  \n",
      " 6    Wind Speed  542 non-null    float64\n",
      " 7   Country      540 non-null    object \n",
      " 8   Date         542 non-null    int64  \n",
      "dtypes: float64(4), int64(3), object(2)\n",
      "memory usage: 38.2+ KB\n"
     ]
    },
    {
     "data": {
      "application/javascript": [
       "\n",
       "            setTimeout(function() {\n",
       "                var nbb_cell_id = 16;\n",
       "                var nbb_unformatted_code = \"df.info()\";\n",
       "                var nbb_formatted_code = \"df.info()\";\n",
       "                var nbb_cells = Jupyter.notebook.get_cells();\n",
       "                for (var i = 0; i < nbb_cells.length; ++i) {\n",
       "                    if (nbb_cells[i].input_prompt_number == nbb_cell_id) {\n",
       "                        if (nbb_cells[i].get_text() == nbb_unformatted_code) {\n",
       "                             nbb_cells[i].set_text(nbb_formatted_code);\n",
       "                        }\n",
       "                        break;\n",
       "                    }\n",
       "                }\n",
       "            }, 500);\n",
       "            "
      ],
      "text/plain": [
       "<IPython.core.display.Javascript object>"
      ]
     },
     "metadata": {},
     "output_type": "display_data"
    }
   ],
   "source": [
    "df.info()"
   ]
  },
  {
   "cell_type": "code",
   "execution_count": 17,
   "id": "a7d4893e",
   "metadata": {},
   "outputs": [
    {
     "data": {
      "text/plain": [
       "100"
      ]
     },
     "execution_count": 17,
     "metadata": {},
     "output_type": "execute_result"
    },
    {
     "data": {
      "application/javascript": [
       "\n",
       "            setTimeout(function() {\n",
       "                var nbb_cell_id = 17;\n",
       "                var nbb_unformatted_code = \"df[\\\"Humidity\\\"].max()\";\n",
       "                var nbb_formatted_code = \"df[\\\"Humidity\\\"].max()\";\n",
       "                var nbb_cells = Jupyter.notebook.get_cells();\n",
       "                for (var i = 0; i < nbb_cells.length; ++i) {\n",
       "                    if (nbb_cells[i].input_prompt_number == nbb_cell_id) {\n",
       "                        if (nbb_cells[i].get_text() == nbb_unformatted_code) {\n",
       "                             nbb_cells[i].set_text(nbb_formatted_code);\n",
       "                        }\n",
       "                        break;\n",
       "                    }\n",
       "                }\n",
       "            }, 500);\n",
       "            "
      ],
      "text/plain": [
       "<IPython.core.display.Javascript object>"
      ]
     },
     "metadata": {},
     "output_type": "display_data"
    }
   ],
   "source": [
    "df[\"Humidity\"].max()"
   ]
  },
  {
   "cell_type": "code",
   "execution_count": 18,
   "id": "4433b82a",
   "metadata": {},
   "outputs": [
    {
     "data": {
      "text/html": [
       "<div>\n",
       "<style scoped>\n",
       "    .dataframe tbody tr th:only-of-type {\n",
       "        vertical-align: middle;\n",
       "    }\n",
       "\n",
       "    .dataframe tbody tr th {\n",
       "        vertical-align: top;\n",
       "    }\n",
       "\n",
       "    .dataframe thead th {\n",
       "        text-align: right;\n",
       "    }\n",
       "</style>\n",
       "<table border=\"1\" class=\"dataframe\">\n",
       "  <thead>\n",
       "    <tr style=\"text-align: right;\">\n",
       "      <th></th>\n",
       "      <th>Lat</th>\n",
       "      <th>Lng</th>\n",
       "      <th>Max Temp</th>\n",
       "      <th>Humidity</th>\n",
       "      <th>Cloudiness</th>\n",
       "      <th>Wind Speed</th>\n",
       "      <th>Date</th>\n",
       "    </tr>\n",
       "  </thead>\n",
       "  <tbody>\n",
       "    <tr>\n",
       "      <th>count</th>\n",
       "      <td>542.000000</td>\n",
       "      <td>542.000000</td>\n",
       "      <td>542.000000</td>\n",
       "      <td>542.000000</td>\n",
       "      <td>542.000000</td>\n",
       "      <td>542.000000</td>\n",
       "      <td>5.420000e+02</td>\n",
       "    </tr>\n",
       "    <tr>\n",
       "      <th>mean</th>\n",
       "      <td>21.102572</td>\n",
       "      <td>15.343481</td>\n",
       "      <td>10.014391</td>\n",
       "      <td>73.996310</td>\n",
       "      <td>60.319188</td>\n",
       "      <td>4.076458</td>\n",
       "      <td>1.645321e+09</td>\n",
       "    </tr>\n",
       "    <tr>\n",
       "      <th>std</th>\n",
       "      <td>33.148022</td>\n",
       "      <td>91.666559</td>\n",
       "      <td>16.975950</td>\n",
       "      <td>20.081994</td>\n",
       "      <td>40.652256</td>\n",
       "      <td>3.125568</td>\n",
       "      <td>2.488202e+02</td>\n",
       "    </tr>\n",
       "    <tr>\n",
       "      <th>min</th>\n",
       "      <td>-54.800000</td>\n",
       "      <td>-179.166700</td>\n",
       "      <td>-36.040000</td>\n",
       "      <td>11.000000</td>\n",
       "      <td>0.000000</td>\n",
       "      <td>0.000000</td>\n",
       "      <td>1.645320e+09</td>\n",
       "    </tr>\n",
       "    <tr>\n",
       "      <th>25%</th>\n",
       "      <td>-6.216700</td>\n",
       "      <td>-63.189425</td>\n",
       "      <td>-1.885000</td>\n",
       "      <td>65.000000</td>\n",
       "      <td>17.000000</td>\n",
       "      <td>1.892500</td>\n",
       "      <td>1.645321e+09</td>\n",
       "    </tr>\n",
       "    <tr>\n",
       "      <th>50%</th>\n",
       "      <td>25.194550</td>\n",
       "      <td>20.570300</td>\n",
       "      <td>15.790000</td>\n",
       "      <td>78.000000</td>\n",
       "      <td>75.000000</td>\n",
       "      <td>3.290000</td>\n",
       "      <td>1.645321e+09</td>\n",
       "    </tr>\n",
       "    <tr>\n",
       "      <th>75%</th>\n",
       "      <td>48.895525</td>\n",
       "      <td>98.704725</td>\n",
       "      <td>24.075000</td>\n",
       "      <td>90.000000</td>\n",
       "      <td>100.000000</td>\n",
       "      <td>5.500000</td>\n",
       "      <td>1.645321e+09</td>\n",
       "    </tr>\n",
       "    <tr>\n",
       "      <th>max</th>\n",
       "      <td>78.218600</td>\n",
       "      <td>179.316700</td>\n",
       "      <td>37.040000</td>\n",
       "      <td>100.000000</td>\n",
       "      <td>100.000000</td>\n",
       "      <td>20.480000</td>\n",
       "      <td>1.645321e+09</td>\n",
       "    </tr>\n",
       "  </tbody>\n",
       "</table>\n",
       "</div>"
      ],
      "text/plain": [
       "              Lat         Lng    Max Temp    Humidity  Cloudiness  \\\n",
       "count  542.000000  542.000000  542.000000  542.000000  542.000000   \n",
       "mean    21.102572   15.343481   10.014391   73.996310   60.319188   \n",
       "std     33.148022   91.666559   16.975950   20.081994   40.652256   \n",
       "min    -54.800000 -179.166700  -36.040000   11.000000    0.000000   \n",
       "25%     -6.216700  -63.189425   -1.885000   65.000000   17.000000   \n",
       "50%     25.194550   20.570300   15.790000   78.000000   75.000000   \n",
       "75%     48.895525   98.704725   24.075000   90.000000  100.000000   \n",
       "max     78.218600  179.316700   37.040000  100.000000  100.000000   \n",
       "\n",
       "        Wind Speed          Date  \n",
       "count   542.000000  5.420000e+02  \n",
       "mean      4.076458  1.645321e+09  \n",
       "std       3.125568  2.488202e+02  \n",
       "min       0.000000  1.645320e+09  \n",
       "25%       1.892500  1.645321e+09  \n",
       "50%       3.290000  1.645321e+09  \n",
       "75%       5.500000  1.645321e+09  \n",
       "max      20.480000  1.645321e+09  "
      ]
     },
     "execution_count": 18,
     "metadata": {},
     "output_type": "execute_result"
    },
    {
     "data": {
      "application/javascript": [
       "\n",
       "            setTimeout(function() {\n",
       "                var nbb_cell_id = 18;\n",
       "                var nbb_unformatted_code = \"df.describe()\";\n",
       "                var nbb_formatted_code = \"df.describe()\";\n",
       "                var nbb_cells = Jupyter.notebook.get_cells();\n",
       "                for (var i = 0; i < nbb_cells.length; ++i) {\n",
       "                    if (nbb_cells[i].input_prompt_number == nbb_cell_id) {\n",
       "                        if (nbb_cells[i].get_text() == nbb_unformatted_code) {\n",
       "                             nbb_cells[i].set_text(nbb_formatted_code);\n",
       "                        }\n",
       "                        break;\n",
       "                    }\n",
       "                }\n",
       "            }, 500);\n",
       "            "
      ],
      "text/plain": [
       "<IPython.core.display.Javascript object>"
      ]
     },
     "metadata": {},
     "output_type": "display_data"
    }
   ],
   "source": [
    "df.describe()"
   ]
  },
  {
   "cell_type": "code",
   "execution_count": 22,
   "id": "af361bdf",
   "metadata": {},
   "outputs": [
    {
     "name": "stdout",
     "output_type": "stream",
     "text": [
      "Q1 is 65.0\n",
      "Q2 is 78.0 \n",
      "Q3 is 90.0\n",
      "The potential outlier is below 52.5.\n"
     ]
    },
    {
     "data": {
      "image/png": "[encoded data removed]",
      "text/plain": [
       "<Figure size 432x288 with 1 Axes>"
      ]
     },
     "metadata": {
      "needs_background": "light"
     },
     "output_type": "display_data"
    },
    {
     "data": {
      "application/javascript": [
       "\n",
       "            setTimeout(function() {\n",
       "                var nbb_cell_id = 22;\n",
       "                var nbb_unformatted_code = \"df[\\\"Humidity\\\"].plot(kind=\\\"box\\\", ylim=0, title=\\\"Humidity with Potential Outliers\\\")\\nq3 = df[\\\"Humidity\\\"].quantile(q=0.75)\\nq2 = df[\\\"Humidity\\\"].quantile(q=0.50)\\nq1 = df[\\\"Humidity\\\"].quantile(q=0.25)\\niqr = q3 - q1\\nupper_quartile = q3 + 1.5 * iqr\\nlower_quartile = q3 - 1.5 * iqr\\nprint(f\\\"Q1 is {q1}\\\\nQ2 is {q2} \\\\nQ3 is {q3}\\\")\\nprint(f\\\"The potential outlier is below {lower_quartile}.\\\")\\nlower_q_values = df.loc[\\n    df[\\\"Humidity\\\"] <= lower_quartile, \\\"Humidity\\\"\\n]\\ndf_clean = df[df[\\\"Humidity\\\"].isin(lower_q_values) == False]\";\n",
       "                var nbb_formatted_code = \"df[\\\"Humidity\\\"].plot(kind=\\\"box\\\", ylim=0, title=\\\"Humidity with Potential Outliers\\\")\\nq3 = df[\\\"Humidity\\\"].quantile(q=0.75)\\nq2 = df[\\\"Humidity\\\"].quantile(q=0.50)\\nq1 = df[\\\"Humidity\\\"].quantile(q=0.25)\\niqr = q3 - q1\\nupper_quartile = q3 + 1.5 * iqr\\nlower_quartile = q3 - 1.5 * iqr\\nprint(f\\\"Q1 is {q1}\\\\nQ2 is {q2} \\\\nQ3 is {q3}\\\")\\nprint(f\\\"The potential outlier is below {lower_quartile}.\\\")\\nlower_q_values = df.loc[df[\\\"Humidity\\\"] <= lower_quartile, \\\"Humidity\\\"]\\ndf_clean = df[df[\\\"Humidity\\\"].isin(lower_q_values) == False]\";\n",
       "                var nbb_cells = Jupyter.notebook.get_cells();\n",
       "                for (var i = 0; i < nbb_cells.length; ++i) {\n",
       "                    if (nbb_cells[i].input_prompt_number == nbb_cell_id) {\n",
       "                        if (nbb_cells[i].get_text() == nbb_unformatted_code) {\n",
       "                             nbb_cells[i].set_text(nbb_formatted_code);\n",
       "                        }\n",
       "                        break;\n",
       "                    }\n",
       "                }\n",
       "            }, 500);\n",
       "            "
      ],
      "text/plain": [
       "<IPython.core.display.Javascript object>"
      ]
     },
     "metadata": {},
     "output_type": "display_data"
    }
   ],
   "source": [
    "df[\"Humidity\"].plot(kind=\"box\", ylim=0, title=\"Humidity with Potential Outliers\")\n",
    "q3 = df[\"Humidity\"].quantile(q=0.75)\n",
    "q2 = df[\"Humidity\"].quantile(q=0.50)\n",
    "q1 = df[\"Humidity\"].quantile(q=0.25)\n",
    "iqr = q3 - q1\n",
    "upper_quartile = q3 + 1.5 * iqr\n",
    "lower_quartile = q3 - 1.5 * iqr\n",
    "print(f\"Q1 is {q1}\\nQ2 is {q2} \\nQ3 is {q3}\")\n",
    "print(f\"The potential outlier is below {lower_quartile}.\")\n",
    "lower_q_values = df.loc[df[\"Humidity\"] <= lower_quartile, \"Humidity\"]\n",
    "df_clean = df[df[\"Humidity\"].isin(lower_q_values) == False]"
   ]
  },
  {
   "cell_type": "code",
   "execution_count": 23,
   "id": "51e7fca8",
   "metadata": {},
   "outputs": [
    {
     "data": {
      "text/plain": [
       "<AxesSubplot:title={'center':'Humidity with no Potential Outliers'}>"
      ]
     },
     "execution_count": 23,
     "metadata": {},
     "output_type": "execute_result"
    },
    {
     "data": {
      "image/png": "[encoded data removed]",
      "text/plain": [
       "<Figure size 432x288 with 1 Axes>"
      ]
     },
     "metadata": {
      "needs_background": "light"
     },
     "output_type": "display_data"
    },
    {
     "data": {
      "application/javascript": [
       "\n",
       "            setTimeout(function() {\n",
       "                var nbb_cell_id = 23;\n",
       "                var nbb_unformatted_code = \"df_clean[\\\"Humidity\\\"].plot(\\n    kind=\\\"box\\\", ylim=40, title=\\\"Humidity with no Potential Outliers\\\"\\n)\";\n",
       "                var nbb_formatted_code = \"df_clean[\\\"Humidity\\\"].plot(\\n    kind=\\\"box\\\", ylim=40, title=\\\"Humidity with no Potential Outliers\\\"\\n)\";\n",
       "                var nbb_cells = Jupyter.notebook.get_cells();\n",
       "                for (var i = 0; i < nbb_cells.length; ++i) {\n",
       "                    if (nbb_cells[i].input_prompt_number == nbb_cell_id) {\n",
       "                        if (nbb_cells[i].get_text() == nbb_unformatted_code) {\n",
       "                             nbb_cells[i].set_text(nbb_formatted_code);\n",
       "                        }\n",
       "                        break;\n",
       "                    }\n",
       "                }\n",
       "            }, 500);\n",
       "            "
      ],
      "text/plain": [
       "<IPython.core.display.Javascript object>"
      ]
     },
     "metadata": {},
     "output_type": "display_data"
    }
   ],
   "source": [
    "df_clean[\"Humidity\"].plot(\n",
    "    kind=\"box\", ylim=40, title=\"Humidity with no Potential Outliers\"\n",
    ")"
   ]
  },
  {
   "cell_type": "code",
   "execution_count": 36,
   "id": "88927671",
   "metadata": {},
   "outputs": [
    {
     "data": {
      "image/png": "[encoded data removed]",
      "text/plain": [
       "<Figure size 432x288 with 1 Axes>"
      ]
     },
     "metadata": {
      "needs_background": "light"
     },
     "output_type": "display_data"
    },
    {
     "data": {
      "application/javascript": [
       "\n",
       "            setTimeout(function() {\n",
       "                var nbb_cell_id = 36;\n",
       "                var nbb_unformatted_code = \"lat_vs_temp = df_clean.plot(\\n    x=\\\"Lat\\\", y=\\\"Max Temp\\\", kind=\\\"scatter\\\", title=\\\"City Latitude vs Max Temperature\\\"\\n)\\nplt.savefig('../output_data/plot1.png')\";\n",
       "                var nbb_formatted_code = \"lat_vs_temp = df_clean.plot(\\n    x=\\\"Lat\\\", y=\\\"Max Temp\\\", kind=\\\"scatter\\\", title=\\\"City Latitude vs Max Temperature\\\"\\n)\\nplt.savefig(\\\"../output_data/plot1.png\\\")\";\n",
       "                var nbb_cells = Jupyter.notebook.get_cells();\n",
       "                for (var i = 0; i < nbb_cells.length; ++i) {\n",
       "                    if (nbb_cells[i].input_prompt_number == nbb_cell_id) {\n",
       "                        if (nbb_cells[i].get_text() == nbb_unformatted_code) {\n",
       "                             nbb_cells[i].set_text(nbb_formatted_code);\n",
       "                        }\n",
       "                        break;\n",
       "                    }\n",
       "                }\n",
       "            }, 500);\n",
       "            "
      ],
      "text/plain": [
       "<IPython.core.display.Javascript object>"
      ]
     },
     "metadata": {},
     "output_type": "display_data"
    }
   ],
   "source": [
    "lat_vs_temp = df_clean.plot(\n",
    "    x=\"Lat\", y=\"Max Temp\", kind=\"scatter\", title=\"City Latitude vs Max Temperature\"\n",
    ")\n",
    "plt.savefig('../output_data/plot1.png')\n"
   ]
  },
  {
   "cell_type": "code",
   "execution_count": 40,
   "id": "d75c3f6c",
   "metadata": {},
   "outputs": [
    {
     "data": {
      "image/png": "[encoded data removed]",
      "text/plain": [
       "<Figure size 432x288 with 1 Axes>"
      ]
     },
     "metadata": {
      "needs_background": "light"
     },
     "output_type": "display_data"
    },
    {
     "data": {
      "application/javascript": [
       "\n",
       "            setTimeout(function() {\n",
       "                var nbb_cell_id = 40;\n",
       "                var nbb_unformatted_code = \"lat_vs_hum = df_clean.plot(\\n    x=\\\"Lat\\\",\\n    y=\\\"Humidity\\\",\\n    kind=\\\"scatter\\\",\\n    title=\\\"City Latitude vs Humidity\\\",\\n    ylabel=\\\"Humidity (%)\\\",\\n)\\nplt.savefig(\\\"../output_data/plot2.png\\\")\";\n",
       "                var nbb_formatted_code = \"lat_vs_hum = df_clean.plot(\\n    x=\\\"Lat\\\",\\n    y=\\\"Humidity\\\",\\n    kind=\\\"scatter\\\",\\n    title=\\\"City Latitude vs Humidity\\\",\\n    ylabel=\\\"Humidity (%)\\\",\\n)\\nplt.savefig(\\\"../output_data/plot2.png\\\")\";\n",
       "                var nbb_cells = Jupyter.notebook.get_cells();\n",
       "                for (var i = 0; i < nbb_cells.length; ++i) {\n",
       "                    if (nbb_cells[i].input_prompt_number == nbb_cell_id) {\n",
       "                        if (nbb_cells[i].get_text() == nbb_unformatted_code) {\n",
       "                             nbb_cells[i].set_text(nbb_formatted_code);\n",
       "                        }\n",
       "                        break;\n",
       "                    }\n",
       "                }\n",
       "            }, 500);\n",
       "            "
      ],
      "text/plain": [
       "<IPython.core.display.Javascript object>"
      ]
     },
     "metadata": {},
     "output_type": "display_data"
    }
   ],
   "source": [
    "lat_vs_hum = df_clean.plot(\n",
    "    x=\"Lat\",\n",
    "    y=\"Humidity\",\n",
    "    kind=\"scatter\",\n",
    "    title=\"City Latitude vs Humidity\",\n",
    "    ylabel=\"Humidity (%)\",\n",
    ")\n",
    "plt.savefig(\"../output_data/plot2.png\")"
   ]
  },
  {
   "cell_type": "code",
   "execution_count": 41,
   "id": "7a87f4b1",
   "metadata": {},
   "outputs": [
    {
     "data": {
      "image/png": "[encoded data removed]",
      "text/plain": [
       "<Figure size 432x288 with 1 Axes>"
      ]
     },
     "metadata": {
      "needs_background": "light"
     },
     "output_type": "display_data"
    },
    {
     "data": {
      "application/javascript": [
       "\n",
       "            setTimeout(function() {\n",
       "                var nbb_cell_id = 41;\n",
       "                var nbb_unformatted_code = \"lat_vs_clou = df_clean.plot(\\n    x=\\\"Lat\\\",\\n    y=\\\"Cloudiness\\\",\\n    kind=\\\"scatter\\\",\\n    title=\\\"City Latitude vs Max Temperature\\\",\\n    ylabel=\\\"Cloudiness (%)\\\",\\n)\\nplt.savefig(\\\"../output_data/plot3.png\\\")\";\n",
       "                var nbb_formatted_code = \"lat_vs_clou = df_clean.plot(\\n    x=\\\"Lat\\\",\\n    y=\\\"Cloudiness\\\",\\n    kind=\\\"scatter\\\",\\n    title=\\\"City Latitude vs Max Temperature\\\",\\n    ylabel=\\\"Cloudiness (%)\\\",\\n)\\nplt.savefig(\\\"../output_data/plot3.png\\\")\";\n",
       "                var nbb_cells = Jupyter.notebook.get_cells();\n",
       "                for (var i = 0; i < nbb_cells.length; ++i) {\n",
       "                    if (nbb_cells[i].input_prompt_number == nbb_cell_id) {\n",
       "                        if (nbb_cells[i].get_text() == nbb_unformatted_code) {\n",
       "                             nbb_cells[i].set_text(nbb_formatted_code);\n",
       "                        }\n",
       "                        break;\n",
       "                    }\n",
       "                }\n",
       "            }, 500);\n",
       "            "
      ],
      "text/plain": [
       "<IPython.core.display.Javascript object>"
      ]
     },
     "metadata": {},
     "output_type": "display_data"
    }
   ],
   "source": [
    "lat_vs_clou = df_clean.plot(\n",
    "    x=\"Lat\",\n",
    "    y=\"Cloudiness\",\n",
    "    kind=\"scatter\",\n",
    "    title=\"City Latitude vs C\",\n",
    "    ylabel=\"Cloudiness (%)\",\n",
    ")\n",
    "plt.savefig(\"../output_data/plot3.png\")"
   ]
  },
  {
   "cell_type": "code",
   "execution_count": 39,
   "id": "793a0250",
   "metadata": {},
   "outputs": [
    {
     "data": {
      "image/png": "[encoded data removed]",
      "text/plain": [
       "<Figure size 432x288 with 1 Axes>"
      ]
     },
     "metadata": {
      "needs_background": "light"
     },
     "output_type": "display_data"
    },
    {
     "data": {
      "application/javascript": [
       "\n",
       "            setTimeout(function() {\n",
       "                var nbb_cell_id = 39;\n",
       "                var nbb_unformatted_code = \"lat_vs_wind = df_clean.plot(\\n    x=\\\"Lat\\\",\\n    y=\\\" Wind Speed\\\",\\n    kind=\\\"scatter\\\",\\n    title=\\\"City Latitude vs Max Temperature\\\",\\n    ylabel=\\\"Wind Speed (mph)\\\",\\n)\\nplt.savefig('../output_data/plot4.png')\";\n",
       "                var nbb_formatted_code = \"lat_vs_wind = df_clean.plot(\\n    x=\\\"Lat\\\",\\n    y=\\\" Wind Speed\\\",\\n    kind=\\\"scatter\\\",\\n    title=\\\"City Latitude vs Max Temperature\\\",\\n    ylabel=\\\"Wind Speed (mph)\\\",\\n)\\nplt.savefig(\\\"../output_data/plot4.png\\\")\";\n",
       "                var nbb_cells = Jupyter.notebook.get_cells();\n",
       "                for (var i = 0; i < nbb_cells.length; ++i) {\n",
       "                    if (nbb_cells[i].input_prompt_number == nbb_cell_id) {\n",
       "                        if (nbb_cells[i].get_text() == nbb_unformatted_code) {\n",
       "                             nbb_cells[i].set_text(nbb_formatted_code);\n",
       "                        }\n",
       "                        break;\n",
       "                    }\n",
       "                }\n",
       "            }, 500);\n",
       "            "
      ],
      "text/plain": [
       "<IPython.core.display.Javascript object>"
      ]
     },
     "metadata": {},
     "output_type": "display_data"
    }
   ],
   "source": [
    "lat_vs_wind = df_clean.plot(\n",
    "    x=\"Lat\",\n",
    "    y=\" Wind Speed\",\n",
    "    kind=\"scatter\",\n",
    "    title=\"City Latitude vs Max Temperature\",\n",
    "    ylabel=\"Wind Speed (mph)\",\n",
    ")\n",
    "plt.savefig(\"../output_data/plot4.png\")"
   ]
  },
  {
   "cell_type": "code",
   "execution_count": 28,
   "id": "81b7d224",
   "metadata": {},
   "outputs": [
    {
     "name": "stdout",
     "output_type": "stream",
     "text": [
      "The r-squared is: 0.713283991487818\n"
     ]
    },
    {
     "data": {
      "image/png": "[encoded data removed]",
      "text/plain": [
       "<Figure size 432x288 with 1 Axes>"
      ]
     },
     "metadata": {
      "needs_background": "light"
     },
     "output_type": "display_data"
    },
    {
     "data": {
      "application/javascript": [
       "\n",
       "            setTimeout(function() {\n",
       "                var nbb_cell_id = 28;\n",
       "                var nbb_unformatted_code = \"df_clean_n = df_clean.loc[df[\\\"Lat\\\"] > 0, :]\\nx_values = df_clean_n[\\\"Lat\\\"]\\ny_values = df_clean_n[\\\"Max Temp\\\"]\\n(slope, intercept, rvalue, pvalue, stderr) = linregress(x_values, y_values)\\nregress_values = x_values * slope + intercept\\nline_eq = \\\"y = \\\" + str(round(slope, 2)) + \\\"x + \\\" + str(round(intercept, 2))\\nplt.scatter(x_values, y_values)\\nplt.plot(x_values, regress_values, \\\"r-\\\")\\nplt.annotate(line_eq, (10, -10), fontsize=15, color=\\\"red\\\")\\nplt.xlabel(\\\"Latitude\\\")\\nplt.ylabel(\\\"Max Temp (c)\\\")\\nprint(f\\\"The r-squared is: {rvalue**2}\\\")\\nplt.show()\";\n",
       "                var nbb_formatted_code = \"df_clean_n = df_clean.loc[df[\\\"Lat\\\"] > 0, :]\\nx_values = df_clean_n[\\\"Lat\\\"]\\ny_values = df_clean_n[\\\"Max Temp\\\"]\\n(slope, intercept, rvalue, pvalue, stderr) = linregress(x_values, y_values)\\nregress_values = x_values * slope + intercept\\nline_eq = \\\"y = \\\" + str(round(slope, 2)) + \\\"x + \\\" + str(round(intercept, 2))\\nplt.scatter(x_values, y_values)\\nplt.plot(x_values, regress_values, \\\"r-\\\")\\nplt.annotate(line_eq, (10, -10), fontsize=15, color=\\\"red\\\")\\nplt.xlabel(\\\"Latitude\\\")\\nplt.ylabel(\\\"Max Temp (c)\\\")\\nprint(f\\\"The r-squared is: {rvalue**2}\\\")\\nplt.show()\";\n",
       "                var nbb_cells = Jupyter.notebook.get_cells();\n",
       "                for (var i = 0; i < nbb_cells.length; ++i) {\n",
       "                    if (nbb_cells[i].input_prompt_number == nbb_cell_id) {\n",
       "                        if (nbb_cells[i].get_text() == nbb_unformatted_code) {\n",
       "                             nbb_cells[i].set_text(nbb_formatted_code);\n",
       "                        }\n",
       "                        break;\n",
       "                    }\n",
       "                }\n",
       "            }, 500);\n",
       "            "
      ],
      "text/plain": [
       "<IPython.core.display.Javascript object>"
      ]
     },
     "metadata": {},
     "output_type": "display_data"
    }
   ],
   "source": [
    "df_clean_n = df_clean.loc[df[\"Lat\"] > 0, :]\n",
    "x_values = df_clean_n[\"Lat\"]\n",
    "y_values = df_clean_n[\"Max Temp\"]\n",
    "(slope, intercept, rvalue, pvalue, stderr) = linregress(x_values, y_values)\n",
    "regress_values = x_values * slope + intercept\n",
    "line_eq = \"y = \" + str(round(slope, 2)) + \"x + \" + str(round(intercept, 2))\n",
    "plt.scatter(x_values, y_values)\n",
    "plt.plot(x_values, regress_values, \"r-\")\n",
    "plt.annotate(line_eq, (10, -10), fontsize=15, color=\"red\")\n",
    "plt.xlabel(\"Latitude\")\n",
    "plt.ylabel(\"Max Temp (c)\")\n",
    "print(f\"The r-squared is: {rvalue**2}\")\n",
    "plt.show()"
   ]
  },
  {
   "cell_type": "code",
   "execution_count": 29,
   "id": "7feb818d",
   "metadata": {},
   "outputs": [
    {
     "name": "stdout",
     "output_type": "stream",
     "text": [
      "The r-squared is: 0.3036441654081002\n"
     ]
    },
    {
     "data": {
      "image/png": "[encoded data removed]",
      "text/plain": [
       "<Figure size 432x288 with 1 Axes>"
      ]
     },
     "metadata": {
      "needs_background": "light"
     },
     "output_type": "display_data"
    },
    {
     "data": {
      "application/javascript": [
       "\n",
       "            setTimeout(function() {\n",
       "                var nbb_cell_id = 29;\n",
       "                var nbb_unformatted_code = \"df_clean_s = df_clean.loc[df[\\\"Lat\\\"] < 0, :]\\nx_values = df_clean_s[\\\"Lat\\\"]\\ny_values = df_clean_s[\\\"Max Temp\\\"]\\n(slope, intercept, rvalue, pvalue, stderr) = linregress(x_values, y_values)\\nregress_values = x_values * slope + intercept\\nline_eq = \\\"y = \\\" + str(round(slope, 2)) + \\\"x + \\\" + str(round(intercept, 2))\\nplt.scatter(x_values, y_values)\\nplt.plot(x_values, regress_values, \\\"r-\\\")\\nplt.annotate(line_eq, (-30, 20), fontsize=15, color=\\\"red\\\")\\nplt.xlabel(\\\"Latitude\\\")\\nplt.ylabel(\\\"Max Temp (c)\\\")\\nprint(f\\\"The r-squared is: {rvalue**2}\\\")\\nplt.show()\";\n",
       "                var nbb_formatted_code = \"df_clean_s = df_clean.loc[df[\\\"Lat\\\"] < 0, :]\\nx_values = df_clean_s[\\\"Lat\\\"]\\ny_values = df_clean_s[\\\"Max Temp\\\"]\\n(slope, intercept, rvalue, pvalue, stderr) = linregress(x_values, y_values)\\nregress_values = x_values * slope + intercept\\nline_eq = \\\"y = \\\" + str(round(slope, 2)) + \\\"x + \\\" + str(round(intercept, 2))\\nplt.scatter(x_values, y_values)\\nplt.plot(x_values, regress_values, \\\"r-\\\")\\nplt.annotate(line_eq, (-30, 20), fontsize=15, color=\\\"red\\\")\\nplt.xlabel(\\\"Latitude\\\")\\nplt.ylabel(\\\"Max Temp (c)\\\")\\nprint(f\\\"The r-squared is: {rvalue**2}\\\")\\nplt.show()\";\n",
       "                var nbb_cells = Jupyter.notebook.get_cells();\n",
       "                for (var i = 0; i < nbb_cells.length; ++i) {\n",
       "                    if (nbb_cells[i].input_prompt_number == nbb_cell_id) {\n",
       "                        if (nbb_cells[i].get_text() == nbb_unformatted_code) {\n",
       "                             nbb_cells[i].set_text(nbb_formatted_code);\n",
       "                        }\n",
       "                        break;\n",
       "                    }\n",
       "                }\n",
       "            }, 500);\n",
       "            "
      ],
      "text/plain": [
       "<IPython.core.display.Javascript object>"
      ]
     },
     "metadata": {},
     "output_type": "display_data"
    }
   ],
   "source": [
    "df_clean_s = df_clean.loc[df[\"Lat\"] < 0, :]\n",
    "x_values = df_clean_s[\"Lat\"]\n",
    "y_values = df_clean_s[\"Max Temp\"]\n",
    "(slope, intercept, rvalue, pvalue, stderr) = linregress(x_values, y_values)\n",
    "regress_values = x_values * slope + intercept\n",
    "line_eq = \"y = \" + str(round(slope, 2)) + \"x + \" + str(round(intercept, 2))\n",
    "plt.scatter(x_values, y_values)\n",
    "plt.plot(x_values, regress_values, \"r-\")\n",
    "plt.annotate(line_eq, (-30, 20), fontsize=15, color=\"red\")\n",
    "plt.xlabel(\"Latitude\")\n",
    "plt.ylabel(\"Max Temp (c)\")\n",
    "print(f\"The r-squared is: {rvalue**2}\")\n",
    "plt.show()"
   ]
  },
  {
   "cell_type": "code",
   "execution_count": 30,
   "id": "9eac913f",
   "metadata": {},
   "outputs": [
    {
     "name": "stdout",
     "output_type": "stream",
     "text": [
      "The r-squared is: 0.05413221617390951\n"
     ]
    },
    {
     "data": {
      "image/png": "[encoded data removed]",
      "text/plain": [
       "<Figure size 432x288 with 1 Axes>"
      ]
     },
     "metadata": {
      "needs_background": "light"
     },
     "output_type": "display_data"
    },
    {
     "data": {
      "application/javascript": [
       "\n",
       "            setTimeout(function() {\n",
       "                var nbb_cell_id = 30;\n",
       "                var nbb_unformatted_code = \"df_clean_n = df_clean.loc[df[\\\"Lat\\\"] > 0, :]\\nx_values = df_clean_n[\\\"Lat\\\"]\\ny_values = df_clean_n[\\\"Humidity\\\"]\\n(slope, intercept, rvalue, pvalue, stderr) = linregress(x_values, y_values)\\nregress_values = x_values * slope + intercept\\nline_eq = \\\"y = \\\" + str(round(slope, 2)) + \\\"x + \\\" + str(round(intercept, 2))\\nplt.scatter(x_values, y_values)\\nplt.plot(x_values, regress_values, \\\"r-\\\")\\nplt.annotate(line_eq, (6, 70), fontsize=15, color=\\\"red\\\")\\nplt.xlabel(\\\"Latitude\\\")\\nplt.ylabel(\\\"Humidity (%)\\\")\\nprint(f\\\"The r-squared is: {rvalue**2}\\\")\\nplt.show()\";\n",
       "                var nbb_formatted_code = \"df_clean_n = df_clean.loc[df[\\\"Lat\\\"] > 0, :]\\nx_values = df_clean_n[\\\"Lat\\\"]\\ny_values = df_clean_n[\\\"Humidity\\\"]\\n(slope, intercept, rvalue, pvalue, stderr) = linregress(x_values, y_values)\\nregress_values = x_values * slope + intercept\\nline_eq = \\\"y = \\\" + str(round(slope, 2)) + \\\"x + \\\" + str(round(intercept, 2))\\nplt.scatter(x_values, y_values)\\nplt.plot(x_values, regress_values, \\\"r-\\\")\\nplt.annotate(line_eq, (6, 70), fontsize=15, color=\\\"red\\\")\\nplt.xlabel(\\\"Latitude\\\")\\nplt.ylabel(\\\"Humidity (%)\\\")\\nprint(f\\\"The r-squared is: {rvalue**2}\\\")\\nplt.show()\";\n",
       "                var nbb_cells = Jupyter.notebook.get_cells();\n",
       "                for (var i = 0; i < nbb_cells.length; ++i) {\n",
       "                    if (nbb_cells[i].input_prompt_number == nbb_cell_id) {\n",
       "                        if (nbb_cells[i].get_text() == nbb_unformatted_code) {\n",
       "                             nbb_cells[i].set_text(nbb_formatted_code);\n",
       "                        }\n",
       "                        break;\n",
       "                    }\n",
       "                }\n",
       "            }, 500);\n",
       "            "
      ],
      "text/plain": [
       "<IPython.core.display.Javascript object>"
      ]
     },
     "metadata": {},
     "output_type": "display_data"
    }
   ],
   "source": [
    "df_clean_n = df_clean.loc[df[\"Lat\"] > 0, :]\n",
    "x_values = df_clean_n[\"Lat\"]\n",
    "y_values = df_clean_n[\"Humidity\"]\n",
    "(slope, intercept, rvalue, pvalue, stderr) = linregress(x_values, y_values)\n",
    "regress_values = x_values * slope + intercept\n",
    "line_eq = \"y = \" + str(round(slope, 2)) + \"x + \" + str(round(intercept, 2))\n",
    "plt.scatter(x_values, y_values)\n",
    "plt.plot(x_values, regress_values, \"r-\")\n",
    "plt.annotate(line_eq, (6, 70), fontsize=15, color=\"red\")\n",
    "plt.xlabel(\"Latitude\")\n",
    "plt.ylabel(\"Humidity (%)\")\n",
    "print(f\"The r-squared is: {rvalue**2}\")\n",
    "plt.show()"
   ]
  },
  {
   "cell_type": "code",
   "execution_count": 31,
   "id": "c10dd461",
   "metadata": {},
   "outputs": [
    {
     "name": "stdout",
     "output_type": "stream",
     "text": [
      "The r-squared is: 0.014806504830937721\n"
     ]
    },
    {
     "data": {
      "image/png": "[encoded data removed]",
      "text/plain": [
       "<Figure size 432x288 with 1 Axes>"
      ]
     },
     "metadata": {
      "needs_background": "light"
     },
     "output_type": "display_data"
    },
    {
     "data": {
      "application/javascript": [
       "\n",
       "            setTimeout(function() {\n",
       "                var nbb_cell_id = 31;\n",
       "                var nbb_unformatted_code = \"df_clean_s = df_clean.loc[df[\\\"Lat\\\"] < 0, :]\\nx_values = df_clean_s[\\\"Lat\\\"]\\ny_values = df_clean_s[\\\"Humidity\\\"]\\n(slope, intercept, rvalue, pvalue, stderr) = linregress(x_values, y_values)\\nregress_values = x_values * slope + intercept\\nline_eq = \\\"y = \\\" + str(round(slope, 2)) + \\\"x + \\\" + str(round(intercept, 2))\\nplt.scatter(x_values, y_values)\\nplt.plot(x_values, regress_values, \\\"r-\\\")\\nplt.annotate(line_eq, (-50, 65), fontsize=15, color=\\\"red\\\")\\nplt.xlabel(\\\"Latitude\\\")\\nplt.ylabel(\\\"Humidity (%)\\\")\\nprint(f\\\"The r-squared is: {rvalue**2}\\\")\\nplt.show()\";\n",
       "                var nbb_formatted_code = \"df_clean_s = df_clean.loc[df[\\\"Lat\\\"] < 0, :]\\nx_values = df_clean_s[\\\"Lat\\\"]\\ny_values = df_clean_s[\\\"Humidity\\\"]\\n(slope, intercept, rvalue, pvalue, stderr) = linregress(x_values, y_values)\\nregress_values = x_values * slope + intercept\\nline_eq = \\\"y = \\\" + str(round(slope, 2)) + \\\"x + \\\" + str(round(intercept, 2))\\nplt.scatter(x_values, y_values)\\nplt.plot(x_values, regress_values, \\\"r-\\\")\\nplt.annotate(line_eq, (-50, 65), fontsize=15, color=\\\"red\\\")\\nplt.xlabel(\\\"Latitude\\\")\\nplt.ylabel(\\\"Humidity (%)\\\")\\nprint(f\\\"The r-squared is: {rvalue**2}\\\")\\nplt.show()\";\n",
       "                var nbb_cells = Jupyter.notebook.get_cells();\n",
       "                for (var i = 0; i < nbb_cells.length; ++i) {\n",
       "                    if (nbb_cells[i].input_prompt_number == nbb_cell_id) {\n",
       "                        if (nbb_cells[i].get_text() == nbb_unformatted_code) {\n",
       "                             nbb_cells[i].set_text(nbb_formatted_code);\n",
       "                        }\n",
       "                        break;\n",
       "                    }\n",
       "                }\n",
       "            }, 500);\n",
       "            "
      ],
      "text/plain": [
       "<IPython.core.display.Javascript object>"
      ]
     },
     "metadata": {},
     "output_type": "display_data"
    }
   ],
   "source": [
    "df_clean_s = df_clean.loc[df[\"Lat\"] < 0, :]\n",
    "x_values = df_clean_s[\"Lat\"]\n",
    "y_values = df_clean_s[\"Humidity\"]\n",
    "(slope, intercept, rvalue, pvalue, stderr) = linregress(x_values, y_values)\n",
    "regress_values = x_values * slope + intercept\n",
    "line_eq = \"y = \" + str(round(slope, 2)) + \"x + \" + str(round(intercept, 2))\n",
    "plt.scatter(x_values, y_values)\n",
    "plt.plot(x_values, regress_values, \"r-\")\n",
    "plt.annotate(line_eq, (-50, 65), fontsize=15, color=\"red\")\n",
    "plt.xlabel(\"Latitude\")\n",
    "plt.ylabel(\"Humidity (%)\")\n",
    "print(f\"The r-squared is: {rvalue**2}\")\n",
    "plt.show()"
   ]
  },
  {
   "cell_type": "code",
   "execution_count": 32,
   "id": "69aae6bf",
   "metadata": {},
   "outputs": [
    {
     "name": "stdout",
     "output_type": "stream",
     "text": [
      "The r-squared is: 0.08310850612576796\n"
     ]
    },
    {
     "data": {
      "image/png": "[encoded data removed]",
      "text/plain": [
       "<Figure size 432x288 with 1 Axes>"
      ]
     },
     "metadata": {
      "needs_background": "light"
     },
     "output_type": "display_data"
    },
    {
     "data": {
      "application/javascript": [
       "\n",
       "            setTimeout(function() {\n",
       "                var nbb_cell_id = 32;\n",
       "                var nbb_unformatted_code = \"df_clean_n = df_clean.loc[df[\\\"Lat\\\"] > 0, :]\\nx_values = df_clean_n[\\\"Lat\\\"]\\ny_values = df_clean_n[\\\"Cloudiness\\\"]\\n(slope, intercept, rvalue, pvalue, stderr) = linregress(x_values, y_values)\\nregress_values = x_values * slope + intercept\\nline_eq = \\\"y = \\\" + str(round(slope, 2)) + \\\"x + \\\" + str(round(intercept, 2))\\nplt.scatter(x_values, y_values)\\nplt.plot(x_values, regress_values, \\\"r-\\\")\\nplt.annotate(line_eq, (6, 10), fontsize=15, color=\\\"red\\\")\\nplt.xlabel(\\\"Latitude\\\")\\nplt.ylabel(\\\"Cloudiness\\\")\\nprint(f\\\"The r-squared is: {rvalue**2}\\\")\\nplt.show()\";\n",
       "                var nbb_formatted_code = \"df_clean_n = df_clean.loc[df[\\\"Lat\\\"] > 0, :]\\nx_values = df_clean_n[\\\"Lat\\\"]\\ny_values = df_clean_n[\\\"Cloudiness\\\"]\\n(slope, intercept, rvalue, pvalue, stderr) = linregress(x_values, y_values)\\nregress_values = x_values * slope + intercept\\nline_eq = \\\"y = \\\" + str(round(slope, 2)) + \\\"x + \\\" + str(round(intercept, 2))\\nplt.scatter(x_values, y_values)\\nplt.plot(x_values, regress_values, \\\"r-\\\")\\nplt.annotate(line_eq, (6, 10), fontsize=15, color=\\\"red\\\")\\nplt.xlabel(\\\"Latitude\\\")\\nplt.ylabel(\\\"Cloudiness\\\")\\nprint(f\\\"The r-squared is: {rvalue**2}\\\")\\nplt.show()\";\n",
       "                var nbb_cells = Jupyter.notebook.get_cells();\n",
       "                for (var i = 0; i < nbb_cells.length; ++i) {\n",
       "                    if (nbb_cells[i].input_prompt_number == nbb_cell_id) {\n",
       "                        if (nbb_cells[i].get_text() == nbb_unformatted_code) {\n",
       "                             nbb_cells[i].set_text(nbb_formatted_code);\n",
       "                        }\n",
       "                        break;\n",
       "                    }\n",
       "                }\n",
       "            }, 500);\n",
       "            "
      ],
      "text/plain": [
       "<IPython.core.display.Javascript object>"
      ]
     },
     "metadata": {},
     "output_type": "display_data"
    }
   ],
   "source": [
    "df_clean_n = df_clean.loc[df[\"Lat\"] > 0, :]\n",
    "x_values = df_clean_n[\"Lat\"]\n",
    "y_values = df_clean_n[\"Cloudiness\"]\n",
    "(slope, intercept, rvalue, pvalue, stderr) = linregress(x_values, y_values)\n",
    "regress_values = x_values * slope + intercept\n",
    "line_eq = \"y = \" + str(round(slope, 2)) + \"x + \" + str(round(intercept, 2))\n",
    "plt.scatter(x_values, y_values)\n",
    "plt.plot(x_values, regress_values, \"r-\")\n",
    "plt.annotate(line_eq, (6, 10), fontsize=15, color=\"red\")\n",
    "plt.xlabel(\"Latitude\")\n",
    "plt.ylabel(\"Cloudiness\")\n",
    "print(f\"The r-squared is: {rvalue**2}\")\n",
    "plt.show()"
   ]
  },
  {
   "cell_type": "code",
   "execution_count": 33,
   "id": "947ff20d",
   "metadata": {},
   "outputs": [
    {
     "name": "stdout",
     "output_type": "stream",
     "text": [
      "The r-squared is: 0.10779075710380308\n"
     ]
    },
    {
     "data": {
      "image/png": "[encoded data removed]",
      "text/plain": [
       "<Figure size 432x288 with 1 Axes>"
      ]
     },
     "metadata": {
      "needs_background": "light"
     },
     "output_type": "display_data"
    },
    {
     "data": {
      "application/javascript": [
       "\n",
       "            setTimeout(function() {\n",
       "                var nbb_cell_id = 33;\n",
       "                var nbb_unformatted_code = \"df_clean_s = df_clean.loc[df[\\\"Lat\\\"] < 0, :]\\nx_values = df_clean_s[\\\"Lat\\\"]\\ny_values = df_clean_s[\\\"Cloudiness\\\"]\\n(slope, intercept, rvalue, pvalue, stderr) = linregress(x_values, y_values)\\nregress_values = x_values * slope + intercept\\nline_eq = \\\"y = \\\" + str(round(slope, 2)) + \\\"x + \\\" + str(round(intercept, 2))\\nplt.scatter(x_values, y_values)\\nplt.plot(x_values, regress_values, \\\"r-\\\")\\nplt.annotate(line_eq, (-50, 20), fontsize=15, color=\\\"red\\\")\\nplt.xlabel(\\\"Latitude\\\")\\nplt.ylabel(\\\"Cloudiness\\\")\\nprint(f\\\"The r-squared is: {rvalue**2}\\\")\\nplt.show()\";\n",
       "                var nbb_formatted_code = \"df_clean_s = df_clean.loc[df[\\\"Lat\\\"] < 0, :]\\nx_values = df_clean_s[\\\"Lat\\\"]\\ny_values = df_clean_s[\\\"Cloudiness\\\"]\\n(slope, intercept, rvalue, pvalue, stderr) = linregress(x_values, y_values)\\nregress_values = x_values * slope + intercept\\nline_eq = \\\"y = \\\" + str(round(slope, 2)) + \\\"x + \\\" + str(round(intercept, 2))\\nplt.scatter(x_values, y_values)\\nplt.plot(x_values, regress_values, \\\"r-\\\")\\nplt.annotate(line_eq, (-50, 20), fontsize=15, color=\\\"red\\\")\\nplt.xlabel(\\\"Latitude\\\")\\nplt.ylabel(\\\"Cloudiness\\\")\\nprint(f\\\"The r-squared is: {rvalue**2}\\\")\\nplt.show()\";\n",
       "                var nbb_cells = Jupyter.notebook.get_cells();\n",
       "                for (var i = 0; i < nbb_cells.length; ++i) {\n",
       "                    if (nbb_cells[i].input_prompt_number == nbb_cell_id) {\n",
       "                        if (nbb_cells[i].get_text() == nbb_unformatted_code) {\n",
       "                             nbb_cells[i].set_text(nbb_formatted_code);\n",
       "                        }\n",
       "                        break;\n",
       "                    }\n",
       "                }\n",
       "            }, 500);\n",
       "            "
      ],
      "text/plain": [
       "<IPython.core.display.Javascript object>"
      ]
     },
     "metadata": {},
     "output_type": "display_data"
    }
   ],
   "source": [
    "df_clean_s = df_clean.loc[df[\"Lat\"] < 0, :]\n",
    "x_values = df_clean_s[\"Lat\"]\n",
    "y_values = df_clean_s[\"Cloudiness\"]\n",
    "(slope, intercept, rvalue, pvalue, stderr) = linregress(x_values, y_values)\n",
    "regress_values = x_values * slope + intercept\n",
    "line_eq = \"y = \" + str(round(slope, 2)) + \"x + \" + str(round(intercept, 2))\n",
    "plt.scatter(x_values, y_values)\n",
    "plt.plot(x_values, regress_values, \"r-\")\n",
    "plt.annotate(line_eq, (-50, 20), fontsize=15, color=\"red\")\n",
    "plt.xlabel(\"Latitude\")\n",
    "plt.ylabel(\"Cloudiness\")\n",
    "print(f\"The r-squared is: {rvalue**2}\")\n",
    "plt.show()"
   ]
  },
  {
   "cell_type": "code",
   "execution_count": 34,
   "id": "450d9051",
   "metadata": {},
   "outputs": [
    {
     "name": "stdout",
     "output_type": "stream",
     "text": [
      "The r-squared is: 0.031978891826780584\n"
     ]
    },
    {
     "data": {
      "image/png": "[encoded data removed]",
      "text/plain": [
       "<Figure size 432x288 with 1 Axes>"
      ]
     },
     "metadata": {
      "needs_background": "light"
     },
     "output_type": "display_data"
    },
    {
     "data": {
      "application/javascript": [
       "\n",
       "            setTimeout(function() {\n",
       "                var nbb_cell_id = 34;\n",
       "                var nbb_unformatted_code = \"df_clean_n = df_clean.loc[df[\\\"Lat\\\"] > 0, :]\\nx_values = df_clean_n[\\\"Lat\\\"]\\ny_values = df_clean_n[\\\" Wind Speed\\\"]\\n(slope, intercept, rvalue, pvalue, stderr) = linregress(x_values, y_values)\\nregress_values = x_values * slope + intercept\\nline_eq = \\\"y = \\\" + str(round(slope, 2)) + \\\"x + \\\" + str(round(intercept, 2))\\nplt.scatter(x_values, y_values)\\nplt.plot(x_values, regress_values, \\\"r-\\\")\\nplt.annotate(line_eq, (6, 10), fontsize=15, color=\\\"red\\\")\\nplt.xlabel(\\\"Latitude\\\")\\nplt.ylabel(\\\"Wind Speed\\\")\\nprint(f\\\"The r-squared is: {rvalue**2}\\\")\\nplt.show()\";\n",
       "                var nbb_formatted_code = \"df_clean_n = df_clean.loc[df[\\\"Lat\\\"] > 0, :]\\nx_values = df_clean_n[\\\"Lat\\\"]\\ny_values = df_clean_n[\\\" Wind Speed\\\"]\\n(slope, intercept, rvalue, pvalue, stderr) = linregress(x_values, y_values)\\nregress_values = x_values * slope + intercept\\nline_eq = \\\"y = \\\" + str(round(slope, 2)) + \\\"x + \\\" + str(round(intercept, 2))\\nplt.scatter(x_values, y_values)\\nplt.plot(x_values, regress_values, \\\"r-\\\")\\nplt.annotate(line_eq, (6, 10), fontsize=15, color=\\\"red\\\")\\nplt.xlabel(\\\"Latitude\\\")\\nplt.ylabel(\\\"Wind Speed\\\")\\nprint(f\\\"The r-squared is: {rvalue**2}\\\")\\nplt.show()\";\n",
       "                var nbb_cells = Jupyter.notebook.get_cells();\n",
       "                for (var i = 0; i < nbb_cells.length; ++i) {\n",
       "                    if (nbb_cells[i].input_prompt_number == nbb_cell_id) {\n",
       "                        if (nbb_cells[i].get_text() == nbb_unformatted_code) {\n",
       "                             nbb_cells[i].set_text(nbb_formatted_code);\n",
       "                        }\n",
       "                        break;\n",
       "                    }\n",
       "                }\n",
       "            }, 500);\n",
       "            "
      ],
      "text/plain": [
       "<IPython.core.display.Javascript object>"
      ]
     },
     "metadata": {},
     "output_type": "display_data"
    }
   ],
   "source": [
    "df_clean_n = df_clean.loc[df[\"Lat\"] > 0, :]\n",
    "x_values = df_clean_n[\"Lat\"]\n",
    "y_values = df_clean_n[\" Wind Speed\"]\n",
    "(slope, intercept, rvalue, pvalue, stderr) = linregress(x_values, y_values)\n",
    "regress_values = x_values * slope + intercept\n",
    "line_eq = \"y = \" + str(round(slope, 2)) + \"x + \" + str(round(intercept, 2))\n",
    "plt.scatter(x_values, y_values)\n",
    "plt.plot(x_values, regress_values, \"r-\")\n",
    "plt.annotate(line_eq, (6, 10), fontsize=15, color=\"red\")\n",
    "plt.xlabel(\"Latitude\")\n",
    "plt.ylabel(\"Wind Speed\")\n",
    "print(f\"The r-squared is: {rvalue**2}\")\n",
    "plt.show()"
   ]
  },
  {
   "cell_type": "code",
   "execution_count": 35,
   "id": "1fb0225e",
   "metadata": {},
   "outputs": [
    {
     "name": "stdout",
     "output_type": "stream",
     "text": [
      "The r-squared is: 0.1144048846561878\n"
     ]
    },
    {
     "data": {
      "image/png": "[encoded data removed]",
      "text/plain": [
       "<Figure size 432x288 with 1 Axes>"
      ]
     },
     "metadata": {
      "needs_background": "light"
     },
     "output_type": "display_data"
    },
    {
     "data": {
      "application/javascript": [
       "\n",
       "            setTimeout(function() {\n",
       "                var nbb_cell_id = 35;\n",
       "                var nbb_unformatted_code = \"df_clean_s = df_clean.loc[df[\\\"Lat\\\"] < 0, :]\\nx_values = df_clean_s[\\\"Lat\\\"]\\ny_values = df_clean_s[\\\" Wind Speed\\\"]\\n(slope, intercept, rvalue, pvalue, stderr) = linregress(x_values, y_values)\\nregress_values = x_values * slope + intercept\\nline_eq = \\\"y = \\\" + str(round(slope, 2)) + \\\"x + \\\" + str(round(intercept, 2))\\nplt.scatter(x_values, y_values)\\nplt.plot(x_values, regress_values, \\\"r-\\\")\\nplt.annotate(line_eq, (-40, 6), fontsize=15, color=\\\"red\\\")\\nplt.xlabel(\\\"Latitude\\\")\\nplt.ylabel(\\\"Wind Speed\\\")\\nprint(f\\\"The r-squared is: {rvalue**2}\\\")\\nplt.show()\";\n",
       "                var nbb_formatted_code = \"df_clean_s = df_clean.loc[df[\\\"Lat\\\"] < 0, :]\\nx_values = df_clean_s[\\\"Lat\\\"]\\ny_values = df_clean_s[\\\" Wind Speed\\\"]\\n(slope, intercept, rvalue, pvalue, stderr) = linregress(x_values, y_values)\\nregress_values = x_values * slope + intercept\\nline_eq = \\\"y = \\\" + str(round(slope, 2)) + \\\"x + \\\" + str(round(intercept, 2))\\nplt.scatter(x_values, y_values)\\nplt.plot(x_values, regress_values, \\\"r-\\\")\\nplt.annotate(line_eq, (-40, 6), fontsize=15, color=\\\"red\\\")\\nplt.xlabel(\\\"Latitude\\\")\\nplt.ylabel(\\\"Wind Speed\\\")\\nprint(f\\\"The r-squared is: {rvalue**2}\\\")\\nplt.show()\";\n",
       "                var nbb_cells = Jupyter.notebook.get_cells();\n",
       "                for (var i = 0; i < nbb_cells.length; ++i) {\n",
       "                    if (nbb_cells[i].input_prompt_number == nbb_cell_id) {\n",
       "                        if (nbb_cells[i].get_text() == nbb_unformatted_code) {\n",
       "                             nbb_cells[i].set_text(nbb_formatted_code);\n",
       "                        }\n",
       "                        break;\n",
       "                    }\n",
       "                }\n",
       "            }, 500);\n",
       "            "
      ],
      "text/plain": [
       "<IPython.core.display.Javascript object>"
      ]
     },
     "metadata": {},
     "output_type": "display_data"
    }
   ],
   "source": [
    "df_clean_s = df_clean.loc[df[\"Lat\"] < 0, :]\n",
    "x_values = df_clean_s[\"Lat\"]\n",
    "y_values = df_clean_s[\" Wind Speed\"]\n",
    "(slope, intercept, rvalue, pvalue, stderr) = linregress(x_values, y_values)\n",
    "regress_values = x_values * slope + intercept\n",
    "line_eq = \"y = \" + str(round(slope, 2)) + \"x + \" + str(round(intercept, 2))\n",
    "plt.scatter(x_values, y_values)\n",
    "plt.plot(x_values, regress_values, \"r-\")\n",
    "plt.annotate(line_eq, (-40, 6), fontsize=15, color=\"red\")\n",
    "plt.xlabel(\"Latitude\")\n",
    "plt.ylabel(\"Wind Speed\")\n",
    "print(f\"The r-squared is: {rvalue**2}\")\n",
    "plt.show()"
   ]
  },
  {
   "cell_type": "code",
   "execution_count": null,
   "id": "c75499c7",
   "metadata": {},
   "outputs": [],
   "source": []
  },
  {
   "cell_type": "code",
   "execution_count": null,
   "id": "df03c4b6",
   "metadata": {},
   "outputs": [],
   "source": []
  }
 ],
 "metadata": {
  "kernelspec": {
   "display_name": "Python 3.9.7 ('base': conda)",
   "language": "python",
   "name": "python397jvsc74a57bd04f939eee113f5e89652435c47d6206c39604679cff2d82c28a29ac220da2d15d"
  },
  "language_info": {
   "codemirror_mode": {
    "name": "ipython",
    "version": 3
   },
   "file_extension": ".py",
   "mimetype": "text/x-python",
   "name": "python",
   "nbconvert_exporter": "python",
   "pygments_lexer": "ipython3",
   "version": "3.9.7"
  }
 },
 "nbformat": 4,
 "nbformat_minor": 5
}
