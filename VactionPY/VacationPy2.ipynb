{
 "cells": [
  {
   "cell_type": "code",
   "execution_count": 1,
   "id": "17288083",
   "metadata": {},
   "outputs": [],
   "source": [
    "from api_key import gkey\n"
   ]
  },
  {
   "cell_type": "code",
   "execution_count": 2,
   "id": "18c69887",
   "metadata": {},
   "outputs": [
    {
     "data": {
      "application/javascript": [
       "\n",
       "            setTimeout(function() {\n",
       "                var nbb_cell_id = 2;\n",
       "                var nbb_unformatted_code = \"%load_ext nb_black\\nimport warnings\\nwarnings.filterwarnings(\\\"ignore\\\")\\n# ! jupyter nbextension enable --py --sys-prefix widgetsnbextension\\n# ! jupyter nbextension enable --py --sys-prefix gmaps\";\n",
       "                var nbb_formatted_code = \"%load_ext nb_black\\nimport warnings\\n\\nwarnings.filterwarnings(\\\"ignore\\\")\\n# ! jupyter nbextension enable --py --sys-prefix widgetsnbextension\\n# ! jupyter nbextension enable --py --sys-prefix gmaps\";\n",
       "                var nbb_cells = Jupyter.notebook.get_cells();\n",
       "                for (var i = 0; i < nbb_cells.length; ++i) {\n",
       "                    if (nbb_cells[i].input_prompt_number == nbb_cell_id) {\n",
       "                        if (nbb_cells[i].get_text() == nbb_unformatted_code) {\n",
       "                             nbb_cells[i].set_text(nbb_formatted_code);\n",
       "                        }\n",
       "                        break;\n",
       "                    }\n",
       "                }\n",
       "            }, 500);\n",
       "            "
      ],
      "text/plain": [
       "<IPython.core.display.Javascript object>"
      ]
     },
     "metadata": {},
     "output_type": "display_data"
    }
   ],
   "source": [
    "%load_ext nb_black\n",
    "import warnings\n",
    "warnings.filterwarnings(\"ignore\")\n",
    "# ! jupyter nbextension enable --py --sys-prefix widgetsnbextension\n",
    "# ! jupyter nbextension enable --py --sys-prefix gmaps\n"
   ]
  },
  {
   "cell_type": "code",
   "execution_count": 3,
   "id": "75ebea6f",
   "metadata": {},
   "outputs": [
    {
     "data": {
      "application/javascript": [
       "\n",
       "            setTimeout(function() {\n",
       "                var nbb_cell_id = 3;\n",
       "                var nbb_unformatted_code = \"# !pip install gmaps\\nimport matplotlib.pyplot as plt\\nimport pandas as pd\\nimport numpy as np\\nimport requests\\nimport gmaps\\nimport os\\nfrom pprint import pprint\\n\\nfile = \\\"../output_data/cities.csv\\\"\\ndf = pd.read_csv(file)\";\n",
       "                var nbb_formatted_code = \"# !pip install gmaps\\nimport matplotlib.pyplot as plt\\nimport pandas as pd\\nimport numpy as np\\nimport requests\\nimport gmaps\\nimport os\\nfrom pprint import pprint\\n\\nfile = \\\"../output_data/cities.csv\\\"\\ndf = pd.read_csv(file)\";\n",
       "                var nbb_cells = Jupyter.notebook.get_cells();\n",
       "                for (var i = 0; i < nbb_cells.length; ++i) {\n",
       "                    if (nbb_cells[i].input_prompt_number == nbb_cell_id) {\n",
       "                        if (nbb_cells[i].get_text() == nbb_unformatted_code) {\n",
       "                             nbb_cells[i].set_text(nbb_formatted_code);\n",
       "                        }\n",
       "                        break;\n",
       "                    }\n",
       "                }\n",
       "            }, 500);\n",
       "            "
      ],
      "text/plain": [
       "<IPython.core.display.Javascript object>"
      ]
     },
     "metadata": {},
     "output_type": "display_data"
    }
   ],
   "source": [
    "# !pip install gmaps\n",
    "import matplotlib.pyplot as plt\n",
    "import pandas as pd\n",
    "import numpy as np\n",
    "import requests\n",
    "import gmaps\n",
    "import os\n",
    "from pprint import pprint\n",
    "\n",
    "file = \"../output_data/cities.csv\"\n",
    "df = pd.read_csv(file)\n"
   ]
  },
  {
   "cell_type": "code",
   "execution_count": 26,
   "id": "10ebe15f",
   "metadata": {},
   "outputs": [
    {
     "data": {
      "text/plain": [
       "City           3\n",
       "Lat            3\n",
       "Lng            3\n",
       "Max Temp       3\n",
       "Humidity       3\n",
       "Cloudiness     3\n",
       " Wind Speed    3\n",
       "Country        3\n",
       "Date           3\n",
       "dtype: int64"
      ]
     },
     "execution_count": 26,
     "metadata": {},
     "output_type": "execute_result"
    },
    {
     "data": {
      "application/javascript": [
       "\n",
       "            setTimeout(function() {\n",
       "                var nbb_cell_id = 26;\n",
       "                var nbb_unformatted_code = \"ideal_location = df.loc[(df[\\\"Max Temp\\\"] < 77) & (df[\\\"Max Temp\\\"] > 75), :]\\nideal_location = df.loc[(df[\\\"Cloudiness\\\"] == 0) & (df[\\\" Wind Speed\\\"] < 1), :]\\nideal_location.dropna()\\nideal_location = ideal_location.reset_index(drop=True)\\nideal_location.count()\";\n",
       "                var nbb_formatted_code = \"ideal_location = df.loc[(df[\\\"Max Temp\\\"] < 77) & (df[\\\"Max Temp\\\"] > 75), :]\\nideal_location = df.loc[(df[\\\"Cloudiness\\\"] == 0) & (df[\\\" Wind Speed\\\"] < 1), :]\\nideal_location.dropna()\\nideal_location = ideal_location.reset_index(drop=True)\\nideal_location.count()\";\n",
       "                var nbb_cells = Jupyter.notebook.get_cells();\n",
       "                for (var i = 0; i < nbb_cells.length; ++i) {\n",
       "                    if (nbb_cells[i].input_prompt_number == nbb_cell_id) {\n",
       "                        if (nbb_cells[i].get_text() == nbb_unformatted_code) {\n",
       "                             nbb_cells[i].set_text(nbb_formatted_code);\n",
       "                        }\n",
       "                        break;\n",
       "                    }\n",
       "                }\n",
       "            }, 500);\n",
       "            "
      ],
      "text/plain": [
       "<IPython.core.display.Javascript object>"
      ]
     },
     "metadata": {},
     "output_type": "display_data"
    }
   ],
   "source": [
    "ideal_location = df.loc[(df[\"Max Temp\"] < 77) & (df[\"Max Temp\"] > 75), :]\n",
    "ideal_location = df.loc[(df[\"Cloudiness\"] == 0) & (df[\" Wind Speed\"] < 1), :]\n",
    "ideal_location.dropna()\n",
    "ideal_location = ideal_location.reset_index(drop=True)\n",
    "ideal_location.count()"
   ]
  },
  {
   "cell_type": "code",
   "execution_count": 27,
   "id": "4b5202b4",
   "metadata": {
    "scrolled": false
   },
   "outputs": [
    {
     "data": {
      "text/html": [
       "<div>\n",
       "<style scoped>\n",
       "    .dataframe tbody tr th:only-of-type {\n",
       "        vertical-align: middle;\n",
       "    }\n",
       "\n",
       "    .dataframe tbody tr th {\n",
       "        vertical-align: top;\n",
       "    }\n",
       "\n",
       "    .dataframe thead th {\n",
       "        text-align: right;\n",
       "    }\n",
       "</style>\n",
       "<table border=\"1\" class=\"dataframe\">\n",
       "  <thead>\n",
       "    <tr style=\"text-align: right;\">\n",
       "      <th></th>\n",
       "      <th>City</th>\n",
       "      <th>Lat</th>\n",
       "      <th>Lng</th>\n",
       "      <th>Max Temp</th>\n",
       "      <th>Humidity</th>\n",
       "      <th>Cloudiness</th>\n",
       "      <th>Wind Speed</th>\n",
       "      <th>Country</th>\n",
       "      <th>Date</th>\n",
       "    </tr>\n",
       "  </thead>\n",
       "  <tbody>\n",
       "    <tr>\n",
       "      <th>0</th>\n",
       "      <td>Karachi</td>\n",
       "      <td>24.9056</td>\n",
       "      <td>67.0822</td>\n",
       "      <td>26.90</td>\n",
       "      <td>29</td>\n",
       "      <td>0</td>\n",
       "      <td>0.0</td>\n",
       "      <td>PK</td>\n",
       "      <td>1645080743</td>\n",
       "    </tr>\n",
       "    <tr>\n",
       "      <th>1</th>\n",
       "      <td>North Bend</td>\n",
       "      <td>43.4065</td>\n",
       "      <td>-124.2243</td>\n",
       "      <td>6.07</td>\n",
       "      <td>99</td>\n",
       "      <td>0</td>\n",
       "      <td>0.0</td>\n",
       "      <td>US</td>\n",
       "      <td>1645080802</td>\n",
       "    </tr>\n",
       "  </tbody>\n",
       "</table>\n",
       "</div>"
      ],
      "text/plain": [
       "         City      Lat       Lng  Max Temp  Humidity  Cloudiness   Wind Speed  \\\n",
       "0     Karachi  24.9056   67.0822     26.90        29           0          0.0   \n",
       "1  North Bend  43.4065 -124.2243      6.07        99           0          0.0   \n",
       "\n",
       "  Country        Date  \n",
       "0      PK  1645080743  \n",
       "1      US  1645080802  "
      ]
     },
     "execution_count": 27,
     "metadata": {},
     "output_type": "execute_result"
    },
    {
     "data": {
      "application/javascript": [
       "\n",
       "            setTimeout(function() {\n",
       "                var nbb_cell_id = 27;\n",
       "                var nbb_unformatted_code = \"ideal_location.head(2)\";\n",
       "                var nbb_formatted_code = \"ideal_location.head(2)\";\n",
       "                var nbb_cells = Jupyter.notebook.get_cells();\n",
       "                for (var i = 0; i < nbb_cells.length; ++i) {\n",
       "                    if (nbb_cells[i].input_prompt_number == nbb_cell_id) {\n",
       "                        if (nbb_cells[i].get_text() == nbb_unformatted_code) {\n",
       "                             nbb_cells[i].set_text(nbb_formatted_code);\n",
       "                        }\n",
       "                        break;\n",
       "                    }\n",
       "                }\n",
       "            }, 500);\n",
       "            "
      ],
      "text/plain": [
       "<IPython.core.display.Javascript object>"
      ]
     },
     "metadata": {},
     "output_type": "display_data"
    }
   ],
   "source": [
    "ideal_location.head(2)\n"
   ]
  },
  {
   "cell_type": "code",
   "execution_count": 32,
   "id": "d4e1ff00",
   "metadata": {},
   "outputs": [
    {
     "data": {
      "application/javascript": [
       "\n",
       "            setTimeout(function() {\n",
       "                var nbb_cell_id = 32;\n",
       "                var nbb_unformatted_code = \"hotel_df = pd.DataFrame()\\nbase_url = \\\"https://maps.googleapis.com/maps/api/place/nearbysearch/json\\\"\\nparams = {\\n    \\\"location\\\": \\\"\\\",\\n    \\\"radius\\\": \\\"50000\\\",\\n    \\\"keyword\\\": \\\"hotel\\\",\\n    \\\"key\\\": gkey,\\n}\\nlat = [lat for lat in ideal_location[\\\"Lat\\\"]]\\nlng = [lng for lng in ideal_location[\\\"Lng\\\"]]\\n\\nfor index, row in ideal_location.iterrows():\\n\\n    get_location = str(lat[index]) + \\\",\\\" + str(lng[index])\\n    params[\\\"location\\\"] = get_location\\n    response = requests.get(base_url, params=params).json()\\n    results = response[\\\"results\\\"]\\n    try:\\n        hotel_df.loc[index, \\\"Hotel Name\\\"] = results[0][\\\"name\\\"]\\n        hotel_df.loc[index, \\\"City\\\"] = row[\\\"City\\\"]\\n        hotel_df.loc[index, \\\"Country\\\"] = row[\\\"Country\\\"]\\n        hotel_df.loc[index, \\\"Lat\\\"] = results[0][\\\"geometry\\\"][\\\"location\\\"][\\\"lat\\\"]\\n        hotel_df.loc[index, \\\"Lng\\\"] = results[0][\\\"geometry\\\"][\\\"location\\\"][\\\"lng\\\"]\\n    except (KeyError, IndexError):\\n        continue\";\n",
       "                var nbb_formatted_code = \"hotel_df = pd.DataFrame()\\nbase_url = \\\"https://maps.googleapis.com/maps/api/place/nearbysearch/json\\\"\\nparams = {\\n    \\\"location\\\": \\\"\\\",\\n    \\\"radius\\\": \\\"50000\\\",\\n    \\\"keyword\\\": \\\"hotel\\\",\\n    \\\"key\\\": gkey,\\n}\\nlat = [lat for lat in ideal_location[\\\"Lat\\\"]]\\nlng = [lng for lng in ideal_location[\\\"Lng\\\"]]\\n\\nfor index, row in ideal_location.iterrows():\\n\\n    get_location = str(lat[index]) + \\\",\\\" + str(lng[index])\\n    params[\\\"location\\\"] = get_location\\n    response = requests.get(base_url, params=params).json()\\n    results = response[\\\"results\\\"]\\n    try:\\n        hotel_df.loc[index, \\\"Hotel Name\\\"] = results[0][\\\"name\\\"]\\n        hotel_df.loc[index, \\\"City\\\"] = row[\\\"City\\\"]\\n        hotel_df.loc[index, \\\"Country\\\"] = row[\\\"Country\\\"]\\n        hotel_df.loc[index, \\\"Lat\\\"] = results[0][\\\"geometry\\\"][\\\"location\\\"][\\\"lat\\\"]\\n        hotel_df.loc[index, \\\"Lng\\\"] = results[0][\\\"geometry\\\"][\\\"location\\\"][\\\"lng\\\"]\\n    except (KeyError, IndexError):\\n        continue\";\n",
       "                var nbb_cells = Jupyter.notebook.get_cells();\n",
       "                for (var i = 0; i < nbb_cells.length; ++i) {\n",
       "                    if (nbb_cells[i].input_prompt_number == nbb_cell_id) {\n",
       "                        if (nbb_cells[i].get_text() == nbb_unformatted_code) {\n",
       "                             nbb_cells[i].set_text(nbb_formatted_code);\n",
       "                        }\n",
       "                        break;\n",
       "                    }\n",
       "                }\n",
       "            }, 500);\n",
       "            "
      ],
      "text/plain": [
       "<IPython.core.display.Javascript object>"
      ]
     },
     "metadata": {},
     "output_type": "display_data"
    }
   ],
   "source": [
    "hotel_df = pd.DataFrame()\n",
    "base_url = \"https://maps.googleapis.com/maps/api/place/nearbysearch/json\"\n",
    "params = {\n",
    "    \"location\": \"\",\n",
    "    \"radius\": \"50000\",\n",
    "    \"keyword\": \"hotel\",\n",
    "    \"key\": gkey,\n",
    "}\n",
    "lat = [lat for lat in ideal_location[\"Lat\"]]\n",
    "lng = [lng for lng in ideal_location[\"Lng\"]]\n",
    "\n",
    "for index, row in ideal_location.iterrows():\n",
    "\n",
    "    get_location = str(lat[index]) + \",\" + str(lng[index])\n",
    "    params[\"location\"] = get_location\n",
    "    response = requests.get(base_url, params=params).json()\n",
    "    results = response[\"results\"]\n",
    "    try:\n",
    "        hotel_df.loc[index, \"Hotel Name\"] = results[0][\"name\"]\n",
    "        hotel_df.loc[index, \"City\"] = row[\"City\"]\n",
    "        hotel_df.loc[index, \"Country\"] = row[\"Country\"]\n",
    "        hotel_df.loc[index, \"Lat\"] = results[0][\"geometry\"][\"location\"][\"lat\"]\n",
    "        hotel_df.loc[index, \"Lng\"] = results[0][\"geometry\"][\"location\"][\"lng\"]\n",
    "    except (KeyError, IndexError):\n",
    "        continue"
   ]
  },
  {
   "cell_type": "code",
   "execution_count": 33,
   "id": "d437bdb5",
   "metadata": {},
   "outputs": [
    {
     "data": {
      "text/html": [
       "<div>\n",
       "<style scoped>\n",
       "    .dataframe tbody tr th:only-of-type {\n",
       "        vertical-align: middle;\n",
       "    }\n",
       "\n",
       "    .dataframe tbody tr th {\n",
       "        vertical-align: top;\n",
       "    }\n",
       "\n",
       "    .dataframe thead th {\n",
       "        text-align: right;\n",
       "    }\n",
       "</style>\n",
       "<table border=\"1\" class=\"dataframe\">\n",
       "  <thead>\n",
       "    <tr style=\"text-align: right;\">\n",
       "      <th></th>\n",
       "      <th>Hotel Name</th>\n",
       "      <th>City</th>\n",
       "      <th>Country</th>\n",
       "      <th>Lat</th>\n",
       "      <th>Lng</th>\n",
       "    </tr>\n",
       "  </thead>\n",
       "  <tbody>\n",
       "    <tr>\n",
       "      <th>0</th>\n",
       "      <td>Beach Luxury Hotel</td>\n",
       "      <td>Karachi</td>\n",
       "      <td>PK</td>\n",
       "      <td>24.843392</td>\n",
       "      <td>66.995550</td>\n",
       "    </tr>\n",
       "    <tr>\n",
       "      <th>1</th>\n",
       "      <td>Red Lion Hotel Coos Bay</td>\n",
       "      <td>North Bend</td>\n",
       "      <td>US</td>\n",
       "      <td>43.377778</td>\n",
       "      <td>-124.216944</td>\n",
       "    </tr>\n",
       "    <tr>\n",
       "      <th>2</th>\n",
       "      <td>Hospitality Palace Hotel</td>\n",
       "      <td>Kifrī</td>\n",
       "      <td>IQ</td>\n",
       "      <td>34.932714</td>\n",
       "      <td>44.595047</td>\n",
       "    </tr>\n",
       "  </tbody>\n",
       "</table>\n",
       "</div>"
      ],
      "text/plain": [
       "                 Hotel Name        City Country        Lat         Lng\n",
       "0        Beach Luxury Hotel     Karachi      PK  24.843392   66.995550\n",
       "1   Red Lion Hotel Coos Bay  North Bend      US  43.377778 -124.216944\n",
       "2  Hospitality Palace Hotel       Kifrī      IQ  34.932714   44.595047"
      ]
     },
     "execution_count": 33,
     "metadata": {},
     "output_type": "execute_result"
    },
    {
     "data": {
      "application/javascript": [
       "\n",
       "            setTimeout(function() {\n",
       "                var nbb_cell_id = 33;\n",
       "                var nbb_unformatted_code = \"hotel_df\";\n",
       "                var nbb_formatted_code = \"hotel_df\";\n",
       "                var nbb_cells = Jupyter.notebook.get_cells();\n",
       "                for (var i = 0; i < nbb_cells.length; ++i) {\n",
       "                    if (nbb_cells[i].input_prompt_number == nbb_cell_id) {\n",
       "                        if (nbb_cells[i].get_text() == nbb_unformatted_code) {\n",
       "                             nbb_cells[i].set_text(nbb_formatted_code);\n",
       "                        }\n",
       "                        break;\n",
       "                    }\n",
       "                }\n",
       "            }, 500);\n",
       "            "
      ],
      "text/plain": [
       "<IPython.core.display.Javascript object>"
      ]
     },
     "metadata": {},
     "output_type": "display_data"
    }
   ],
   "source": [
    "hotel_df"
   ]
  },
  {
   "cell_type": "code",
   "execution_count": 29,
   "id": "dbba90e1",
   "metadata": {},
   "outputs": [
    {
     "data": {
      "application/javascript": [
       "\n",
       "            setTimeout(function() {\n",
       "                var nbb_cell_id = 29;\n",
       "                var nbb_unformatted_code = \"# base_url = \\\"https://maps.googleapis.com/maps/api/place/nearbysearch/json\\\"\\n# params = {\\n#     \\\"location\\\": \\\"39.952583,-75.16522\\\",\\n#     \\\"radius\\\": \\\"50000\\\",\\n#     \\\"keyword\\\": \\\"hotel\\\",\\n#     \\\"key\\\": gkey,\\n# }\\n# response = requests.get(base_url, params=params).json()\\n# results = response[\\\"results\\\"]\\n# results[0][\\\"geometry\\\"][\\\"location\\\"]\";\n",
       "                var nbb_formatted_code = \"# base_url = \\\"https://maps.googleapis.com/maps/api/place/nearbysearch/json\\\"\\n# params = {\\n#     \\\"location\\\": \\\"39.952583,-75.16522\\\",\\n#     \\\"radius\\\": \\\"50000\\\",\\n#     \\\"keyword\\\": \\\"hotel\\\",\\n#     \\\"key\\\": gkey,\\n# }\\n# response = requests.get(base_url, params=params).json()\\n# results = response[\\\"results\\\"]\\n# results[0][\\\"geometry\\\"][\\\"location\\\"]\";\n",
       "                var nbb_cells = Jupyter.notebook.get_cells();\n",
       "                for (var i = 0; i < nbb_cells.length; ++i) {\n",
       "                    if (nbb_cells[i].input_prompt_number == nbb_cell_id) {\n",
       "                        if (nbb_cells[i].get_text() == nbb_unformatted_code) {\n",
       "                             nbb_cells[i].set_text(nbb_formatted_code);\n",
       "                        }\n",
       "                        break;\n",
       "                    }\n",
       "                }\n",
       "            }, 500);\n",
       "            "
      ],
      "text/plain": [
       "<IPython.core.display.Javascript object>"
      ]
     },
     "metadata": {},
     "output_type": "display_data"
    }
   ],
   "source": [
    "# base_url = \"https://maps.googleapis.com/maps/api/place/nearbysearch/json\"\n",
    "# params = {\n",
    "#     \"location\": \"39.952583,-75.16522\",\n",
    "#     \"radius\": \"50000\",\n",
    "#     \"keyword\": \"hotel\",\n",
    "#     \"key\": gkey,\n",
    "# }\n",
    "# response = requests.get(base_url, params=params).json()\n",
    "# results = response[\"results\"]\n",
    "# results[0][\"geometry\"][\"location\"]"
   ]
  },
  {
   "cell_type": "code",
   "execution_count": 52,
   "id": "f8fafd99",
   "metadata": {},
   "outputs": [
    {
     "data": {
      "application/vnd.jupyter.widget-view+json": {
       "model_id": "933b2122aff44d79be40e9e726ff480c",
       "version_major": 2,
       "version_minor": 0
      },
      "text/plain": [
       "Figure(layout=FigureLayout(height='420px'))"
      ]
     },
     "metadata": {},
     "output_type": "display_data"
    },
    {
     "data": {
      "application/javascript": [
       "\n",
       "            setTimeout(function() {\n",
       "                var nbb_cell_id = 52;\n",
       "                var nbb_unformatted_code = \"gmaps.configure(gkey)\\nintensity = df[\\\"Humidity\\\"].max()\\nfig = gmaps.figure(zoom_level=2, center=(41.4036007, -95.0138776),)\\nheatmap = gmaps.heatmap_layer(df[[\\\"Lat\\\", \\\"Lng\\\"]], weights=df[\\\"Humidity\\\"],)\\nheatmap.max_intensity = intensity\\nheatmap.point_radius = 15\\nfig.add_layer(heatmap)\\nfig\";\n",
       "                var nbb_formatted_code = \"gmaps.configure(gkey)\\nintensity = df[\\\"Humidity\\\"].max()\\nfig = gmaps.figure(zoom_level=2, center=(41.4036007, -95.0138776),)\\nheatmap = gmaps.heatmap_layer(df[[\\\"Lat\\\", \\\"Lng\\\"]], weights=df[\\\"Humidity\\\"],)\\nheatmap.max_intensity = intensity\\nheatmap.point_radius = 15\\nfig.add_layer(heatmap)\\nfig\";\n",
       "                var nbb_cells = Jupyter.notebook.get_cells();\n",
       "                for (var i = 0; i < nbb_cells.length; ++i) {\n",
       "                    if (nbb_cells[i].input_prompt_number == nbb_cell_id) {\n",
       "                        if (nbb_cells[i].get_text() == nbb_unformatted_code) {\n",
       "                             nbb_cells[i].set_text(nbb_formatted_code);\n",
       "                        }\n",
       "                        break;\n",
       "                    }\n",
       "                }\n",
       "            }, 500);\n",
       "            "
      ],
      "text/plain": [
       "<IPython.core.display.Javascript object>"
      ]
     },
     "metadata": {},
     "output_type": "display_data"
    }
   ],
   "source": [
    "gmaps.configure(gkey)\n",
    "intensity = df[\"Humidity\"].max()\n",
    "fig = gmaps.figure(zoom_level=2, center=(41.4036007, -95.0138776),)\n",
    "heatmap = gmaps.heatmap_layer(df[[\"Lat\", \"Lng\"]], weights=df[\"Humidity\"],)\n",
    "heatmap.max_intensity = intensity\n",
    "heatmap.point_radius = 15\n",
    "fig.add_layer(heatmap)\n",
    "fig\n"
   ]
  },
  {
   "cell_type": "code",
   "execution_count": 53,
   "id": "eee60ae4",
   "metadata": {},
   "outputs": [
    {
     "data": {
      "application/vnd.jupyter.widget-view+json": {
       "model_id": "933b2122aff44d79be40e9e726ff480c",
       "version_major": 2,
       "version_minor": 0
      },
      "text/plain": [
       "Figure(layout=FigureLayout(height='420px'))"
      ]
     },
     "metadata": {},
     "output_type": "display_data"
    },
    {
     "data": {
      "application/javascript": [
       "\n",
       "            setTimeout(function() {\n",
       "                var nbb_cell_id = 53;\n",
       "                var nbb_unformatted_code = \"info_box_template = \\\"\\\"\\\"\\n<dl>\\n<dt>Name</dt><dd>{Hotel Name}</dd>\\n<dt>City</dt><dd>{City}</dd>\\n<dt>Country</dt><dd>{Country}</dd>\\n</dl>\\n\\\"\\\"\\\"\\nhotel_info = [info_box_template.format(**row) for index, row in hotel_df.iterrows()]\\nideal_location2 = hotel_df[[\\\"Lat\\\", \\\"Lng\\\"]]\\nlayers = gmaps.marker_layer(ideal_location2,info_box_content=hotel_info)\\nfig.add_layer(layers)\\nfig\";\n",
       "                var nbb_formatted_code = \"info_box_template = \\\"\\\"\\\"\\n<dl>\\n<dt>Name</dt><dd>{Hotel Name}</dd>\\n<dt>City</dt><dd>{City}</dd>\\n<dt>Country</dt><dd>{Country}</dd>\\n</dl>\\n\\\"\\\"\\\"\\nhotel_info = [info_box_template.format(**row) for index, row in hotel_df.iterrows()]\\nideal_location2 = hotel_df[[\\\"Lat\\\", \\\"Lng\\\"]]\\nlayers = gmaps.marker_layer(ideal_location2, info_box_content=hotel_info)\\nfig.add_layer(layers)\\nfig\";\n",
       "                var nbb_cells = Jupyter.notebook.get_cells();\n",
       "                for (var i = 0; i < nbb_cells.length; ++i) {\n",
       "                    if (nbb_cells[i].input_prompt_number == nbb_cell_id) {\n",
       "                        if (nbb_cells[i].get_text() == nbb_unformatted_code) {\n",
       "                             nbb_cells[i].set_text(nbb_formatted_code);\n",
       "                        }\n",
       "                        break;\n",
       "                    }\n",
       "                }\n",
       "            }, 500);\n",
       "            "
      ],
      "text/plain": [
       "<IPython.core.display.Javascript object>"
      ]
     },
     "metadata": {},
     "output_type": "display_data"
    }
   ],
   "source": [
    "info_box_template = \"\"\"\n",
    "<dl>\n",
    "<dt>Name</dt><dd>{Hotel Name}</dd>\n",
    "<dt>City</dt><dd>{City}</dd>\n",
    "<dt>Country</dt><dd>{Country}</dd>\n",
    "</dl>\n",
    "\"\"\"\n",
    "hotel_info = [info_box_template.format(**row) for index, row in hotel_df.iterrows()]\n",
    "ideal_location2 = hotel_df[[\"Lat\", \"Lng\"]]\n",
    "layers = gmaps.marker_layer(ideal_location2,info_box_content=hotel_info)\n",
    "fig.add_layer(layers)\n",
    "fig\n"
   ]
  },
  {
   "cell_type": "code",
   "execution_count": null,
   "id": "a1784197",
   "metadata": {},
   "outputs": [],
   "source": []
  }
 ],
 "metadata": {
  "kernelspec": {
   "display_name": "Python 3 (ipykernel)",
   "language": "python",
   "name": "python3"
  },
  "language_info": {
   "codemirror_mode": {
    "name": "ipython",
    "version": 3
   },
   "file_extension": ".py",
   "mimetype": "text/x-python",
   "name": "python",
   "nbconvert_exporter": "python",
   "pygments_lexer": "ipython3",
   "version": "3.9.7"
  }
 },
 "nbformat": 4,
 "nbformat_minor": 5
}
